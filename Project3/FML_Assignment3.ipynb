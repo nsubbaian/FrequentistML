{
  "nbformat": 4,
  "nbformat_minor": 0,
  "metadata": {
    "colab": {
      "name": "FML_Assignment3.ipynb",
      "provenance": [],
      "authorship_tag": "ABX9TyOR9WDM9W7+K7EoSqt9nghf",
      "include_colab_link": true
    },
    "kernelspec": {
      "name": "python3",
      "display_name": "Python 3"
    }
  },
  "cells": [
    {
      "cell_type": "markdown",
      "metadata": {
        "id": "view-in-github",
        "colab_type": "text"
      },
      "source": [
        "<a href=\"https://colab.research.google.com/github/nsubbaian/FrequentistML/blob/master/Project3/FML_Assignment3.ipynb\" target=\"_parent\"><img src=\"https://colab.research.google.com/assets/colab-badge.svg\" alt=\"Open In Colab\"/></a>"
      ]
    },
    {
      "cell_type": "markdown",
      "metadata": {
        "id": "R_oQMraZfDj0",
        "colab_type": "text"
      },
      "source": [
        "# **Frequentist Machine Learning Assigment 3: Model Assessment and Selection**\n",
        "\n",
        "Re-implement the example in section 7.10.2 using any simple, out of the box classifier\n",
        "(like K nearest neighbors from sci-kit). Reproduce the results for the incorrect and \n",
        "correct way of doing cross-validation.\n"
      ]
    },
    {
      "cell_type": "code",
      "metadata": {
        "id": "9GhNfRoqe82p",
        "colab_type": "code",
        "colab": {}
      },
      "source": [
        "import pandas as pd\n",
        "import numpy as np\n",
        "import matplotlib.pyplot as plt\n",
        "from sklearn import preprocessing\n",
        "import math\n",
        "\n"
      ],
      "execution_count": null,
      "outputs": []
    },
    {
      "cell_type": "markdown",
      "metadata": {
        "id": "1OwBjARiiNc_",
        "colab_type": "text"
      },
      "source": [
        "### Results for the incorrect way of doing cross-validation"
      ]
    },
    {
      "cell_type": "code",
      "metadata": {
        "id": "ZIYXgEdeiMhN",
        "colab_type": "code",
        "colab": {}
      },
      "source": [
        "# Screen the predictors: find a subset of “good” predictors that show fairly strong (univariate) correlation with the class labels\n",
        "\n",
        "# Using just this subset of predictors, build a multivariate classifier.\n",
        "\n",
        "# Use cross-validation to estimate the unknown tuning parameters and to estimate the prediction error of the final model."
      ],
      "execution_count": null,
      "outputs": []
    },
    {
      "cell_type": "markdown",
      "metadata": {
        "id": "PI7IXMXviOGr",
        "colab_type": "text"
      },
      "source": [
        "### Results for the correct way of doing cross-validation"
      ]
    },
    {
      "cell_type": "code",
      "metadata": {
        "id": "tV7lnaWKiMsz",
        "colab_type": "code",
        "colab": {}
      },
      "source": [
        "# Divide the samples into K cross-validation folds (groups) at random.\n",
        "\n",
        "# For each fold k = 1, 2, . . . , K\n",
        "# Find a subset of “good” predictors that show fairly strong (univariate) correlation with the class labels, using all of the samples except those in fold k.\n",
        "\n",
        "# For each fold k = 1, 2, . . . , K\n",
        "# Using just this subset of predictors, build a multivariate classifier, using all of the samples except those in fold k.\n",
        "\n",
        "# For each fold k = 1, 2, . . . , K\n",
        "# Use the classifier to predict the class labels for the samples in fold k.\n"
      ],
      "execution_count": null,
      "outputs": []
    }
  ]
}