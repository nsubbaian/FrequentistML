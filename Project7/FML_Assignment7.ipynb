{
  "nbformat": 4,
  "nbformat_minor": 0,
  "metadata": {
    "colab": {
      "name": "FML_Assignment7.ipynb",
      "provenance": [],
      "authorship_tag": "ABX9TyNeTix3ptDUk3thePyrwmJa",
      "include_colab_link": true
    },
    "kernelspec": {
      "name": "python3",
      "display_name": "Python 3"
    }
  },
  "cells": [
    {
      "cell_type": "markdown",
      "metadata": {
        "id": "view-in-github",
        "colab_type": "text"
      },
      "source": [
        "<a href=\"https://colab.research.google.com/github/nsubbaian/FrequentistML/blob/master/Project7/FML_Assignment7.ipynb\" target=\"_parent\"><img src=\"https://colab.research.google.com/assets/colab-badge.svg\" alt=\"Open In Colab\"/></a>"
      ]
    },
    {
      "cell_type": "markdown",
      "metadata": {
        "id": "ZMz7lNbpYdst",
        "colab_type": "text"
      },
      "source": [
        "# **Market Basket Assignment**\n",
        "\n",
        "Select a dataset of interest to you and perform a market basket analysis, including finding frequent itemsets and mining association rules.\n"
      ]
    },
    {
      "cell_type": "code",
      "metadata": {
        "id": "q-bYcZOlYTp9",
        "colab_type": "code",
        "colab": {
          "base_uri": "https://localhost:8080/",
          "height": 34
        },
        "outputId": "ba4ed029-b2e7-49d5-a61b-365ea4795174"
      },
      "source": [
        "import pandas as pd\n",
        "import numpy as np\n",
        "import matplotlib.pyplot as plt\n",
        "\n",
        "# Dataset from https://www.kaggle.com/irfanasrullah/groceries\n",
        "groceries = pd.read_csv('https://raw.githubusercontent.com/nsubbaian/FrequentistML/master/Project7/groceries.csv', names=['item' + str(i) for i in range(12)])\n",
        "\n",
        "# Get a unique list of all the possible grocery items\n",
        "items = []\n",
        "for col in groceries.columns: \n",
        "  items.extend(groceries[col].unique())\n",
        "items = set(items)\n",
        "\n",
        "# Create a mapping of grocery items to an integer ID and vice versa\n",
        "d = {}\n",
        "d1= {}\n",
        "key = 0\n",
        "for i in items:\n",
        "  key +=1\n",
        "  d[i] = key\n",
        "  d1[key] = i\n",
        "\n",
        "# Apply mapping to dataset\n",
        "groceries = groceries.applymap(lambda s: d.get(s) if s in d else s)\n",
        "\n",
        "# Create list of transactions from dataset\n",
        "transactions = []\n",
        "for i in range((groceries.shape[0])):\n",
        "  transaction = [x for x in list(groceries.iloc[i, :]) if x != 1]\n",
        "  transactions.append(transaction) \n",
        "\n",
        "# print(transactions)\n",
        "print(\"Number of Transactions\", len(transactions))"
      ],
      "execution_count": 1,
      "outputs": [
        {
          "output_type": "stream",
          "text": [
            "Number of Transactions 9836\n"
          ],
          "name": "stdout"
        }
      ]
    },
    {
      "cell_type": "code",
      "metadata": {
        "id": "PPYNDJHJYkJT",
        "colab_type": "code",
        "colab": {}
      },
      "source": [
        "#---- A Priori algorithm and supporting functions\n",
        "# https://github.com/pbharrin/machinelearninginaction3x/blob/master/Ch11/apriori.py\n",
        "\n",
        "def createC1(dataSet):\n",
        "    C1 = []\n",
        "    for transaction in dataSet:\n",
        "        for item in transaction:\n",
        "            if not [item] in C1:\n",
        "                C1.append([item])\n",
        "                \n",
        "    C1.sort()\n",
        "    return list(map(frozenset, C1))#use frozen set so we\n",
        "                            #can use it as a key in a dict    \n",
        "\n",
        "def scanD(D, Ck, minSupport):\n",
        "    ssCnt = {}\n",
        "    for tid in D:\n",
        "        for can in Ck:\n",
        "            if can.issubset(tid):\n",
        "                if can not in ssCnt: ssCnt[can]=1\n",
        "                else: ssCnt[can] += 1\n",
        "    numItems = float(len(D))\n",
        "    retList = []\n",
        "    supportData = {}\n",
        "    for key in ssCnt:\n",
        "        support = ssCnt[key]/numItems\n",
        "        if support >= minSupport:\n",
        "            retList.insert(0,key)\n",
        "        supportData[key] = support\n",
        "    return retList, supportData\n",
        "\n",
        "def aprioriGen(Lk, k): #creates Ck\n",
        "    retList = []\n",
        "    lenLk = len(Lk)\n",
        "    for i in range(lenLk):\n",
        "        for j in range(i+1, lenLk): \n",
        "            L1 = list(Lk[i])[:k-2]; L2 = list(Lk[j])[:k-2]\n",
        "            L1.sort(); L2.sort()\n",
        "            if L1==L2: #if first k-2 elements are equal\n",
        "                retList.append(Lk[i] | Lk[j]) #set union\n",
        "    return retList\n",
        "\n",
        "def apriori(dataSet, minSupport):\n",
        "    C1 = createC1(dataSet)\n",
        "    D = list(map(set, dataSet))\n",
        "    L1, supportData = scanD(D, C1, minSupport)\n",
        "    L = [L1]\n",
        "    k = 2\n",
        "    while (len(L[k-2]) > 0):\n",
        "        Ck = aprioriGen(L[k-2], k)\n",
        "        Lk, supK = scanD(D, Ck, minSupport)#scan DB to get Lk\n",
        "        supportData.update(supK)\n",
        "        L.append(Lk)\n",
        "        k += 1\n",
        "    return L, supportData\n",
        "\n",
        "def generateRules(L, supportData, minConf=0.7):  #supportData is a dict coming from scanD\n",
        "    bigRuleList = []\n",
        "    for i in range(1, len(L)):#only get the sets with two or more items\n",
        "        for freqSet in L[i]:\n",
        "            H1 = [frozenset([item]) for item in freqSet]\n",
        "            if (i > 1):\n",
        "                rulesFromConseq(freqSet, H1, supportData, bigRuleList, minConf)\n",
        "            else:\n",
        "                calcConf(freqSet, H1, supportData, bigRuleList, minConf)\n",
        "    return bigRuleList         \n",
        "\n",
        "def calcConf(freqSet, H, supportData, brl, minConf=0.7):\n",
        "    prunedH = [] #create new list to return\n",
        "    for conseq in H:\n",
        "        conf = supportData[freqSet]/supportData[freqSet-conseq] #calc confidence\n",
        "        if conf >= minConf: \n",
        "            # print(freqSet-conseq,'-->',conseq,'conf:',conf)\n",
        "            brl.append((freqSet-conseq, conseq, conf))\n",
        "            prunedH.append(conseq)\n",
        "    return prunedH\n",
        "\n",
        "def rulesFromConseq(freqSet, H, supportData, brl, minConf=0.7):\n",
        "    m = len(H[0])\n",
        "    if (len(freqSet) > (m + 1)): #try further merging\n",
        "        Hmp1 = aprioriGen(H, m+1)#create Hm+1 new candidates\n",
        "        Hmp1 = calcConf(freqSet, Hmp1, supportData, brl, minConf)\n",
        "        if (len(Hmp1) > 1):    #need at least two sets to merge\n",
        "            rulesFromConseq(freqSet, Hmp1, supportData, brl, minConf)\n",
        "            \n",
        "def pntRules(ruleList, itemMeaning):\n",
        "    for ruleTup in ruleList:\n",
        "        for item in ruleTup[0]:\n",
        "          antecedent = item\n",
        "        for item in ruleTup[1]:\n",
        "          consequent = item\n",
        "        print(\"confidence: %f\" % ruleTup[2],\" \", itemMeaning[antecedent], \"-------->\", itemMeaning[consequent] )\n",
        "        print()       #print a blank line"
      ],
      "execution_count": null,
      "outputs": []
    },
    {
      "cell_type": "code",
      "metadata": {
        "id": "kb-2Ok8PYnh9",
        "colab_type": "code",
        "colab": {
          "base_uri": "https://localhost:8080/",
          "height": 677
        },
        "outputId": "5d83d8ea-6768-40d7-f977-f24ac43c3ea2"
      },
      "source": [
        " # Generate a set of frequent itemsets with a specified minSupport\n",
        " L,suppData=apriori(transactions, .04)\n",
        "\n",
        "# L contains some lists of frequent itemsets that meet the specified minSupport\n",
        "# suppData is a dictionary with the support values of our itemsets\n",
        "print(\"Length of L:\", len(L))\n",
        "print(\"Frequent Itemsets:\", L)\n",
        "\n",
        "\n",
        " rules=generateRules(L,suppData, minConf=0.1)\n",
        "print()\n",
        " print(\"Number of rules:\", len(rules))\n",
        " pntRules(rules, d1)"
      ],
      "execution_count": null,
      "outputs": [
        {
          "output_type": "stream",
          "text": [
            "Length of L: 3\n",
            "Frequent Itemsets: [[frozenset({158}), frozenset({128}), frozenset({161}), frozenset({159}), frozenset({176}), frozenset({165}), frozenset({29}), frozenset({120}), frozenset({113}), frozenset({55}), frozenset({50}), frozenset({137}), frozenset({36}), frozenset({2}), frozenset({79}), frozenset({69}), frozenset({88}), frozenset({84}), frozenset({147}), frozenset({97}), frozenset({53}), frozenset({152}), frozenset({6}), frozenset({143}), frozenset({71}), frozenset({3}), frozenset({47}), frozenset({75}), frozenset({40}), frozenset({28}), frozenset({156}), frozenset({80})], [frozenset({40, 71}), frozenset({6, 47}), frozenset({47, 55}), frozenset({71, 55}), frozenset({75, 47}), frozenset({6, 71}), frozenset({40, 47}), frozenset({47, 71})], []]\n",
            "\n",
            "Number of rules: 16\n",
            "confidence: 0.222806   other vegetables --------> yogurt\n",
            "\n",
            "confidence: 0.309715   yogurt --------> other vegetables\n",
            "\n",
            "confidence: 0.217668   whole milk --------> rolls/buns\n",
            "\n",
            "confidence: 0.304396   rolls/buns --------> whole milk\n",
            "\n",
            "confidence: 0.448694   root vegetables --------> whole milk\n",
            "\n",
            "confidence: 0.191405   whole milk --------> root vegetables\n",
            "\n",
            "confidence: 0.434701   root vegetables --------> other vegetables\n",
            "\n",
            "confidence: 0.244877   other vegetables --------> root vegetables\n",
            "\n",
            "confidence: 0.165539   whole milk --------> tropical fruit\n",
            "\n",
            "confidence: 0.403101   tropical fruit --------> whole milk\n",
            "\n",
            "confidence: 0.214924   other vegetables --------> rolls/buns\n",
            "\n",
            "confidence: 0.227602   rolls/buns --------> other vegetables\n",
            "\n",
            "confidence: 0.218066   whole milk --------> yogurt\n",
            "\n",
            "confidence: 0.400292   yogurt --------> whole milk\n",
            "\n",
            "confidence: 0.386758   other vegetables --------> whole milk\n",
            "\n",
            "confidence: 0.292877   whole milk --------> other vegetables\n",
            "\n"
          ],
          "name": "stdout"
        }
      ]
    }
  ]
}