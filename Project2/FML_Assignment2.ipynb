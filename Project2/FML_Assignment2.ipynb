{
  "nbformat": 4,
  "nbformat_minor": 0,
  "metadata": {
    "colab": {
      "name": "FML_Assignment2.ipynb",
      "provenance": [],
      "authorship_tag": "ABX9TyMmQ9OtBLOmYFOI434shBXu",
      "include_colab_link": true
    },
    "kernelspec": {
      "name": "python3",
      "display_name": "Python 3"
    }
  },
  "cells": [
    {
      "cell_type": "markdown",
      "metadata": {
        "id": "view-in-github",
        "colab_type": "text"
      },
      "source": [
        "<a href=\"https://colab.research.google.com/github/nsubbaian/FrequentistML/blob/master/Project2/FML_Assignment2.ipynb\" target=\"_parent\"><img src=\"https://colab.research.google.com/assets/colab-badge.svg\" alt=\"Open In Colab\"/></a>"
      ]
    },
    {
      "cell_type": "markdown",
      "metadata": {
        "id": "ac5SxHZZm7x4",
        "colab_type": "text"
      },
      "source": [
        "# **Frequentist Machine Learning Assigment 2: Logistic Regression** \n",
        "##### Implement logistic regression with stochastic gradient descent as the optimization algorithm.\n"
      ]
    },
    {
      "cell_type": "code",
      "metadata": {
        "id": "kr9yWiGL3BXi",
        "colab_type": "code",
        "colab": {
          "base_uri": "https://localhost:8080/",
          "height": 507
        },
        "outputId": "1fdef3c7-5025-49c6-9953-0a3419dd9874"
      },
      "source": [
        "import pandas as pd\n",
        "import numpy as np\n",
        "import matplotlib.pyplot as plt\n",
        "from sklearn import preprocessing\n",
        "import math\n",
        "\n",
        "# Grab a binary classification dataset from UCI or other repository.\n",
        "# Selected Dataset: http://archive.ics.uci.edu/ml/machine-learning-databases/breast-cancer-wisconsin/breast-cancer-wisconsin.data\n",
        "# Dataset Description: http://archive.ics.uci.edu/ml/machine-learning-databases/breast-cancer-wisconsin/breast-cancer-wisconsin.names \n",
        "\n",
        "# The class label is the last column in the dataset, (2 for benign, 4 for malignant)\n",
        "dataset = pd.read_csv('http://archive.ics.uci.edu/ml/machine-learning-databases/breast-cancer-wisconsin/breast-cancer-wisconsin.data', \n",
        "                      names=[\"ID\", \"ClumpThickness\", \"Uniformity_CellSize\", \"Uniformity_CellShape\", \"MarginalAdhesion\",\n",
        "                             \"SingleEpithelialCellSize\", \"BareNuclei\", \"BlandChromatin\", \"NormalNucleoli\", \n",
        "                             \"Mitosis\", \"Class\"])\n",
        "# Removed ID number\n",
        "dataset = dataset.drop(columns = {'ID'})\n",
        "\n",
        "# Drop rows with '?' in them ( missing data)\n",
        "dataset = dataset.dropna(axis = 0)\n",
        "\n",
        "#add intercept column\n",
        "dataset['intercept'] = 1\n",
        "intercept = dataset['intercept']\n",
        "dataset.drop(labels=['intercept'], axis=1,inplace = True)\n",
        "dataset.insert(0, 'intercept', intercept)\n",
        "\n",
        "# All features are on a scale off 1-10\n",
        "# Change labels to have 0 for benign and 1 for malignant\n",
        "dataset['Class'].replace(2, 0, inplace = True)\n",
        "dataset['Class'].replace(4, 1, inplace = True)\n",
        "\n",
        "\n",
        "\n",
        "# Divide your data into roughly 80% train, 10% validation, 10% test. \n",
        "training, validation, test = np.split(dataset.sample(frac=1), [int(.8*len(dataset)), int(.9*len(dataset))])\n",
        "print(\"Length of dataset:\", len(dataset))\n",
        "print( \"Length of training:\", len(training))\n",
        "print(\"Length of validation:\", len(validation))\n",
        "print(\"Length of test:\", len(test))\n",
        "\n",
        "train_X, train_Y = training.iloc[:, :-1], training.iloc[:, 10]\n",
        "val_X, val_Y = validation.iloc[:, :10], validation.iloc[:, 10]\n",
        "test_X, test_Y = test.iloc[:, :10], test.iloc[:,10]\n",
        "\n",
        "training"
      ],
      "execution_count": 33,
      "outputs": [
        {
          "output_type": "stream",
          "text": [
            "Length of dataset: 699\n",
            "Length of training: 559\n",
            "Length of validation: 70\n",
            "Length of test: 70\n"
          ],
          "name": "stdout"
        },
        {
          "output_type": "execute_result",
          "data": {
            "text/html": [
              "<div>\n",
              "<style scoped>\n",
              "    .dataframe tbody tr th:only-of-type {\n",
              "        vertical-align: middle;\n",
              "    }\n",
              "\n",
              "    .dataframe tbody tr th {\n",
              "        vertical-align: top;\n",
              "    }\n",
              "\n",
              "    .dataframe thead th {\n",
              "        text-align: right;\n",
              "    }\n",
              "</style>\n",
              "<table border=\"1\" class=\"dataframe\">\n",
              "  <thead>\n",
              "    <tr style=\"text-align: right;\">\n",
              "      <th></th>\n",
              "      <th>intercept</th>\n",
              "      <th>ClumpThickness</th>\n",
              "      <th>Uniformity_CellSize</th>\n",
              "      <th>Uniformity_CellShape</th>\n",
              "      <th>MarginalAdhesion</th>\n",
              "      <th>SingleEpithelialCellSize</th>\n",
              "      <th>BareNuclei</th>\n",
              "      <th>BlandChromatin</th>\n",
              "      <th>NormalNucleoli</th>\n",
              "      <th>Mitosis</th>\n",
              "      <th>Class</th>\n",
              "    </tr>\n",
              "  </thead>\n",
              "  <tbody>\n",
              "    <tr>\n",
              "      <th>645</th>\n",
              "      <td>1</td>\n",
              "      <td>3</td>\n",
              "      <td>1</td>\n",
              "      <td>1</td>\n",
              "      <td>1</td>\n",
              "      <td>2</td>\n",
              "      <td>1</td>\n",
              "      <td>2</td>\n",
              "      <td>1</td>\n",
              "      <td>1</td>\n",
              "      <td>0</td>\n",
              "    </tr>\n",
              "    <tr>\n",
              "      <th>63</th>\n",
              "      <td>1</td>\n",
              "      <td>6</td>\n",
              "      <td>3</td>\n",
              "      <td>4</td>\n",
              "      <td>1</td>\n",
              "      <td>5</td>\n",
              "      <td>2</td>\n",
              "      <td>3</td>\n",
              "      <td>9</td>\n",
              "      <td>1</td>\n",
              "      <td>1</td>\n",
              "    </tr>\n",
              "    <tr>\n",
              "      <th>575</th>\n",
              "      <td>1</td>\n",
              "      <td>5</td>\n",
              "      <td>1</td>\n",
              "      <td>2</td>\n",
              "      <td>1</td>\n",
              "      <td>2</td>\n",
              "      <td>1</td>\n",
              "      <td>3</td>\n",
              "      <td>1</td>\n",
              "      <td>1</td>\n",
              "      <td>0</td>\n",
              "    </tr>\n",
              "    <tr>\n",
              "      <th>212</th>\n",
              "      <td>1</td>\n",
              "      <td>1</td>\n",
              "      <td>1</td>\n",
              "      <td>1</td>\n",
              "      <td>1</td>\n",
              "      <td>2</td>\n",
              "      <td>1</td>\n",
              "      <td>3</td>\n",
              "      <td>1</td>\n",
              "      <td>1</td>\n",
              "      <td>0</td>\n",
              "    </tr>\n",
              "    <tr>\n",
              "      <th>369</th>\n",
              "      <td>1</td>\n",
              "      <td>1</td>\n",
              "      <td>1</td>\n",
              "      <td>3</td>\n",
              "      <td>1</td>\n",
              "      <td>1</td>\n",
              "      <td>1</td>\n",
              "      <td>2</td>\n",
              "      <td>1</td>\n",
              "      <td>1</td>\n",
              "      <td>0</td>\n",
              "    </tr>\n",
              "    <tr>\n",
              "      <th>...</th>\n",
              "      <td>...</td>\n",
              "      <td>...</td>\n",
              "      <td>...</td>\n",
              "      <td>...</td>\n",
              "      <td>...</td>\n",
              "      <td>...</td>\n",
              "      <td>...</td>\n",
              "      <td>...</td>\n",
              "      <td>...</td>\n",
              "      <td>...</td>\n",
              "      <td>...</td>\n",
              "    </tr>\n",
              "    <tr>\n",
              "      <th>429</th>\n",
              "      <td>1</td>\n",
              "      <td>2</td>\n",
              "      <td>1</td>\n",
              "      <td>1</td>\n",
              "      <td>1</td>\n",
              "      <td>2</td>\n",
              "      <td>1</td>\n",
              "      <td>2</td>\n",
              "      <td>1</td>\n",
              "      <td>1</td>\n",
              "      <td>0</td>\n",
              "    </tr>\n",
              "    <tr>\n",
              "      <th>635</th>\n",
              "      <td>1</td>\n",
              "      <td>3</td>\n",
              "      <td>1</td>\n",
              "      <td>4</td>\n",
              "      <td>1</td>\n",
              "      <td>2</td>\n",
              "      <td>1</td>\n",
              "      <td>1</td>\n",
              "      <td>1</td>\n",
              "      <td>1</td>\n",
              "      <td>0</td>\n",
              "    </tr>\n",
              "    <tr>\n",
              "      <th>607</th>\n",
              "      <td>1</td>\n",
              "      <td>1</td>\n",
              "      <td>1</td>\n",
              "      <td>1</td>\n",
              "      <td>1</td>\n",
              "      <td>2</td>\n",
              "      <td>1</td>\n",
              "      <td>1</td>\n",
              "      <td>1</td>\n",
              "      <td>1</td>\n",
              "      <td>0</td>\n",
              "    </tr>\n",
              "    <tr>\n",
              "      <th>98</th>\n",
              "      <td>1</td>\n",
              "      <td>9</td>\n",
              "      <td>6</td>\n",
              "      <td>9</td>\n",
              "      <td>2</td>\n",
              "      <td>10</td>\n",
              "      <td>6</td>\n",
              "      <td>2</td>\n",
              "      <td>9</td>\n",
              "      <td>10</td>\n",
              "      <td>1</td>\n",
              "    </tr>\n",
              "    <tr>\n",
              "      <th>520</th>\n",
              "      <td>1</td>\n",
              "      <td>1</td>\n",
              "      <td>1</td>\n",
              "      <td>1</td>\n",
              "      <td>1</td>\n",
              "      <td>3</td>\n",
              "      <td>1</td>\n",
              "      <td>1</td>\n",
              "      <td>1</td>\n",
              "      <td>1</td>\n",
              "      <td>0</td>\n",
              "    </tr>\n",
              "  </tbody>\n",
              "</table>\n",
              "<p>559 rows × 11 columns</p>\n",
              "</div>"
            ],
            "text/plain": [
              "     intercept  ClumpThickness  ...  Mitosis  Class\n",
              "645          1               3  ...        1      0\n",
              "63           1               6  ...        1      1\n",
              "575          1               5  ...        1      0\n",
              "212          1               1  ...        1      0\n",
              "369          1               1  ...        1      0\n",
              "..         ...             ...  ...      ...    ...\n",
              "429          1               2  ...        1      0\n",
              "635          1               3  ...        1      0\n",
              "607          1               1  ...        1      0\n",
              "98           1               9  ...       10      1\n",
              "520          1               1  ...        1      0\n",
              "\n",
              "[559 rows x 11 columns]"
            ]
          },
          "metadata": {
            "tags": []
          },
          "execution_count": 33
        }
      ]
    },
    {
      "cell_type": "markdown",
      "metadata": {
        "id": "cpPpIH-zRsJv",
        "colab_type": "text"
      },
      "source": [
        "### A. Implement SGD without regularization and report your % correct on the test dataset.\n"
      ]
    },
    {
      "cell_type": "code",
      "metadata": {
        "id": "3R2A8xdYpIW2",
        "colab_type": "code",
        "colab": {}
      },
      "source": [
        "\n",
        "\n",
        "\n",
        "def sigmoid_decision(thetaT, x):\n",
        "  result = 1/ (1 + math.exp(-(thetaT.T.dot(x)))))\n",
        "  return (1:0 if result > 0 )\n",
        "\n",
        "def SGD(thetaJ, alpha, Y_val, hypothesis, XJ_val):\n",
        "  return (thetaJ + alpha*(Y_val - hypothesis))*XJ_val)\n",
        "\n",
        "for i in range(length(training)):\n",
        "  SGD(thetaJ, .1, training[])\n",
        "\n",
        "\n",
        "\n",
        "\n",
        "  \n"
      ],
      "execution_count": null,
      "outputs": []
    },
    {
      "cell_type": "markdown",
      "metadata": {
        "id": "1duNAYfWR1Yd",
        "colab_type": "text"
      },
      "source": [
        "### B. Implement SGD with regularization, select the best lambda parameter using the validation dataset, and report your % correct on the test dataset."
      ]
    },
    {
      "cell_type": "code",
      "metadata": {
        "id": "QFgEMZ3bpN4P",
        "colab_type": "code",
        "colab": {}
      },
      "source": [
        "# "
      ],
      "execution_count": null,
      "outputs": []
    },
    {
      "cell_type": "markdown",
      "metadata": {
        "id": "x8X4_lheR8_6",
        "colab_type": "text"
      },
      "source": [
        "### Plot the likelihood function with respect to iterations for unregularized and regularized on one set of axes."
      ]
    },
    {
      "cell_type": "code",
      "metadata": {
        "id": "6QrVuHWgSMyd",
        "colab_type": "code",
        "colab": {}
      },
      "source": [
        "# Plot"
      ],
      "execution_count": null,
      "outputs": []
    },
    {
      "cell_type": "markdown",
      "metadata": {
        "id": "I4CeHzM-SCiQ",
        "colab_type": "text"
      },
      "source": [
        "The regularized one/ unregularized one converges to a higher likelihood. This occurs because ..."
      ]
    }
  ]
}