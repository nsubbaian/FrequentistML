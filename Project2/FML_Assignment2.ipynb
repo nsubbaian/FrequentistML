{
  "nbformat": 4,
  "nbformat_minor": 0,
  "metadata": {
    "colab": {
      "name": "FML_Assignment2.ipynb",
      "provenance": [],
      "authorship_tag": "ABX9TyPLUX/si7wg/4tXousLRq82",
      "include_colab_link": true
    },
    "kernelspec": {
      "name": "python3",
      "display_name": "Python 3"
    }
  },
  "cells": [
    {
      "cell_type": "markdown",
      "metadata": {
        "id": "view-in-github",
        "colab_type": "text"
      },
      "source": [
        "<a href=\"https://colab.research.google.com/github/nsubbaian/FrequentistML/blob/master/Project2/FML_Assignment2.ipynb\" target=\"_parent\"><img src=\"https://colab.research.google.com/assets/colab-badge.svg\" alt=\"Open In Colab\"/></a>"
      ]
    },
    {
      "cell_type": "markdown",
      "metadata": {
        "id": "ac5SxHZZm7x4",
        "colab_type": "text"
      },
      "source": [
        "# **Frequentist Machine Learning Assigment 2: Logistic Regression** \n",
        "##### Implement logistic regression with stochastic gradient descent as the optimization algorithm.\n"
      ]
    },
    {
      "cell_type": "code",
      "metadata": {
        "id": "kr9yWiGL3BXi",
        "colab_type": "code",
        "colab": {
          "base_uri": "https://localhost:8080/",
          "height": 507
        },
        "outputId": "94ec5fcf-2d94-4b71-812c-ab5db33bd4d4"
      },
      "source": [
        "import pandas as pd\n",
        "import numpy as np\n",
        "import matplotlib.pyplot as plt\n",
        "from sklearn import preprocessing\n",
        "import math\n",
        "\n",
        "# Grab a binary classification dataset from UCI or other repository.\n",
        "# Selected Dataset: http://archive.ics.uci.edu/ml/machine-learning-databases/breast-cancer-wisconsin/breast-cancer-wisconsin.data\n",
        "# Dataset Description: http://archive.ics.uci.edu/ml/machine-learning-databases/breast-cancer-wisconsin/breast-cancer-wisconsin.names \n",
        "\n",
        "# The class label is the last column in the dataset, (2 for benign, 4 for malignant)\n",
        "dataset = pd.read_csv('http://archive.ics.uci.edu/ml/machine-learning-databases/breast-cancer-wisconsin/breast-cancer-wisconsin.data', \n",
        "                      names=[\"ID\", \"ClumpThickness\", \"Uniformity_CellSize\", \"Uniformity_CellShape\", \"MarginalAdhesion\",\n",
        "                             \"SingleEpithelialCellSize\", \"BareNuclei\", \"BlandChromatin\", \"NormalNucleoli\", \n",
        "                             \"Mitosis\", \"Class\"])\n",
        "# Removed ID number\n",
        "dataset = dataset.drop(columns = {'ID'})\n",
        "\n",
        "# Drop rows with '?' in them ( missing data)\n",
        "from functools import partial\n",
        "dataset = dataset.apply(partial(pd.to_numeric, errors='coerce'))\n",
        "dataset = dataset.dropna(axis = 0)\n",
        "\n",
        "#add intercept column\n",
        "dataset['intercept'] = 1\n",
        "intercept = dataset['intercept']\n",
        "dataset.drop(labels=['intercept'], axis=1,inplace = True)\n",
        "dataset.insert(0, 'intercept', intercept)\n",
        "\n",
        "# All features are on a scale off 1-10\n",
        "# Change labels to have 0 for benign and 1 for malignant\n",
        "dataset['Class'].replace(2, 0, inplace = True)\n",
        "dataset['Class'].replace(4, 1, inplace = True)\n",
        "\n",
        "\n",
        "\n",
        "# Divide your data into roughly 80% train, 10% validation, 10% test. \n",
        "training, validation, test = np.split(dataset.sample(frac=1), [int(.8*len(dataset)), int(.9*len(dataset))])\n",
        "print(\"Length of dataset:\", len(dataset))\n",
        "print( \"Length of training:\", len(training))\n",
        "print(\"Length of validation:\", len(validation))\n",
        "print(\"Length of test:\", len(test))\n",
        "\n",
        "train_X, train_Y = training.iloc[:, :-1], training.iloc[:, 10]\n",
        "val_X, val_Y = validation.iloc[:, :-1], validation.iloc[:, 10]\n",
        "test_X, test_Y = test.iloc[:, :-1], test.iloc[:,10]\n",
        "\n",
        "training"
      ],
      "execution_count": 268,
      "outputs": [
        {
          "output_type": "stream",
          "text": [
            "Length of dataset: 683\n",
            "Length of training: 546\n",
            "Length of validation: 68\n",
            "Length of test: 69\n"
          ],
          "name": "stdout"
        },
        {
          "output_type": "execute_result",
          "data": {
            "text/html": [
              "<div>\n",
              "<style scoped>\n",
              "    .dataframe tbody tr th:only-of-type {\n",
              "        vertical-align: middle;\n",
              "    }\n",
              "\n",
              "    .dataframe tbody tr th {\n",
              "        vertical-align: top;\n",
              "    }\n",
              "\n",
              "    .dataframe thead th {\n",
              "        text-align: right;\n",
              "    }\n",
              "</style>\n",
              "<table border=\"1\" class=\"dataframe\">\n",
              "  <thead>\n",
              "    <tr style=\"text-align: right;\">\n",
              "      <th></th>\n",
              "      <th>intercept</th>\n",
              "      <th>ClumpThickness</th>\n",
              "      <th>Uniformity_CellSize</th>\n",
              "      <th>Uniformity_CellShape</th>\n",
              "      <th>MarginalAdhesion</th>\n",
              "      <th>SingleEpithelialCellSize</th>\n",
              "      <th>BareNuclei</th>\n",
              "      <th>BlandChromatin</th>\n",
              "      <th>NormalNucleoli</th>\n",
              "      <th>Mitosis</th>\n",
              "      <th>Class</th>\n",
              "    </tr>\n",
              "  </thead>\n",
              "  <tbody>\n",
              "    <tr>\n",
              "      <th>522</th>\n",
              "      <td>1</td>\n",
              "      <td>10</td>\n",
              "      <td>4</td>\n",
              "      <td>5</td>\n",
              "      <td>4</td>\n",
              "      <td>3</td>\n",
              "      <td>5.0</td>\n",
              "      <td>7</td>\n",
              "      <td>3</td>\n",
              "      <td>1</td>\n",
              "      <td>1</td>\n",
              "    </tr>\n",
              "    <tr>\n",
              "      <th>46</th>\n",
              "      <td>1</td>\n",
              "      <td>3</td>\n",
              "      <td>7</td>\n",
              "      <td>7</td>\n",
              "      <td>4</td>\n",
              "      <td>4</td>\n",
              "      <td>9.0</td>\n",
              "      <td>4</td>\n",
              "      <td>8</td>\n",
              "      <td>1</td>\n",
              "      <td>1</td>\n",
              "    </tr>\n",
              "    <tr>\n",
              "      <th>5</th>\n",
              "      <td>1</td>\n",
              "      <td>8</td>\n",
              "      <td>10</td>\n",
              "      <td>10</td>\n",
              "      <td>8</td>\n",
              "      <td>7</td>\n",
              "      <td>10.0</td>\n",
              "      <td>9</td>\n",
              "      <td>7</td>\n",
              "      <td>1</td>\n",
              "      <td>1</td>\n",
              "    </tr>\n",
              "    <tr>\n",
              "      <th>31</th>\n",
              "      <td>1</td>\n",
              "      <td>2</td>\n",
              "      <td>1</td>\n",
              "      <td>1</td>\n",
              "      <td>1</td>\n",
              "      <td>2</td>\n",
              "      <td>1.0</td>\n",
              "      <td>3</td>\n",
              "      <td>1</td>\n",
              "      <td>1</td>\n",
              "      <td>0</td>\n",
              "    </tr>\n",
              "    <tr>\n",
              "      <th>428</th>\n",
              "      <td>1</td>\n",
              "      <td>1</td>\n",
              "      <td>1</td>\n",
              "      <td>1</td>\n",
              "      <td>1</td>\n",
              "      <td>2</td>\n",
              "      <td>1.0</td>\n",
              "      <td>2</td>\n",
              "      <td>1</td>\n",
              "      <td>1</td>\n",
              "      <td>0</td>\n",
              "    </tr>\n",
              "    <tr>\n",
              "      <th>...</th>\n",
              "      <td>...</td>\n",
              "      <td>...</td>\n",
              "      <td>...</td>\n",
              "      <td>...</td>\n",
              "      <td>...</td>\n",
              "      <td>...</td>\n",
              "      <td>...</td>\n",
              "      <td>...</td>\n",
              "      <td>...</td>\n",
              "      <td>...</td>\n",
              "      <td>...</td>\n",
              "    </tr>\n",
              "    <tr>\n",
              "      <th>113</th>\n",
              "      <td>1</td>\n",
              "      <td>10</td>\n",
              "      <td>10</td>\n",
              "      <td>10</td>\n",
              "      <td>3</td>\n",
              "      <td>10</td>\n",
              "      <td>8.0</td>\n",
              "      <td>8</td>\n",
              "      <td>1</td>\n",
              "      <td>1</td>\n",
              "      <td>1</td>\n",
              "    </tr>\n",
              "    <tr>\n",
              "      <th>121</th>\n",
              "      <td>1</td>\n",
              "      <td>4</td>\n",
              "      <td>2</td>\n",
              "      <td>1</td>\n",
              "      <td>1</td>\n",
              "      <td>2</td>\n",
              "      <td>2.0</td>\n",
              "      <td>3</td>\n",
              "      <td>1</td>\n",
              "      <td>1</td>\n",
              "      <td>0</td>\n",
              "    </tr>\n",
              "    <tr>\n",
              "      <th>482</th>\n",
              "      <td>1</td>\n",
              "      <td>9</td>\n",
              "      <td>10</td>\n",
              "      <td>10</td>\n",
              "      <td>10</td>\n",
              "      <td>10</td>\n",
              "      <td>5.0</td>\n",
              "      <td>10</td>\n",
              "      <td>10</td>\n",
              "      <td>10</td>\n",
              "      <td>1</td>\n",
              "    </tr>\n",
              "    <tr>\n",
              "      <th>598</th>\n",
              "      <td>1</td>\n",
              "      <td>3</td>\n",
              "      <td>1</td>\n",
              "      <td>1</td>\n",
              "      <td>1</td>\n",
              "      <td>2</td>\n",
              "      <td>1.0</td>\n",
              "      <td>2</td>\n",
              "      <td>1</td>\n",
              "      <td>1</td>\n",
              "      <td>0</td>\n",
              "    </tr>\n",
              "    <tr>\n",
              "      <th>619</th>\n",
              "      <td>1</td>\n",
              "      <td>5</td>\n",
              "      <td>1</td>\n",
              "      <td>1</td>\n",
              "      <td>1</td>\n",
              "      <td>2</td>\n",
              "      <td>1.0</td>\n",
              "      <td>2</td>\n",
              "      <td>1</td>\n",
              "      <td>1</td>\n",
              "      <td>0</td>\n",
              "    </tr>\n",
              "  </tbody>\n",
              "</table>\n",
              "<p>546 rows × 11 columns</p>\n",
              "</div>"
            ],
            "text/plain": [
              "     intercept  ClumpThickness  ...  Mitosis  Class\n",
              "522          1              10  ...        1      1\n",
              "46           1               3  ...        1      1\n",
              "5            1               8  ...        1      1\n",
              "31           1               2  ...        1      0\n",
              "428          1               1  ...        1      0\n",
              "..         ...             ...  ...      ...    ...\n",
              "113          1              10  ...        1      1\n",
              "121          1               4  ...        1      0\n",
              "482          1               9  ...       10      1\n",
              "598          1               3  ...        1      0\n",
              "619          1               5  ...        1      0\n",
              "\n",
              "[546 rows x 11 columns]"
            ]
          },
          "metadata": {
            "tags": []
          },
          "execution_count": 268
        }
      ]
    },
    {
      "cell_type": "markdown",
      "metadata": {
        "id": "cpPpIH-zRsJv",
        "colab_type": "text"
      },
      "source": [
        "### A. Implement SGD without regularization and report your % correct on the test dataset.\n"
      ]
    },
    {
      "cell_type": "code",
      "metadata": {
        "id": "3R2A8xdYpIW2",
        "colab_type": "code",
        "colab": {
          "base_uri": "https://localhost:8080/",
          "height": 122
        },
        "outputId": "75ec99e8-5f84-41a5-814c-2e08f520f5d9"
      },
      "source": [
        "def sigmoid_decision(thetaJ, x):\n",
        "  # had to do x.dot(theta.T) instead of theta.t.dot(x) as said in the notes\n",
        "  result = 1/ (1 + np.exp(-(x.dot(thetaJ.T))))\n",
        "  return (result>.5 )\n",
        "\n",
        "def SGD(thetaJ, alpha, Y_val, h, XJ_val):\n",
        "  return (thetaJ + (alpha*(Y_val - h)).dot(XJ_val))\n",
        "\n",
        "def loglikelihood(y, h):\n",
        "  return ((y*np.log(h+1) + (1-np.array(y))*np.log(1-h+1)).sum())\n",
        "\n",
        "loglikelihood_NoReg = []\n",
        "likelihood_NoReg = []\n",
        "\n",
        "def logisticRegression(alpha):\n",
        "\n",
        "  # initialization\n",
        "  thetaJ = np.ones(len(train_X.columns))\n",
        "\n",
        "  for i in range(len(dataset)):\n",
        "    hypothesis = sigmoid_decision(thetaJ, train_X)\n",
        "    thetaJ = SGD(thetaJ, alpha, train_Y, hypothesis, train_X)\n",
        "    loglikelihood_NoReg.append(loglikelihood(train_Y, hypothesis))\n",
        "    likelihood_NoReg.append(likelihood(train_Y, hypothesis))\n",
        "  return (thetaJ)\n",
        "\n",
        "print()\n",
        "\n",
        "# find best alpha value using validation set\n",
        "bestaccuracy = float('inf')\n",
        "bestalpha = 0\n",
        "for alpha in [.01, .001, .0001, 1, 1.2, 5, 10]:\n",
        "  val_accuracy = (val_Y == sigmoid_decision(logisticRegression(alpha), val_X)).mean()\n",
        "  bestalpha = alpha if val_accuracy < bestaccuracy else bestalpha\n",
        "  bestaccuracy = val_accuracy if val_accuracy < bestaccuracy else bestaccuracy\n",
        "print(\"best alpha value:\", bestalpha)\n",
        "\n",
        "\n",
        "test_accuracy = (test_Y == sigmoid_decision(logisticRegression(bestalpha), test_X)).mean()\n",
        "print(\"Accuracy on Test Set:\", test_accuracy)"
      ],
      "execution_count": 269,
      "outputs": [
        {
          "output_type": "stream",
          "text": [
            "\n"
          ],
          "name": "stdout"
        },
        {
          "output_type": "stream",
          "text": [
            "/usr/local/lib/python3.6/dist-packages/pandas/core/series.py:679: RuntimeWarning: overflow encountered in exp\n",
            "  result = getattr(ufunc, method)(*inputs, **kwargs)\n"
          ],
          "name": "stderr"
        },
        {
          "output_type": "stream",
          "text": [
            "best alpha value: 1\n",
            "Accuracy on Test Set: 0.9710144927536232\n"
          ],
          "name": "stdout"
        }
      ]
    },
    {
      "cell_type": "markdown",
      "metadata": {
        "id": "1duNAYfWR1Yd",
        "colab_type": "text"
      },
      "source": [
        "### B. Implement SGD with regularization, select the best lambda parameter using the validation dataset, and report your % correct on the test dataset."
      ]
    },
    {
      "cell_type": "code",
      "metadata": {
        "id": "QFgEMZ3bpN4P",
        "colab_type": "code",
        "colab": {
          "base_uri": "https://localhost:8080/",
          "height": 105
        },
        "outputId": "bfa4f1b8-8a87-4ae5-b7a3-e69b51791800"
      },
      "source": [
        "loglikelihood_Reg = []\n",
        "likelihood_Reg = []\n",
        "\n",
        "def logisticRegression_withL2(lam):\n",
        "\n",
        "  # initialization\n",
        "  thetaJ = np.ones(len(train_X.columns))\n",
        "\n",
        "  for i in range(len(dataset)):\n",
        "    hypothesis = sigmoid_decision(thetaJ, train_X)\n",
        "    thetaJ = SGD(thetaJ, bestalpha, train_Y, hypothesis, train_X) - 2* lam * thetaJ\n",
        "    loglikelihood_Reg.append(loglikelihood(train_Y, hypothesis))\n",
        "    likelihood_Reg.append(likelihood(train_Y, hypothesis))\n",
        "  return (thetaJ)\n",
        "\n",
        "# find best lambda value using validation set\n",
        "bestaccuracy = float('inf')\n",
        "bestlam = 0\n",
        "for lam in [0, .1, .01, .001, .0001, 1, 1.2, 5, 10]:\n",
        "  val_accuracy = (val_Y == sigmoid_decision(logisticRegression(lam), val_X)).mean()\n",
        "  bestlam = lam if val_accuracy < bestaccuracy else bestlam\n",
        "  bestaccuracy = val_accuracy if val_accuracy < bestaccuracy else bestaccuracy\n",
        "print(\"best lambda value:\", bestlam)\n",
        "\n",
        "test_accuracy = (test_Y == sigmoid_decision(logisticRegression_withL2(bestlam), test_X)).mean()\n",
        "print(\"Accuracy on Test Set:\", test_accuracy)"
      ],
      "execution_count": 270,
      "outputs": [
        {
          "output_type": "stream",
          "text": [
            "/usr/local/lib/python3.6/dist-packages/pandas/core/series.py:679: RuntimeWarning: overflow encountered in exp\n",
            "  result = getattr(ufunc, method)(*inputs, **kwargs)\n"
          ],
          "name": "stderr"
        },
        {
          "output_type": "stream",
          "text": [
            "best lambda value: 0\n",
            "Accuracy on Test Set: 0.9710144927536232\n"
          ],
          "name": "stdout"
        }
      ]
    },
    {
      "cell_type": "markdown",
      "metadata": {
        "id": "x8X4_lheR8_6",
        "colab_type": "text"
      },
      "source": [
        "### Plot the likelihood function with respect to iterations for unregularized and regularized on one set of axes."
      ]
    },
    {
      "cell_type": "code",
      "metadata": {
        "id": "6QrVuHWgSMyd",
        "colab_type": "code",
        "colab": {
          "base_uri": "https://localhost:8080/",
          "height": 675
        },
        "outputId": "5bc10e58-6160-4018-a4ef-209029a77e94"
      },
      "source": [
        "# Plot Regularized and un-regularized likelihood\n",
        "\n",
        "loglikelihood_Reg = []\n",
        "likelihood_Reg = []\n",
        "logisticRegression_withL2(.01)\n",
        "\n",
        "fig, ax = plt.subplots(figsize=[10,10])\n",
        "N = 40\n",
        "ax.plot(range(len(dataset)), pd.Series(loglikelihood_Reg).rolling(window=N).mean(), label = 'L2')\n",
        "ax.plot(range(len(dataset)),pd.Series(loglikelihood_NoReg[0:len(dataset)]).rolling(window=N).mean() , label = 'noReg')\n",
        "\n",
        "plt.xlabel('Iterations')\n",
        "plt.ylabel('Log Likelihood')\n",
        "plt.title('Logistic Regression: LogLikelihood')\n",
        "plt.legend()\n",
        "plt.show()"
      ],
      "execution_count": 276,
      "outputs": [
        {
          "output_type": "stream",
          "text": [
            "/usr/local/lib/python3.6/dist-packages/pandas/core/series.py:679: RuntimeWarning: overflow encountered in exp\n",
            "  result = getattr(ufunc, method)(*inputs, **kwargs)\n"
          ],
          "name": "stderr"
        },
        {
          "output_type": "display_data",
          "data": {
            "image/png": "[encoded data removed]",
            "text/plain": [
              "<Figure size 720x720 with 1 Axes>"
            ]
          },
          "metadata": {
            "tags": [],
            "needs_background": "light"
          }
        }
      ]
    },
    {
      "cell_type": "markdown",
      "metadata": {
        "id": "I4CeHzM-SCiQ",
        "colab_type": "text"
      },
      "source": [
        "When I found the best lambda, it was 0 most of the time. So I re-ran the logistic regularization with a larger lamda value so I can see the difference between the unregularized and regularized curve. \n",
        "\n",
        "In the plot the regularized curve appears below the unregularized curve for the most part. This makes sense as the regularized curve is the \"penalized\" version. There is however, a lot of noise in the plot, this may be a result of the data or something interesting with the logs in the loglikelihood funcion. I used a moving average to get rid of some of that noise for the sake of the plot.\n"
      ]
    }
  ]
}