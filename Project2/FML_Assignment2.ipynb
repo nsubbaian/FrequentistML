{
  "nbformat": 4,
  "nbformat_minor": 0,
  "metadata": {
    "colab": {
      "name": "FML_Assignment2.ipynb",
      "provenance": [],
      "authorship_tag": "ABX9TyMaKN0zw2mkhd78uPdiGlhA",
      "include_colab_link": true
    },
    "kernelspec": {
      "name": "python3",
      "display_name": "Python 3"
    }
  },
  "cells": [
    {
      "cell_type": "markdown",
      "metadata": {
        "id": "view-in-github",
        "colab_type": "text"
      },
      "source": [
        "<a href=\"https://colab.research.google.com/github/nsubbaian/FrequentistML/blob/master/Project2/FML_Assignment2.ipynb\" target=\"_parent\"><img src=\"https://colab.research.google.com/assets/colab-badge.svg\" alt=\"Open In Colab\"/></a>"
      ]
    },
    {
      "cell_type": "markdown",
      "metadata": {
        "id": "ac5SxHZZm7x4",
        "colab_type": "text"
      },
      "source": [
        "# **Frequentist Machine Learning Assigment 2: Logistic Regression** \n",
        "##### Implement logistic regression with stochastic gradient descent as the optimization algorithm.\n"
      ]
    },
    {
      "cell_type": "code",
      "metadata": {
        "id": "kr9yWiGL3BXi",
        "colab_type": "code",
        "colab": {
          "base_uri": "https://localhost:8080/",
          "height": 487
        },
        "outputId": "a75af80a-dd59-4921-bcea-5bf342f62b12"
      },
      "source": [
        "import pandas as pd\n",
        "import numpy as np\n",
        "import matplotlib.pyplot as plt\n",
        "from sklearn import preprocessing\n",
        "import math\n",
        "\n",
        "# Grab a binary classification dataset from UCI or other repository.\n",
        "# Selected Dataset: http://archive.ics.uci.edu/ml/machine-learning-databases/breast-cancer-wisconsin/breast-cancer-wisconsin.data\n",
        "# Dataset Description: http://archive.ics.uci.edu/ml/machine-learning-databases/breast-cancer-wisconsin/breast-cancer-wisconsin.names \n",
        "\n",
        "# The class label is the last column in the dataset, (2 for benign, 4 for malignant)\n",
        "dataset = pd.read_csv('http://archive.ics.uci.edu/ml/machine-learning-databases/breast-cancer-wisconsin/breast-cancer-wisconsin.data', \n",
        "                      names=[\"ID\", \"ClumpThickness\", \"Uniformity_CellSize\", \"Uniformity_CellShape\", \"MarginalAdhesion\",\n",
        "                             \"SingleEpithelialCellSize\", \"BareNuclei\", \"BlandChromatin\", \"NormalNucleoli\", \n",
        "                             \"Mitosis\", \"Class\"])\n",
        "# Removed ID number\n",
        "dataset = dataset.drop(columns = {'ID'})\n",
        "\n",
        "# Drop rows with '?' in them ( missing data)\n",
        "from functools import partial\n",
        "dataset = dataset.apply(partial(pd.to_numeric, errors='coerce'))\n",
        "dataset = dataset.dropna(axis = 0)\n",
        "\n",
        "#add intercept column\n",
        "dataset['intercept'] = 1\n",
        "intercept = dataset['intercept']\n",
        "dataset.drop(labels=['intercept'], axis=1,inplace = True)\n",
        "dataset.insert(0, 'intercept', intercept)\n",
        "\n",
        "# All features are on a scale of 1-10\n",
        "# Change labels to have 0 for benign and 1 for malignant\n",
        "dataset['Class'].replace(2, 0, inplace = True)\n",
        "dataset['Class'].replace(4, 1, inplace = True)\n",
        "\n",
        "# Divide your data into roughly 80% train, 10% validation, 10% test. \n",
        "training, validation, test = np.split(dataset.sample(frac=1), [int(.8*len(dataset)), int(.9*len(dataset))])\n",
        "print(\"Length of dataset:\", len(dataset))\n",
        "print( \"Length of training:\", len(training))\n",
        "print(\"Length of validation:\", len(validation))\n",
        "print(\"Length of test:\", len(test))\n",
        "\n",
        "train_X, train_Y = training.iloc[:, :-1], training.iloc[:, 10]\n",
        "val_X, val_Y = validation.iloc[:, :-1], validation.iloc[:, 10]\n",
        "test_X, test_Y = test.iloc[:, :-1], test.iloc[:,10]\n",
        "\n",
        "display(training)"
      ],
      "execution_count": 277,
      "outputs": [
        {
          "output_type": "stream",
          "text": [
            "Length of dataset: 683\n",
            "Length of training: 546\n",
            "Length of validation: 68\n",
            "Length of test: 69\n"
          ],
          "name": "stdout"
        },
        {
          "output_type": "display_data",
          "data": {
            "text/html": [
              "<div>\n",
              "<style scoped>\n",
              "    .dataframe tbody tr th:only-of-type {\n",
              "        vertical-align: middle;\n",
              "    }\n",
              "\n",
              "    .dataframe tbody tr th {\n",
              "        vertical-align: top;\n",
              "    }\n",
              "\n",
              "    .dataframe thead th {\n",
              "        text-align: right;\n",
              "    }\n",
              "</style>\n",
              "<table border=\"1\" class=\"dataframe\">\n",
              "  <thead>\n",
              "    <tr style=\"text-align: right;\">\n",
              "      <th></th>\n",
              "      <th>intercept</th>\n",
              "      <th>ClumpThickness</th>\n",
              "      <th>Uniformity_CellSize</th>\n",
              "      <th>Uniformity_CellShape</th>\n",
              "      <th>MarginalAdhesion</th>\n",
              "      <th>SingleEpithelialCellSize</th>\n",
              "      <th>BareNuclei</th>\n",
              "      <th>BlandChromatin</th>\n",
              "      <th>NormalNucleoli</th>\n",
              "      <th>Mitosis</th>\n",
              "      <th>Class</th>\n",
              "    </tr>\n",
              "  </thead>\n",
              "  <tbody>\n",
              "    <tr>\n",
              "      <th>100</th>\n",
              "      <td>1</td>\n",
              "      <td>10</td>\n",
              "      <td>3</td>\n",
              "      <td>5</td>\n",
              "      <td>1</td>\n",
              "      <td>10</td>\n",
              "      <td>5.0</td>\n",
              "      <td>3</td>\n",
              "      <td>10</td>\n",
              "      <td>2</td>\n",
              "      <td>1</td>\n",
              "    </tr>\n",
              "    <tr>\n",
              "      <th>692</th>\n",
              "      <td>1</td>\n",
              "      <td>3</td>\n",
              "      <td>1</td>\n",
              "      <td>1</td>\n",
              "      <td>1</td>\n",
              "      <td>2</td>\n",
              "      <td>1.0</td>\n",
              "      <td>1</td>\n",
              "      <td>1</td>\n",
              "      <td>1</td>\n",
              "      <td>0</td>\n",
              "    </tr>\n",
              "    <tr>\n",
              "      <th>584</th>\n",
              "      <td>1</td>\n",
              "      <td>5</td>\n",
              "      <td>1</td>\n",
              "      <td>1</td>\n",
              "      <td>6</td>\n",
              "      <td>3</td>\n",
              "      <td>1.0</td>\n",
              "      <td>1</td>\n",
              "      <td>1</td>\n",
              "      <td>1</td>\n",
              "      <td>0</td>\n",
              "    </tr>\n",
              "    <tr>\n",
              "      <th>150</th>\n",
              "      <td>1</td>\n",
              "      <td>1</td>\n",
              "      <td>1</td>\n",
              "      <td>1</td>\n",
              "      <td>1</td>\n",
              "      <td>1</td>\n",
              "      <td>1.0</td>\n",
              "      <td>3</td>\n",
              "      <td>1</td>\n",
              "      <td>1</td>\n",
              "      <td>0</td>\n",
              "    </tr>\n",
              "    <tr>\n",
              "      <th>205</th>\n",
              "      <td>1</td>\n",
              "      <td>5</td>\n",
              "      <td>10</td>\n",
              "      <td>10</td>\n",
              "      <td>9</td>\n",
              "      <td>6</td>\n",
              "      <td>10.0</td>\n",
              "      <td>7</td>\n",
              "      <td>10</td>\n",
              "      <td>5</td>\n",
              "      <td>1</td>\n",
              "    </tr>\n",
              "    <tr>\n",
              "      <th>...</th>\n",
              "      <td>...</td>\n",
              "      <td>...</td>\n",
              "      <td>...</td>\n",
              "      <td>...</td>\n",
              "      <td>...</td>\n",
              "      <td>...</td>\n",
              "      <td>...</td>\n",
              "      <td>...</td>\n",
              "      <td>...</td>\n",
              "      <td>...</td>\n",
              "      <td>...</td>\n",
              "    </tr>\n",
              "    <tr>\n",
              "      <th>135</th>\n",
              "      <td>1</td>\n",
              "      <td>5</td>\n",
              "      <td>1</td>\n",
              "      <td>1</td>\n",
              "      <td>1</td>\n",
              "      <td>2</td>\n",
              "      <td>2.0</td>\n",
              "      <td>3</td>\n",
              "      <td>3</td>\n",
              "      <td>1</td>\n",
              "      <td>0</td>\n",
              "    </tr>\n",
              "    <tr>\n",
              "      <th>578</th>\n",
              "      <td>1</td>\n",
              "      <td>1</td>\n",
              "      <td>1</td>\n",
              "      <td>1</td>\n",
              "      <td>1</td>\n",
              "      <td>2</td>\n",
              "      <td>1.0</td>\n",
              "      <td>2</td>\n",
              "      <td>1</td>\n",
              "      <td>1</td>\n",
              "      <td>0</td>\n",
              "    </tr>\n",
              "    <tr>\n",
              "      <th>372</th>\n",
              "      <td>1</td>\n",
              "      <td>4</td>\n",
              "      <td>1</td>\n",
              "      <td>2</td>\n",
              "      <td>1</td>\n",
              "      <td>2</td>\n",
              "      <td>1.0</td>\n",
              "      <td>2</td>\n",
              "      <td>1</td>\n",
              "      <td>1</td>\n",
              "      <td>0</td>\n",
              "    </tr>\n",
              "    <tr>\n",
              "      <th>422</th>\n",
              "      <td>1</td>\n",
              "      <td>4</td>\n",
              "      <td>3</td>\n",
              "      <td>3</td>\n",
              "      <td>1</td>\n",
              "      <td>2</td>\n",
              "      <td>1.0</td>\n",
              "      <td>3</td>\n",
              "      <td>3</td>\n",
              "      <td>1</td>\n",
              "      <td>0</td>\n",
              "    </tr>\n",
              "    <tr>\n",
              "      <th>162</th>\n",
              "      <td>1</td>\n",
              "      <td>3</td>\n",
              "      <td>1</td>\n",
              "      <td>1</td>\n",
              "      <td>1</td>\n",
              "      <td>2</td>\n",
              "      <td>1.0</td>\n",
              "      <td>3</td>\n",
              "      <td>1</td>\n",
              "      <td>1</td>\n",
              "      <td>0</td>\n",
              "    </tr>\n",
              "  </tbody>\n",
              "</table>\n",
              "<p>546 rows × 11 columns</p>\n",
              "</div>"
            ],
            "text/plain": [
              "     intercept  ClumpThickness  ...  Mitosis  Class\n",
              "100          1              10  ...        2      1\n",
              "692          1               3  ...        1      0\n",
              "584          1               5  ...        1      0\n",
              "150          1               1  ...        1      0\n",
              "205          1               5  ...        5      1\n",
              "..         ...             ...  ...      ...    ...\n",
              "135          1               5  ...        1      0\n",
              "578          1               1  ...        1      0\n",
              "372          1               4  ...        1      0\n",
              "422          1               4  ...        1      0\n",
              "162          1               3  ...        1      0\n",
              "\n",
              "[546 rows x 11 columns]"
            ]
          },
          "metadata": {
            "tags": []
          }
        }
      ]
    },
    {
      "cell_type": "code",
      "metadata": {
        "id": "qsbK4xMrT7cr",
        "colab_type": "code",
        "colab": {}
      },
      "source": [
        "def sigmoid_decision(thetaJ, x):\n",
        "  # had to do x.dot(theta.T) instead of theta.t.dot(x) as said in the notes\n",
        "  result = 1/ (1 + np.exp(-(x.dot(thetaJ.T))))\n",
        "  return (result>.5 )\n",
        "\n",
        "def SGD(thetaJ, alpha, Y_val, h, XJ_val):\n",
        "  return (thetaJ + (alpha*(Y_val - h)).dot(XJ_val))\n",
        "\n",
        "def loglikelihood(y, h):\n",
        "  return ((y*np.log(h+1) + (1-np.array(y))*np.log(1-h+1)).sum())\n",
        "\n",
        "\n",
        "def logisticRegression(alpha, lam):\n",
        "\n",
        "  # initialization\n",
        "  thetaJ = np.ones(len(train_X.columns))\n",
        "\n",
        "  for i in range(len(dataset)):\n",
        "    hypothesis = sigmoid_decision(thetaJ, train_X)\n",
        "\n",
        "    # make lam = 0, for unregularized version\n",
        "    thetaJ = SGD(thetaJ, alpha, train_Y, hypothesis, train_X)  - 2* lam * thetaJ\n",
        "    \n",
        "    if (lam >0):\n",
        "      loglikelihood_Reg.append(loglikelihood(train_Y, hypothesis))\n",
        "    else:\n",
        "      loglikelihood_NoReg.append(loglikelihood(train_Y, hypothesis))\n",
        "  return (thetaJ)"
      ],
      "execution_count": 291,
      "outputs": []
    },
    {
      "cell_type": "markdown",
      "metadata": {
        "id": "cpPpIH-zRsJv",
        "colab_type": "text"
      },
      "source": [
        "### A. Implement SGD without regularization and report your % correct on the test dataset.\n"
      ]
    },
    {
      "cell_type": "code",
      "metadata": {
        "id": "3R2A8xdYpIW2",
        "colab_type": "code",
        "colab": {
          "base_uri": "https://localhost:8080/",
          "height": 85
        },
        "outputId": "37510602-cf8d-4b15-d053-1cbfafcc038f"
      },
      "source": [
        "loglikelihood_NoReg = []\n",
        "\n",
        "# find best alpha value using validation set\n",
        "bestaccuracy = float('inf')\n",
        "bestalpha = 0\n",
        "for alpha in [.01, .001, .0001, 1, 1.2, 5, 10]:\n",
        "  val_accuracy = (val_Y == sigmoid_decision(logisticRegression(alpha, 0), val_X)).mean()\n",
        "  bestalpha = alpha if val_accuracy < bestaccuracy else bestalpha\n",
        "  bestaccuracy = val_accuracy if val_accuracy < bestaccuracy else bestaccuracy\n",
        "print(\"best alpha value:\", bestalpha)\n",
        "\n",
        "test_accuracy = (test_Y == sigmoid_decision(logisticRegression(bestalpha, 0), test_X)).mean()\n",
        "print(\"Accuracy on Test Set:\", test_accuracy)"
      ],
      "execution_count": 292,
      "outputs": [
        {
          "output_type": "stream",
          "text": [
            "/usr/local/lib/python3.6/dist-packages/pandas/core/series.py:679: RuntimeWarning: overflow encountered in exp\n",
            "  result = getattr(ufunc, method)(*inputs, **kwargs)\n"
          ],
          "name": "stderr"
        },
        {
          "output_type": "stream",
          "text": [
            "best alpha value: 0.001\n",
            "Accuracy on Test Set: 0.9710144927536232\n"
          ],
          "name": "stdout"
        }
      ]
    },
    {
      "cell_type": "markdown",
      "metadata": {
        "id": "1duNAYfWR1Yd",
        "colab_type": "text"
      },
      "source": [
        "### B. Implement SGD with regularization, select the best lambda parameter using the validation dataset, and report your % correct on the test dataset."
      ]
    },
    {
      "cell_type": "code",
      "metadata": {
        "id": "QFgEMZ3bpN4P",
        "colab_type": "code",
        "colab": {
          "base_uri": "https://localhost:8080/",
          "height": 85
        },
        "outputId": "ca46ce45-4a6a-4838-c770-d06dfe151cd3"
      },
      "source": [
        "loglikelihood_Reg = []\n",
        "\n",
        "# find best lambda value using validation set\n",
        "bestaccuracy = float('inf')\n",
        "bestlam = 0\n",
        "for lam in [0, .1, .01, .001, .0001, 1, 1.2, 5, 10]:\n",
        "  val_accuracy = (val_Y == sigmoid_decision(logisticRegression(bestalpha, lam), val_X)).mean()\n",
        "  bestlam = lam if val_accuracy < bestaccuracy else bestlam\n",
        "  bestaccuracy = val_accuracy if val_accuracy < bestaccuracy else bestaccuracy\n",
        "print(\"best lambda value:\", bestlam)\n",
        "\n",
        "test_accuracy = (test_Y == sigmoid_decision(logisticRegression(bestalpha, bestlam), test_X)).mean()\n",
        "print(\"Accuracy on Test Set:\", test_accuracy)"
      ],
      "execution_count": 293,
      "outputs": [
        {
          "output_type": "stream",
          "text": [
            "/usr/local/lib/python3.6/dist-packages/pandas/core/series.py:679: RuntimeWarning: overflow encountered in exp\n",
            "  result = getattr(ufunc, method)(*inputs, **kwargs)\n"
          ],
          "name": "stderr"
        },
        {
          "output_type": "stream",
          "text": [
            "best lambda value: 1\n",
            "Accuracy on Test Set: 0.6376811594202898\n"
          ],
          "name": "stdout"
        }
      ]
    },
    {
      "cell_type": "markdown",
      "metadata": {
        "id": "x8X4_lheR8_6",
        "colab_type": "text"
      },
      "source": [
        "### Plot the likelihood function with respect to iterations for unregularized and regularized on one set of axes."
      ]
    },
    {
      "cell_type": "code",
      "metadata": {
        "id": "6QrVuHWgSMyd",
        "colab_type": "code",
        "colab": {
          "base_uri": "https://localhost:8080/",
          "height": 621
        },
        "outputId": "91f0feeb-a59c-4ba0-c345-420a8e2cf15a"
      },
      "source": [
        "# Plot regularized and un-regularized likelihood\n",
        "\n",
        "fig, ax = plt.subplots(figsize=[10,10])\n",
        "N = 40\n",
        "ax.plot(range(len(dataset)), pd.Series(loglikelihood_Reg[0:len(dataset)]).rolling(window=N).mean(), label = 'Reg')\n",
        "ax.plot(range(len(dataset)),pd.Series(loglikelihood_NoReg[0:len(dataset)]).rolling(window=N).mean() , label = 'noReg')\n",
        "\n",
        "plt.xlabel('Iterations')\n",
        "plt.ylabel('Log Likelihood')\n",
        "plt.title('Logistic Regression: LogLikelihood')\n",
        "plt.legend()\n",
        "plt.show()"
      ],
      "execution_count": 296,
      "outputs": [
        {
          "output_type": "display_data",
          "data": {
            "image/png": "[encoded data removed]",
            "text/plain": [
              "<Figure size 720x720 with 1 Axes>"
            ]
          },
          "metadata": {
            "tags": [],
            "needs_background": "light"
          }
        }
      ]
    },
    {
      "cell_type": "markdown",
      "metadata": {
        "id": "I4CeHzM-SCiQ",
        "colab_type": "text"
      },
      "source": [
        "In the plot the regularized curve appears below the unregularized curve for the most part. This makes sense as the regularized curve is the \"penalized\" version. There is however, a lot of noise in the plot, this may be a result of the data or something interesting with the logs in the loglikelihood funcion. I used a moving average to get rid of some of that noise for the sake of the plot.\n"
      ]
    }
  ]
}