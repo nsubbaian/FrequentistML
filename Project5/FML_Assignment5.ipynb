{
  "nbformat": 4,
  "nbformat_minor": 0,
  "metadata": {
    "colab": {
      "name": "FML_Assignment5.ipynb",
      "provenance": [],
      "authorship_tag": "ABX9TyNYPhN6qhB+shR9rMptc/1O",
      "include_colab_link": true
    },
    "kernelspec": {
      "name": "python3",
      "display_name": "Python 3"
    }
  },
  "cells": [
    {
      "cell_type": "markdown",
      "metadata": {
        "id": "view-in-github",
        "colab_type": "text"
      },
      "source": [
        "<a href=\"https://colab.research.google.com/github/nsubbaian/FrequentistML/blob/master/Project5/FML_Assignment5.ipynb\" target=\"_parent\"><img src=\"https://colab.research.google.com/assets/colab-badge.svg\" alt=\"Open In Colab\"/></a>"
      ]
    },
    {
      "cell_type": "markdown",
      "metadata": {
        "id": "wcvw_1tT68l9",
        "colab_type": "text"
      },
      "source": [
        "# Random Forests\n",
        "\n",
        "Select a dataset and perform a classification or regression on the dataset using the random forest algorithm in sci-kit learn. Plot the feature importance."
      ]
    },
    {
      "cell_type": "code",
      "metadata": {
        "id": "pCVTBvdb62ke",
        "colab_type": "code",
        "colab": {
          "base_uri": "https://localhost:8080/",
          "height": 247
        },
        "outputId": "12fc184f-d3d5-4937-f914-98d39bab87cc"
      },
      "source": [
        "import pandas as pd\n",
        "import numpy as np\n",
        "import matplotlib.pyplot as plt\n",
        "import xgboost as xgb\n",
        "from sklearn.ensemble import RandomForestRegressor\n",
        "from sklearn.datasets import make_regression\n",
        "from sklearn.model_selection import RandomizedSearchCV\n",
        "\n",
        "SEED = 42\n",
        "\n",
        "# Selected Dataset: http://archive.ics.uci.edu/ml/datasets/Forest+Fires\n",
        "# Dataset Description: https://archive.ics.uci.edu/ml/machine-learning-databases/forest-fires/forestfires.names\n",
        "# Chosen so it's good for regression (with numerical, not categorical features, and the target is a continuous number)\n",
        "\n",
        "dataset = pd.read_csv('https://archive.ics.uci.edu/ml/machine-learning-databases/forest-fires/forestfires.csv')\n",
        "\n",
        "# removed categorical feautures\n",
        "dataset = dataset.drop(columns = {'month', 'day'})\n",
        "\n",
        "# Shuffle and then split training data into 80% train, 10% validation and 10% test\n",
        "training, test = np.split(dataset.sample(frac=1), [int(.9*len(dataset))])\n",
        "print(\"Length of dataset:\", len(dataset))\n",
        "print( \"Length of training:\", len(training))\n",
        "print(\"Length of test:\", len(test))\n",
        "\n",
        "training.head()"
      ],
      "execution_count": 51,
      "outputs": [
        {
          "output_type": "stream",
          "text": [
            "Length of dataset: 517\n",
            "Length of training: 465\n",
            "Length of test: 52\n"
          ],
          "name": "stdout"
        },
        {
          "output_type": "execute_result",
          "data": {
            "text/html": [
              "<div>\n",
              "<style scoped>\n",
              "    .dataframe tbody tr th:only-of-type {\n",
              "        vertical-align: middle;\n",
              "    }\n",
              "\n",
              "    .dataframe tbody tr th {\n",
              "        vertical-align: top;\n",
              "    }\n",
              "\n",
              "    .dataframe thead th {\n",
              "        text-align: right;\n",
              "    }\n",
              "</style>\n",
              "<table border=\"1\" class=\"dataframe\">\n",
              "  <thead>\n",
              "    <tr style=\"text-align: right;\">\n",
              "      <th></th>\n",
              "      <th>X</th>\n",
              "      <th>Y</th>\n",
              "      <th>FFMC</th>\n",
              "      <th>DMC</th>\n",
              "      <th>DC</th>\n",
              "      <th>ISI</th>\n",
              "      <th>temp</th>\n",
              "      <th>RH</th>\n",
              "      <th>wind</th>\n",
              "      <th>rain</th>\n",
              "      <th>area</th>\n",
              "    </tr>\n",
              "  </thead>\n",
              "  <tbody>\n",
              "    <tr>\n",
              "      <th>259</th>\n",
              "      <td>7</td>\n",
              "      <td>4</td>\n",
              "      <td>91.8</td>\n",
              "      <td>170.9</td>\n",
              "      <td>692.3</td>\n",
              "      <td>13.7</td>\n",
              "      <td>23.7</td>\n",
              "      <td>40</td>\n",
              "      <td>1.8</td>\n",
              "      <td>0.0</td>\n",
              "      <td>1.38</td>\n",
              "    </tr>\n",
              "    <tr>\n",
              "      <th>369</th>\n",
              "      <td>4</td>\n",
              "      <td>5</td>\n",
              "      <td>91.0</td>\n",
              "      <td>276.3</td>\n",
              "      <td>825.1</td>\n",
              "      <td>7.1</td>\n",
              "      <td>13.8</td>\n",
              "      <td>77</td>\n",
              "      <td>7.6</td>\n",
              "      <td>0.0</td>\n",
              "      <td>0.00</td>\n",
              "    </tr>\n",
              "    <tr>\n",
              "      <th>15</th>\n",
              "      <td>6</td>\n",
              "      <td>5</td>\n",
              "      <td>93.3</td>\n",
              "      <td>141.2</td>\n",
              "      <td>713.9</td>\n",
              "      <td>13.9</td>\n",
              "      <td>22.9</td>\n",
              "      <td>44</td>\n",
              "      <td>5.4</td>\n",
              "      <td>0.0</td>\n",
              "      <td>0.00</td>\n",
              "    </tr>\n",
              "    <tr>\n",
              "      <th>485</th>\n",
              "      <td>2</td>\n",
              "      <td>4</td>\n",
              "      <td>95.0</td>\n",
              "      <td>135.5</td>\n",
              "      <td>596.3</td>\n",
              "      <td>21.3</td>\n",
              "      <td>30.6</td>\n",
              "      <td>28</td>\n",
              "      <td>3.6</td>\n",
              "      <td>0.0</td>\n",
              "      <td>2.07</td>\n",
              "    </tr>\n",
              "    <tr>\n",
              "      <th>506</th>\n",
              "      <td>1</td>\n",
              "      <td>2</td>\n",
              "      <td>91.0</td>\n",
              "      <td>166.9</td>\n",
              "      <td>752.6</td>\n",
              "      <td>7.1</td>\n",
              "      <td>18.5</td>\n",
              "      <td>73</td>\n",
              "      <td>8.5</td>\n",
              "      <td>0.0</td>\n",
              "      <td>0.00</td>\n",
              "    </tr>\n",
              "  </tbody>\n",
              "</table>\n",
              "</div>"
            ],
            "text/plain": [
              "     X  Y  FFMC    DMC     DC   ISI  temp  RH  wind  rain  area\n",
              "259  7  4  91.8  170.9  692.3  13.7  23.7  40   1.8   0.0  1.38\n",
              "369  4  5  91.0  276.3  825.1   7.1  13.8  77   7.6   0.0  0.00\n",
              "15   6  5  93.3  141.2  713.9  13.9  22.9  44   5.4   0.0  0.00\n",
              "485  2  4  95.0  135.5  596.3  21.3  30.6  28   3.6   0.0  2.07\n",
              "506  1  2  91.0  166.9  752.6   7.1  18.5  73   8.5   0.0  0.00"
            ]
          },
          "metadata": {
            "tags": []
          },
          "execution_count": 51
        }
      ]
    },
    {
      "cell_type": "code",
      "metadata": {
        "id": "d5s5rJCSBuOM",
        "colab_type": "code",
        "colab": {
          "base_uri": "https://localhost:8080/",
          "height": 695
        },
        "outputId": "341a6ae6-e0b9-4f85-ea8a-f8550f1500bc"
      },
      "source": [
        "RFtrain_X, RFtrain_Y = training.iloc[:, :10], np.log(training.iloc[:, 10]+ 1)\n",
        "RFtest_X, RFtest_Y = test.iloc[:, :10], np.log(test.iloc[:, 10]+1)\n",
        "\n",
        "\n",
        "# Random Grid: https://towardsdatascience.com/hyperparameter-tuning-the-random-forest-in-python-using-scikit-learn-28d2aa77dd74\n",
        "\n",
        "# Number of trees in random forest\n",
        "n_estimators = [int(x) for x in np.linspace(start = 0, stop = 150, num = 30)]\n",
        "\n",
        "# Maximum number of levels in tree\n",
        "max_depth = [int(x) for x in np.linspace(0, 50, num = 25)]\n",
        "max_depth.append(None)\n",
        "\n",
        "random_grid = {'n_estimators': n_estimators,\n",
        "               'max_features': ['auto', 'sqrt'], # Number of features to consider at every split\n",
        "               'max_depth': max_depth,\n",
        "               'min_samples_split': [2, 5, 10],\n",
        "               'min_samples_leaf':  [1, 2, 4],\n",
        "               'bootstrap': bootstrap}\n",
        "print(random_grid)\n",
        "\n",
        "rf = RandomForestRegressor()\n",
        "rf_random = RandomizedSearchCV(estimator = rf, param_distributions = random_grid, n_iter = 50, cv = 9, verbose=3, random_state=42, n_jobs = -1)\n",
        "rf_random.fit(RFtrain_X, RFtrain_Y)"
      ],
      "execution_count": 52,
      "outputs": [
        {
          "output_type": "stream",
          "text": [
            "{'n_estimators': [0, 5, 10, 15, 20, 25, 31, 36, 41, 46, 51, 56, 62, 67, 72, 77, 82, 87, 93, 98, 103, 108, 113, 118, 124, 129, 134, 139, 144, 150], 'max_features': ['auto', 'sqrt'], 'max_depth': [0, 2, 4, 6, 8, 10, 12, 14, 16, 18, 20, 22, 25, 27, 29, 31, 33, 35, 37, 39, 41, 43, 45, 47, 50, None], 'min_samples_split': [2, 5, 10], 'min_samples_leaf': [1, 2, 4], 'bootstrap': [True, False]}\n",
            "Fitting 9 folds for each of 50 candidates, totalling 450 fits\n"
          ],
          "name": "stdout"
        },
        {
          "output_type": "stream",
          "text": [
            "[Parallel(n_jobs=-1)]: Using backend LokyBackend with 2 concurrent workers.\n",
            "[Parallel(n_jobs=-1)]: Done  52 tasks      | elapsed:    6.6s\n",
            "[Parallel(n_jobs=-1)]: Done 244 tasks      | elapsed:   26.2s\n",
            "[Parallel(n_jobs=-1)]: Done 447 out of 450 | elapsed:   51.4s remaining:    0.3s\n",
            "[Parallel(n_jobs=-1)]: Done 450 out of 450 | elapsed:   51.7s finished\n"
          ],
          "name": "stderr"
        },
        {
          "output_type": "execute_result",
          "data": {
            "text/plain": [
              "RandomizedSearchCV(cv=9, error_score=nan,\n",
              "                   estimator=RandomForestRegressor(bootstrap=True,\n",
              "                                                   ccp_alpha=0.0,\n",
              "                                                   criterion='mse',\n",
              "                                                   max_depth=None,\n",
              "                                                   max_features='auto',\n",
              "                                                   max_leaf_nodes=None,\n",
              "                                                   max_samples=None,\n",
              "                                                   min_impurity_decrease=0.0,\n",
              "                                                   min_impurity_split=None,\n",
              "                                                   min_samples_leaf=1,\n",
              "                                                   min_samples_split=2,\n",
              "                                                   min_weight_fraction_leaf=0.0,\n",
              "                                                   n_estimators=100,\n",
              "                                                   n_jobs=None, oob_score=Fals...\n",
              "                                                      16, 18, 20, 22, 25, 27,\n",
              "                                                      29, 31, 33, 35, 37, 39,\n",
              "                                                      41, 43, 45, 47, 50,\n",
              "                                                      None],\n",
              "                                        'max_features': ['auto', 'sqrt'],\n",
              "                                        'min_samples_leaf': [1, 2, 4],\n",
              "                                        'min_samples_split': [2, 5, 10],\n",
              "                                        'n_estimators': [0, 5, 10, 15, 20, 25,\n",
              "                                                         31, 36, 41, 46, 51, 56,\n",
              "                                                         62, 67, 72, 77, 82, 87,\n",
              "                                                         93, 98, 103, 108, 113,\n",
              "                                                         118, 124, 129, 134,\n",
              "                                                         139, 144, 150]},\n",
              "                   pre_dispatch='2*n_jobs', random_state=42, refit=True,\n",
              "                   return_train_score=False, scoring=None, verbose=3)"
            ]
          },
          "metadata": {
            "tags": []
          },
          "execution_count": 52
        }
      ]
    },
    {
      "cell_type": "code",
      "metadata": {
        "id": "SGbEZtNLClSF",
        "colab_type": "code",
        "colab": {
          "base_uri": "https://localhost:8080/",
          "height": 70
        },
        "outputId": "b8db4a58-bd5f-4378-9b57-a910f6f74ec6"
      },
      "source": [
        "print(\"Best Parameters: \", rf_random.best_params_)\n",
        "\n",
        "ypred = rf_random.best_estimator_.predict(RFtest_X)\n",
        "RFMSE_test = np.square(np.subtract(RFtest_Y, ypred)).mean()\n",
        "print(\"Best Parameters MSE\", RFMSE_test)\n",
        "\n",
        "\n",
        "regr_base = RandomForestRegressor(n_estimators = 10, random_state = 42)\n",
        "regr_base.fit(RFtrain_X, RFtrain_Y)\n",
        "ypred = regr_base.predict(RFtest_X)\n",
        "RFMSE_test = np.square(np.subtract(RFtest_Y, ypred)).mean()\n",
        "print(\"Baseline MSE\", RFMSE_test)"
      ],
      "execution_count": 53,
      "outputs": [
        {
          "output_type": "stream",
          "text": [
            "Best Parameters:  {'n_estimators': 103, 'min_samples_split': 5, 'min_samples_leaf': 1, 'max_features': 'sqrt', 'max_depth': 2, 'bootstrap': True}\n",
            "Best Parameters MSE 1.4499736936662755\n",
            "Baseline MSE 1.644105060237626\n"
          ],
          "name": "stdout"
        }
      ]
    },
    {
      "cell_type": "code",
      "metadata": {
        "id": "gTWV__5QImM4",
        "colab_type": "code",
        "colab": {
          "base_uri": "https://localhost:8080/",
          "height": 295
        },
        "outputId": "ccad6833-2468-465e-ba34-d28ab1c205ca"
      },
      "source": [
        "features = RFtrain_X.columns.values\n",
        "importances = regr.feature_importances_\n",
        "indices = np.argsort(importances)\n",
        "\n",
        "plt.title('Feature Importances')\n",
        "plt.barh(range(len(indices)), importances[indices], color='b', align='center')\n",
        "plt.yticks(range(len(indices)), [features[i] for i in indices])\n",
        "plt.xlabel('Relative Importance')\n",
        "plt.show()"
      ],
      "execution_count": 54,
      "outputs": [
        {
          "output_type": "display_data",
          "data": {
            "image/png": "[encoded data removed]",
            "text/plain": [
              "<Figure size 432x288 with 1 Axes>"
            ]
          },
          "metadata": {
            "tags": [],
            "needs_background": "light"
          }
        }
      ]
    }
  ]
}