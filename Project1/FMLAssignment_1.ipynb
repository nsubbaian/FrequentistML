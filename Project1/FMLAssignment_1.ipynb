{
  "nbformat": 4,
  "nbformat_minor": 0,
  "metadata": {
    "colab": {
      "name": "FMLAssignment_1.ipynb",
      "provenance": [],
      "collapsed_sections": [],
      "authorship_tag": "ABX9TyMAgBvwUqMwdH2ZtQQigefL",
      "include_colab_link": true
    },
    "kernelspec": {
      "name": "python3",
      "display_name": "Python 3"
    }
  },
  "cells": [
    {
      "cell_type": "markdown",
      "metadata": {
        "id": "view-in-github",
        "colab_type": "text"
      },
      "source": [
        "<a href=\"https://colab.research.google.com/github/nsubbaian/FrequentistML/blob/master/Project1/FMLAssignment_1.ipynb\" target=\"_parent\"><img src=\"https://colab.research.google.com/assets/colab-badge.svg\" alt=\"Open In Colab\"/></a>"
      ]
    },
    {
      "cell_type": "markdown",
      "metadata": {
        "id": "otPvwus1KVmb",
        "colab_type": "text"
      },
      "source": [
        "Assigment 1 : Linear Regression\n"
      ]
    },
    {
      "cell_type": "code",
      "metadata": {
        "id": "i83ZomE-GXcx",
        "colab_type": "code",
        "colab": {}
      },
      "source": [
        "# Assignment 1 for Frequentist Machine Learning\n",
        "# Nithilam Subbaian\n",
        "\n",
        "# Selected Dataset: \n",
        "# Chosen so it's good for regression (with numerical, not categorical features, and the target is a continuous number)\n",
        "\n",
        "# Split training data into 80% train, 10% validation and 10% test"
      ],
      "execution_count": null,
      "outputs": []
    },
    {
      "cell_type": "code",
      "metadata": {
        "id": "6_VLCBl0Jlgi",
        "colab_type": "code",
        "colab": {}
      },
      "source": [
        "# A. Plain old linear regression, with no regularization (using eq 3.6 to find the betas)\n",
        "\n",
        "# mean squared error on the test dataset"
      ],
      "execution_count": null,
      "outputs": []
    },
    {
      "cell_type": "code",
      "metadata": {
        "id": "kfOTIck6Jn2Q",
        "colab_type": "code",
        "colab": {}
      },
      "source": [
        "# B. Ridge regression (using eq 3.44 to find the betas) \n",
        "\n",
        "# select the optimal value of Lambda by cross-validation using the validation dataset\n",
        "\n",
        "# Report the mean squared error on the test dataset, using the best lambda you found on the validation set. DO NOT USE THE TEST DATASET TO CHOOSE LAMBDA."
      ],
      "execution_count": null,
      "outputs": []
    },
    {
      "cell_type": "code",
      "metadata": {
        "id": "uDoUnijbJp9E",
        "colab_type": "code",
        "colab": {}
      },
      "source": [
        "# C. Lasso regression (using sci-kit learn or MATLAB)\n",
        "\n",
        "# select the optimal value of lambda as in part B.\n",
        "\n",
        "# Display a Lasso plot (there are built in functions for Lasso plot in sci-kit/MATLAB). Which features did the Lasso select for you to include in your model? Do these features make sense?\n"
      ],
      "execution_count": null,
      "outputs": []
    },
    {
      "cell_type": "code",
      "metadata": {
        "id": "lVq9inBXJsp9",
        "colab_type": "code",
        "colab": {}
      },
      "source": [
        "# Compute the MSE on the training dataset and the test dataset for all methods and comment on the results.  \n",
        "\n",
        "\n",
        "# Feeling brave? Do Lasso and Ridge plots(like figures 3.8 and 3.10).\n"
      ],
      "execution_count": null,
      "outputs": []
    },
    {
      "cell_type": "code",
      "metadata": {
        "id": "f1Ylyy7tG4z8",
        "colab_type": "code",
        "colab": {}
      },
      "source": [
        ""
      ],
      "execution_count": null,
      "outputs": []
    }
  ]
}