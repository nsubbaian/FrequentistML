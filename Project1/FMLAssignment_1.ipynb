{
  "nbformat": 4,
  "nbformat_minor": 0,
  "metadata": {
    "colab": {
      "name": "FMLAssignment_1.ipynb",
      "provenance": [],
      "collapsed_sections": [],
      "mount_file_id": "1ZXXdxg4q70WOzBsCBvIn5ZFevGNvs5md",
      "authorship_tag": "ABX9TyOHp0HI7RjnM4mmCcmyXPtO",
      "include_colab_link": true
    },
    "kernelspec": {
      "name": "python3",
      "display_name": "Python 3"
    }
  },
  "cells": [
    {
      "cell_type": "markdown",
      "metadata": {
        "id": "view-in-github",
        "colab_type": "text"
      },
      "source": [
        "<a href=\"https://colab.research.google.com/github/nsubbaian/FrequentistML/blob/master/Project1/FMLAssignment_1.ipynb\" target=\"_parent\"><img src=\"https://colab.research.google.com/assets/colab-badge.svg\" alt=\"Open In Colab\"/></a>"
      ]
    },
    {
      "cell_type": "markdown",
      "metadata": {
        "id": "otPvwus1KVmb",
        "colab_type": "text"
      },
      "source": [
        "# **Frequentist Machine Learning Assigment 1: Linear Regression** "
      ]
    },
    {
      "cell_type": "code",
      "metadata": {
        "id": "i83ZomE-GXcx",
        "colab_type": "code",
        "colab": {
          "base_uri": "https://localhost:8080/",
          "height": 487
        },
        "outputId": "eadd39ce-f812-4e88-8ee7-bdbc0b7a9305"
      },
      "source": [
        "import pandas as pd\n",
        "import numpy as np\n",
        "import seaborn as sns\n",
        "import matplotlib.pyplot as plt\n",
        "\n",
        "\n",
        "# Selected Dataset: http://archive.ics.uci.edu/ml/datasets/Forest+Fires\n",
        "# Dataset Description: https://archive.ics.uci.edu/ml/machine-learning-databases/forest-fires/forestfires.names\n",
        "# Chosen so it's good for regression (with numerical, not categorical features, and the target is a continuous number)\n",
        "\n",
        "dataset = pd.read_csv('https://archive.ics.uci.edu/ml/machine-learning-databases/forest-fires/forestfires.csv')\n",
        "\n",
        "# removed categorical feautures\n",
        "dataset = dataset.drop(columns = {'month', 'day'})\n",
        "\n",
        "# Shuffle and then split training data into 80% train, 10% validation and 10% test\n",
        "training, validation, test = np.split(dataset.sample(frac=1), [int(.8*len(dataset)), int(.9*len(dataset))])\n",
        "print(\"Length of dataset:\", len(dataset))\n",
        "print( \"Length of training:\", len(training))\n",
        "print(\"Length of validation:\", len(validation))\n",
        "print(\"Length of test:\", len(test))\n",
        "\n",
        "training"
      ],
      "execution_count": 174,
      "outputs": [
        {
          "output_type": "stream",
          "text": [
            "Length of dataset: 517\n",
            "Length of training: 413\n",
            "Length of validation: 52\n",
            "Length of test: 52\n"
          ],
          "name": "stdout"
        },
        {
          "output_type": "execute_result",
          "data": {
            "text/html": [
              "<div>\n",
              "<style scoped>\n",
              "    .dataframe tbody tr th:only-of-type {\n",
              "        vertical-align: middle;\n",
              "    }\n",
              "\n",
              "    .dataframe tbody tr th {\n",
              "        vertical-align: top;\n",
              "    }\n",
              "\n",
              "    .dataframe thead th {\n",
              "        text-align: right;\n",
              "    }\n",
              "</style>\n",
              "<table border=\"1\" class=\"dataframe\">\n",
              "  <thead>\n",
              "    <tr style=\"text-align: right;\">\n",
              "      <th></th>\n",
              "      <th>X</th>\n",
              "      <th>Y</th>\n",
              "      <th>FFMC</th>\n",
              "      <th>DMC</th>\n",
              "      <th>DC</th>\n",
              "      <th>ISI</th>\n",
              "      <th>temp</th>\n",
              "      <th>RH</th>\n",
              "      <th>wind</th>\n",
              "      <th>rain</th>\n",
              "      <th>area</th>\n",
              "    </tr>\n",
              "  </thead>\n",
              "  <tbody>\n",
              "    <tr>\n",
              "      <th>10</th>\n",
              "      <td>7</td>\n",
              "      <td>5</td>\n",
              "      <td>92.5</td>\n",
              "      <td>88.0</td>\n",
              "      <td>698.6</td>\n",
              "      <td>7.1</td>\n",
              "      <td>17.8</td>\n",
              "      <td>51</td>\n",
              "      <td>7.2</td>\n",
              "      <td>0.0</td>\n",
              "      <td>0.00</td>\n",
              "    </tr>\n",
              "    <tr>\n",
              "      <th>410</th>\n",
              "      <td>6</td>\n",
              "      <td>3</td>\n",
              "      <td>84.1</td>\n",
              "      <td>7.3</td>\n",
              "      <td>52.8</td>\n",
              "      <td>2.7</td>\n",
              "      <td>14.7</td>\n",
              "      <td>42</td>\n",
              "      <td>2.7</td>\n",
              "      <td>0.0</td>\n",
              "      <td>0.00</td>\n",
              "    </tr>\n",
              "    <tr>\n",
              "      <th>129</th>\n",
              "      <td>2</td>\n",
              "      <td>5</td>\n",
              "      <td>92.6</td>\n",
              "      <td>46.5</td>\n",
              "      <td>691.8</td>\n",
              "      <td>8.8</td>\n",
              "      <td>15.4</td>\n",
              "      <td>35</td>\n",
              "      <td>0.9</td>\n",
              "      <td>0.0</td>\n",
              "      <td>0.00</td>\n",
              "    </tr>\n",
              "    <tr>\n",
              "      <th>333</th>\n",
              "      <td>1</td>\n",
              "      <td>4</td>\n",
              "      <td>92.1</td>\n",
              "      <td>87.7</td>\n",
              "      <td>721.1</td>\n",
              "      <td>9.5</td>\n",
              "      <td>18.1</td>\n",
              "      <td>54</td>\n",
              "      <td>3.1</td>\n",
              "      <td>0.0</td>\n",
              "      <td>2.13</td>\n",
              "    </tr>\n",
              "    <tr>\n",
              "      <th>366</th>\n",
              "      <td>4</td>\n",
              "      <td>5</td>\n",
              "      <td>91.1</td>\n",
              "      <td>132.3</td>\n",
              "      <td>812.1</td>\n",
              "      <td>12.5</td>\n",
              "      <td>15.9</td>\n",
              "      <td>38</td>\n",
              "      <td>5.4</td>\n",
              "      <td>0.0</td>\n",
              "      <td>1.75</td>\n",
              "    </tr>\n",
              "    <tr>\n",
              "      <th>...</th>\n",
              "      <td>...</td>\n",
              "      <td>...</td>\n",
              "      <td>...</td>\n",
              "      <td>...</td>\n",
              "      <td>...</td>\n",
              "      <td>...</td>\n",
              "      <td>...</td>\n",
              "      <td>...</td>\n",
              "      <td>...</td>\n",
              "      <td>...</td>\n",
              "      <td>...</td>\n",
              "    </tr>\n",
              "    <tr>\n",
              "      <th>85</th>\n",
              "      <td>1</td>\n",
              "      <td>2</td>\n",
              "      <td>92.9</td>\n",
              "      <td>137.0</td>\n",
              "      <td>706.4</td>\n",
              "      <td>9.2</td>\n",
              "      <td>21.5</td>\n",
              "      <td>15</td>\n",
              "      <td>0.9</td>\n",
              "      <td>0.0</td>\n",
              "      <td>0.00</td>\n",
              "    </tr>\n",
              "    <tr>\n",
              "      <th>120</th>\n",
              "      <td>3</td>\n",
              "      <td>4</td>\n",
              "      <td>91.5</td>\n",
              "      <td>145.4</td>\n",
              "      <td>608.2</td>\n",
              "      <td>10.7</td>\n",
              "      <td>10.3</td>\n",
              "      <td>74</td>\n",
              "      <td>2.2</td>\n",
              "      <td>0.0</td>\n",
              "      <td>0.00</td>\n",
              "    </tr>\n",
              "    <tr>\n",
              "      <th>337</th>\n",
              "      <td>6</td>\n",
              "      <td>3</td>\n",
              "      <td>91.6</td>\n",
              "      <td>108.4</td>\n",
              "      <td>764.0</td>\n",
              "      <td>6.2</td>\n",
              "      <td>23.0</td>\n",
              "      <td>34</td>\n",
              "      <td>2.2</td>\n",
              "      <td>0.0</td>\n",
              "      <td>56.04</td>\n",
              "    </tr>\n",
              "    <tr>\n",
              "      <th>148</th>\n",
              "      <td>2</td>\n",
              "      <td>2</td>\n",
              "      <td>94.8</td>\n",
              "      <td>108.3</td>\n",
              "      <td>647.1</td>\n",
              "      <td>17.0</td>\n",
              "      <td>17.4</td>\n",
              "      <td>43</td>\n",
              "      <td>6.7</td>\n",
              "      <td>0.0</td>\n",
              "      <td>1.07</td>\n",
              "    </tr>\n",
              "    <tr>\n",
              "      <th>323</th>\n",
              "      <td>3</td>\n",
              "      <td>5</td>\n",
              "      <td>90.7</td>\n",
              "      <td>136.9</td>\n",
              "      <td>822.8</td>\n",
              "      <td>6.8</td>\n",
              "      <td>12.9</td>\n",
              "      <td>39</td>\n",
              "      <td>2.7</td>\n",
              "      <td>0.0</td>\n",
              "      <td>2.18</td>\n",
              "    </tr>\n",
              "  </tbody>\n",
              "</table>\n",
              "<p>413 rows × 11 columns</p>\n",
              "</div>"
            ],
            "text/plain": [
              "     X  Y  FFMC    DMC     DC   ISI  temp  RH  wind  rain   area\n",
              "10   7  5  92.5   88.0  698.6   7.1  17.8  51   7.2   0.0   0.00\n",
              "410  6  3  84.1    7.3   52.8   2.7  14.7  42   2.7   0.0   0.00\n",
              "129  2  5  92.6   46.5  691.8   8.8  15.4  35   0.9   0.0   0.00\n",
              "333  1  4  92.1   87.7  721.1   9.5  18.1  54   3.1   0.0   2.13\n",
              "366  4  5  91.1  132.3  812.1  12.5  15.9  38   5.4   0.0   1.75\n",
              "..  .. ..   ...    ...    ...   ...   ...  ..   ...   ...    ...\n",
              "85   1  2  92.9  137.0  706.4   9.2  21.5  15   0.9   0.0   0.00\n",
              "120  3  4  91.5  145.4  608.2  10.7  10.3  74   2.2   0.0   0.00\n",
              "337  6  3  91.6  108.4  764.0   6.2  23.0  34   2.2   0.0  56.04\n",
              "148  2  2  94.8  108.3  647.1  17.0  17.4  43   6.7   0.0   1.07\n",
              "323  3  5  90.7  136.9  822.8   6.8  12.9  39   2.7   0.0   2.18\n",
              "\n",
              "[413 rows x 11 columns]"
            ]
          },
          "metadata": {
            "tags": []
          },
          "execution_count": 174
        }
      ]
    },
    {
      "cell_type": "markdown",
      "metadata": {
        "id": "nJ9raZ-3Lvvb",
        "colab_type": "text"
      },
      "source": [
        "### A. Plain old linear regression, with no regularization"
      ]
    },
    {
      "cell_type": "code",
      "metadata": {
        "id": "6_VLCBl0Jlgi",
        "colab_type": "code",
        "colab": {
          "base_uri": "https://localhost:8080/",
          "height": 34
        },
        "outputId": "f500fb19-c0ba-49b6-a70d-b44dc69cae1a"
      },
      "source": [
        "linTrain_X, linTrain_Y = training.iloc[:, :10], np.log(training.iloc[:, 10]+.001)\n",
        "linTest_X, linTest_Y = test.iloc[:, :10], np.log(test.iloc[:,10]+.01)\n",
        "\n",
        "#  Using eq 3.6 to find the betas\n",
        "beta_hat = np.linalg.inv(linTrain_X.T.dot(linTrain_X)).dot(linTrain_X.T).dot(linTrain_Y)\n",
        "\n",
        "y_hat = linTest_X.dot(beta_hat)\n",
        "\n",
        "# mean squared error on the test dataset\n",
        "MSE = np.square(np.subtract(linTest_Y,y_hat)).mean() \n",
        "print(MSE)\n",
        "\n",
        "# display(pd.concat([linTest_Y, y_hat, np.subtract(linTest_Y,y_hat)], axis=1))"
      ],
      "execution_count": 176,
      "outputs": [
        {
          "output_type": "stream",
          "text": [
            "15.231355411266092\n"
          ],
          "name": "stdout"
        }
      ]
    },
    {
      "cell_type": "markdown",
      "metadata": {
        "id": "F8KUBs0NL78Q",
        "colab_type": "text"
      },
      "source": [
        "### B. Ridge Regression "
      ]
    },
    {
      "cell_type": "code",
      "metadata": {
        "id": "kfOTIck6Jn2Q",
        "colab_type": "code",
        "colab": {}
      },
      "source": [
        "RidgeTrain_X, RidgeTrain_Y = training.iloc[:, :10], np.log(training.iloc[:, 10]+.001)\n",
        "RidgeVal_X, RidgeVal_Y = validation.iloc[:, :10], np.log(validation.iloc[:, 10]+.001)\n",
        "RidgeTest_X, RidgeTest_Y = test.iloc[:, :10], np.log(test.iloc[:,10]+.01)\n",
        "\n",
        "identity = \n",
        "lam = .1\n",
        "\n",
        "# using eq 3.44 to find the betas\n",
        "betaRidge_hat = np.linalg.inv((RidgeTrain_X.T.dot(RidgeTrain_X) + lam.dot(identity))).dot(RidgeTrain_X.T).dot(RidgeTrain_Y)\n",
        "\n",
        "# select the optimal value of Lambda by cross-validation using the validation dataset\n",
        "\n",
        "# Report the mean squared error on the test dataset, using the best lambda you found on the validation set. DO NOT USE THE TEST DATASET TO CHOOSE LAMBDA."
      ],
      "execution_count": null,
      "outputs": []
    },
    {
      "cell_type": "markdown",
      "metadata": {
        "id": "znbhClb_L_iF",
        "colab_type": "text"
      },
      "source": [
        "### C. Lasso Regression"
      ]
    },
    {
      "cell_type": "code",
      "metadata": {
        "id": "uDoUnijbJp9E",
        "colab_type": "code",
        "colab": {}
      },
      "source": [
        "linTrain_X, linTrain_Y = training.iloc[:, :10], np.log(training.iloc[:, 10]+.001)\n",
        "linTest_X, linTest_Y = test.iloc[:, :10], np.log(test.iloc[:,10]+.01)\n",
        "\n",
        "# using sci-kit learn or MATLAB\n",
        "\n",
        "# select the optimal value of lambda as in part B.\n",
        "\n",
        "# Display a Lasso plot (there are built in functions for Lasso plot in sci-kit/MATLAB). Which features did the Lasso select for you to include in your model? Do these features make sense?\n"
      ],
      "execution_count": null,
      "outputs": []
    },
    {
      "cell_type": "code",
      "metadata": {
        "id": "lVq9inBXJsp9",
        "colab_type": "code",
        "colab": {}
      },
      "source": [
        "# Compute the MSE on the training dataset and the test dataset for all methods and comment on the results.  \n",
        "\n",
        "\n",
        "# Feeling brave? Do Lasso and Ridge plots(like figures 3.8 and 3.10)."
      ],
      "execution_count": null,
      "outputs": []
    },
    {
      "cell_type": "code",
      "metadata": {
        "id": "f1Ylyy7tG4z8",
        "colab_type": "code",
        "colab": {}
      },
      "source": [
        ""
      ],
      "execution_count": null,
      "outputs": []
    }
  ]
}