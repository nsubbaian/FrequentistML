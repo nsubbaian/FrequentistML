{
  "nbformat": 4,
  "nbformat_minor": 0,
  "metadata": {
    "colab": {
      "name": "FMLAssignment_1.ipynb",
      "provenance": [],
      "collapsed_sections": [],
      "authorship_tag": "ABX9TyMK1qSpbyB6qIzhw0cXQRca",
      "include_colab_link": true
    },
    "kernelspec": {
      "name": "python3",
      "display_name": "Python 3"
    }
  },
  "cells": [
    {
      "cell_type": "markdown",
      "metadata": {
        "id": "view-in-github",
        "colab_type": "text"
      },
      "source": [
        "<a href=\"https://colab.research.google.com/github/nsubbaian/FrequentistML/blob/master/Project1/FMLAssignment_1.ipynb\" target=\"_parent\"><img src=\"https://colab.research.google.com/assets/colab-badge.svg\" alt=\"Open In Colab\"/></a>"
      ]
    },
    {
      "cell_type": "markdown",
      "metadata": {
        "id": "otPvwus1KVmb",
        "colab_type": "text"
      },
      "source": [
        "# **Frequentist Machine Learning Assigment 1: Linear Regression** "
      ]
    },
    {
      "cell_type": "code",
      "metadata": {
        "id": "i83ZomE-GXcx",
        "colab_type": "code",
        "colab": {
          "base_uri": "https://localhost:8080/",
          "height": 487
        },
        "outputId": "9c676eba-84f5-4654-8904-7a78ebc59bc8"
      },
      "source": [
        "import pandas as pd\n",
        "import numpy as np\n",
        "import matplotlib.pyplot as plt\n",
        "from sklearn import preprocessing\n",
        "import sys\n",
        "from sklearn import linear_model\n",
        "import statistics \n",
        "\n",
        "# Selected Dataset: http://archive.ics.uci.edu/ml/datasets/Forest+Fires\n",
        "# Dataset Description: https://archive.ics.uci.edu/ml/machine-learning-databases/forest-fires/forestfires.names\n",
        "# Chosen so it's good for regression (with numerical, not categorical features, and the target is a continuous number)\n",
        "\n",
        "dataset = pd.read_csv('https://archive.ics.uci.edu/ml/machine-learning-databases/forest-fires/forestfires.csv')\n",
        "\n",
        "# removed categorical feautures\n",
        "dataset = dataset.drop(columns = {'month', 'day'})\n",
        "\n",
        "# Shuffle and then split training data into 80% train, 10% validation and 10% test\n",
        "training, validation, test = np.split(dataset.sample(frac=1), [int(.8*len(dataset)), int(.9*len(dataset))])\n",
        "print(\"Length of dataset:\", len(dataset))\n",
        "print( \"Length of training:\", len(training))\n",
        "print(\"Length of validation:\", len(validation))\n",
        "print(\"Length of test:\", len(test))\n",
        "\n",
        "training"
      ],
      "execution_count": 226,
      "outputs": [
        {
          "output_type": "stream",
          "text": [
            "Length of dataset: 517\n",
            "Length of training: 413\n",
            "Length of validation: 52\n",
            "Length of test: 52\n"
          ],
          "name": "stdout"
        },
        {
          "output_type": "execute_result",
          "data": {
            "text/html": [
              "<div>\n",
              "<style scoped>\n",
              "    .dataframe tbody tr th:only-of-type {\n",
              "        vertical-align: middle;\n",
              "    }\n",
              "\n",
              "    .dataframe tbody tr th {\n",
              "        vertical-align: top;\n",
              "    }\n",
              "\n",
              "    .dataframe thead th {\n",
              "        text-align: right;\n",
              "    }\n",
              "</style>\n",
              "<table border=\"1\" class=\"dataframe\">\n",
              "  <thead>\n",
              "    <tr style=\"text-align: right;\">\n",
              "      <th></th>\n",
              "      <th>X</th>\n",
              "      <th>Y</th>\n",
              "      <th>FFMC</th>\n",
              "      <th>DMC</th>\n",
              "      <th>DC</th>\n",
              "      <th>ISI</th>\n",
              "      <th>temp</th>\n",
              "      <th>RH</th>\n",
              "      <th>wind</th>\n",
              "      <th>rain</th>\n",
              "      <th>area</th>\n",
              "    </tr>\n",
              "  </thead>\n",
              "  <tbody>\n",
              "    <tr>\n",
              "      <th>133</th>\n",
              "      <td>4</td>\n",
              "      <td>6</td>\n",
              "      <td>93.7</td>\n",
              "      <td>80.9</td>\n",
              "      <td>685.2</td>\n",
              "      <td>17.9</td>\n",
              "      <td>17.6</td>\n",
              "      <td>42</td>\n",
              "      <td>3.1</td>\n",
              "      <td>0.0</td>\n",
              "      <td>0.00</td>\n",
              "    </tr>\n",
              "    <tr>\n",
              "      <th>174</th>\n",
              "      <td>1</td>\n",
              "      <td>4</td>\n",
              "      <td>90.2</td>\n",
              "      <td>96.9</td>\n",
              "      <td>624.2</td>\n",
              "      <td>8.9</td>\n",
              "      <td>14.2</td>\n",
              "      <td>53</td>\n",
              "      <td>1.8</td>\n",
              "      <td>0.0</td>\n",
              "      <td>3.50</td>\n",
              "    </tr>\n",
              "    <tr>\n",
              "      <th>95</th>\n",
              "      <td>4</td>\n",
              "      <td>4</td>\n",
              "      <td>89.7</td>\n",
              "      <td>90.0</td>\n",
              "      <td>704.4</td>\n",
              "      <td>4.8</td>\n",
              "      <td>17.8</td>\n",
              "      <td>64</td>\n",
              "      <td>1.3</td>\n",
              "      <td>0.0</td>\n",
              "      <td>0.00</td>\n",
              "    </tr>\n",
              "    <tr>\n",
              "      <th>52</th>\n",
              "      <td>4</td>\n",
              "      <td>3</td>\n",
              "      <td>92.1</td>\n",
              "      <td>111.2</td>\n",
              "      <td>654.1</td>\n",
              "      <td>9.6</td>\n",
              "      <td>20.4</td>\n",
              "      <td>42</td>\n",
              "      <td>4.9</td>\n",
              "      <td>0.0</td>\n",
              "      <td>0.00</td>\n",
              "    </tr>\n",
              "    <tr>\n",
              "      <th>292</th>\n",
              "      <td>4</td>\n",
              "      <td>5</td>\n",
              "      <td>91.6</td>\n",
              "      <td>100.2</td>\n",
              "      <td>466.3</td>\n",
              "      <td>6.3</td>\n",
              "      <td>22.9</td>\n",
              "      <td>40</td>\n",
              "      <td>1.3</td>\n",
              "      <td>0.0</td>\n",
              "      <td>2.64</td>\n",
              "    </tr>\n",
              "    <tr>\n",
              "      <th>...</th>\n",
              "      <td>...</td>\n",
              "      <td>...</td>\n",
              "      <td>...</td>\n",
              "      <td>...</td>\n",
              "      <td>...</td>\n",
              "      <td>...</td>\n",
              "      <td>...</td>\n",
              "      <td>...</td>\n",
              "      <td>...</td>\n",
              "      <td>...</td>\n",
              "      <td>...</td>\n",
              "    </tr>\n",
              "    <tr>\n",
              "      <th>146</th>\n",
              "      <td>5</td>\n",
              "      <td>4</td>\n",
              "      <td>90.1</td>\n",
              "      <td>39.7</td>\n",
              "      <td>86.6</td>\n",
              "      <td>6.2</td>\n",
              "      <td>13.2</td>\n",
              "      <td>40</td>\n",
              "      <td>5.4</td>\n",
              "      <td>0.0</td>\n",
              "      <td>0.95</td>\n",
              "    </tr>\n",
              "    <tr>\n",
              "      <th>363</th>\n",
              "      <td>4</td>\n",
              "      <td>3</td>\n",
              "      <td>91.9</td>\n",
              "      <td>111.7</td>\n",
              "      <td>770.3</td>\n",
              "      <td>6.5</td>\n",
              "      <td>15.9</td>\n",
              "      <td>53</td>\n",
              "      <td>2.2</td>\n",
              "      <td>0.0</td>\n",
              "      <td>2.93</td>\n",
              "    </tr>\n",
              "    <tr>\n",
              "      <th>265</th>\n",
              "      <td>4</td>\n",
              "      <td>4</td>\n",
              "      <td>93.7</td>\n",
              "      <td>102.2</td>\n",
              "      <td>550.3</td>\n",
              "      <td>14.6</td>\n",
              "      <td>22.1</td>\n",
              "      <td>54</td>\n",
              "      <td>7.6</td>\n",
              "      <td>0.0</td>\n",
              "      <td>0.79</td>\n",
              "    </tr>\n",
              "    <tr>\n",
              "      <th>224</th>\n",
              "      <td>7</td>\n",
              "      <td>4</td>\n",
              "      <td>90.1</td>\n",
              "      <td>82.9</td>\n",
              "      <td>735.7</td>\n",
              "      <td>6.2</td>\n",
              "      <td>15.4</td>\n",
              "      <td>57</td>\n",
              "      <td>4.5</td>\n",
              "      <td>0.0</td>\n",
              "      <td>37.71</td>\n",
              "    </tr>\n",
              "    <tr>\n",
              "      <th>231</th>\n",
              "      <td>1</td>\n",
              "      <td>5</td>\n",
              "      <td>93.5</td>\n",
              "      <td>149.3</td>\n",
              "      <td>728.6</td>\n",
              "      <td>8.1</td>\n",
              "      <td>27.8</td>\n",
              "      <td>27</td>\n",
              "      <td>3.1</td>\n",
              "      <td>0.0</td>\n",
              "      <td>95.18</td>\n",
              "    </tr>\n",
              "  </tbody>\n",
              "</table>\n",
              "<p>413 rows × 11 columns</p>\n",
              "</div>"
            ],
            "text/plain": [
              "     X  Y  FFMC    DMC     DC   ISI  temp  RH  wind  rain   area\n",
              "133  4  6  93.7   80.9  685.2  17.9  17.6  42   3.1   0.0   0.00\n",
              "174  1  4  90.2   96.9  624.2   8.9  14.2  53   1.8   0.0   3.50\n",
              "95   4  4  89.7   90.0  704.4   4.8  17.8  64   1.3   0.0   0.00\n",
              "52   4  3  92.1  111.2  654.1   9.6  20.4  42   4.9   0.0   0.00\n",
              "292  4  5  91.6  100.2  466.3   6.3  22.9  40   1.3   0.0   2.64\n",
              "..  .. ..   ...    ...    ...   ...   ...  ..   ...   ...    ...\n",
              "146  5  4  90.1   39.7   86.6   6.2  13.2  40   5.4   0.0   0.95\n",
              "363  4  3  91.9  111.7  770.3   6.5  15.9  53   2.2   0.0   2.93\n",
              "265  4  4  93.7  102.2  550.3  14.6  22.1  54   7.6   0.0   0.79\n",
              "224  7  4  90.1   82.9  735.7   6.2  15.4  57   4.5   0.0  37.71\n",
              "231  1  5  93.5  149.3  728.6   8.1  27.8  27   3.1   0.0  95.18\n",
              "\n",
              "[413 rows x 11 columns]"
            ]
          },
          "metadata": {
            "tags": []
          },
          "execution_count": 226
        }
      ]
    },
    {
      "cell_type": "markdown",
      "metadata": {
        "id": "nJ9raZ-3Lvvb",
        "colab_type": "text"
      },
      "source": [
        "### A. Plain old linear regression, with no regularization"
      ]
    },
    {
      "cell_type": "code",
      "metadata": {
        "id": "6_VLCBl0Jlgi",
        "colab_type": "code",
        "colab": {
          "base_uri": "https://localhost:8080/",
          "height": 34
        },
        "outputId": "4d796acc-c6cd-4414-b114-6f994f245006"
      },
      "source": [
        "linTrain_X, linTrain_Y = training.iloc[:, :10], np.log(training.iloc[:, 10]+.01)\n",
        "linTest_X, linTest_Y = test.iloc[:, :10], np.log(test.iloc[:,10]+.01)\n",
        "\n",
        "#  Using eq 3.6 to find the betas\n",
        "beta_hat = np.linalg.inv(linTrain_X.T.dot(linTrain_X)).dot(linTrain_X.T).dot(linTrain_Y)\n",
        "\n",
        "y_hat = linTest_X.dot(beta_hat)\n",
        "\n",
        "# mean squared error on the test dataset\n",
        "MSE = np.square(np.subtract(linTest_Y,y_hat)).mean() \n",
        "print(\"Linear Regression MSE on test set:\", MSE)\n",
        "# display(pd.concat([linTest_Y, y_hat, np.subtract(linTest_Y,y_hat)], axis=1))"
      ],
      "execution_count": 233,
      "outputs": [
        {
          "output_type": "stream",
          "text": [
            "Linear Regression MSE on test set: 10.082769945954396\n"
          ],
          "name": "stdout"
        }
      ]
    },
    {
      "cell_type": "markdown",
      "metadata": {
        "id": "F8KUBs0NL78Q",
        "colab_type": "text"
      },
      "source": [
        "### B. Ridge Regression "
      ]
    },
    {
      "cell_type": "code",
      "metadata": {
        "id": "kfOTIck6Jn2Q",
        "colab_type": "code",
        "colab": {
          "base_uri": "https://localhost:8080/",
          "height": 672
        },
        "outputId": "ab86d528-7af1-48ad-f6b7-0b1a1484e50c"
      },
      "source": [
        "RidgeTrain_X, RidgeTrain_Y = training.iloc[:, :10], np.log(training.iloc[:, 10]+.001)\n",
        "RidgeVal_X, RidgeVal_Y = validation.iloc[:, :10], np.log(validation.iloc[:, 10]+.001)\n",
        "RidgeTest_X, RidgeTest_Y = test.iloc[:, :10], np.log(test.iloc[:,10]+.01)\n",
        "identity = np.identity(RidgeTrain_X.shape[1])\n",
        "bestMSE = float('inf')\n",
        "features = list(RidgeTrain_X.columns.values)\n",
        "X = []\n",
        "Y = []\n",
        "MSE_arr = []\n",
        "bestLambda_arr = []\n",
        "\n",
        "# normalize input features, this way the penalty is equal per feature\n",
        "RidgeTrain_X = preprocessing.normalize(RidgeTrain_X)\n",
        "RidgeVal_X = preprocessing.normalize(RidgeVal_X)\n",
        "RidgeTest_X = preprocessing.normalize(RidgeTest_X)\n",
        "\n",
        "for lam in np.arange(0.00, 1, .001):\n",
        "\n",
        "  # using eq 3.44 to find the betas\n",
        "  betaRidge_hat = np.linalg.inv((RidgeTrain_X.T.dot(RidgeTrain_X) + lam*(identity))).dot(RidgeTrain_X.T).dot(RidgeTrain_Y)\n",
        "  y_hat = RidgeVal_X.dot(betaRidge_hat)\n",
        "\n",
        "  # select the optimal value of Lambda by cross-validation using the validation dataset\n",
        "  ridgeMSE = np.square(np.subtract(RidgeVal_Y,y_hat)).mean()\n",
        "  MSE_arr.append(ridgeMSE)\n",
        "  bestLambda_arr.append(lam)\n",
        "  if (ridgeMSE < bestMSE):\n",
        "    bestLambda = lam\n",
        "    bestMSE = ridgeMSE\n",
        "\n",
        "print(\"Lambda selected by cross-validation:\", bestLambda)\n",
        "print(\"MSE with best Lambda on validation set:\", bestMSE)\n",
        "\n",
        "# Report the mean squared error on the test dataset, using the best lambda you found on the validation set.\n",
        "# DO NOT USE THE TEST DATASET TO CHOOSE LAMBDA.\n",
        "betaRidge_hat = np.linalg.inv((RidgeTrain_X.T.dot(RidgeTrain_X) + bestLambda*(identity))).dot(RidgeTrain_X.T).dot(RidgeTrain_Y)\n",
        "y_hat = RidgeTest_X.dot(betaRidge_hat)\n",
        "ridgeMSE = np.square(np.subtract(linTest_Y,y_hat)).mean() \n",
        "print(\"Ridge Regression MSE on test set:\", ridgeMSE)\n",
        "\n",
        "# Coefficients plotted as a function of lambda instead of degrees of freedom\n",
        "for lam in np.arange(0, 10000000, 10000):\n",
        "  betaRidge_hat = np.linalg.inv((RidgeTrain_X.T.dot(RidgeTrain_X) + lam*(identity))).dot(RidgeTrain_X.T).dot(RidgeTrain_Y)\n",
        "  dofFreedom = np.matrix(RidgeTrain_X.dot(np.linalg.inv((RidgeTrain_X.T.dot(RidgeTrain_X) + lam*(identity))).dot(RidgeTrain_X.T)))\n",
        "  X.append(dofFreedom.trace()[0,0])\n",
        "  Y.append(betaRidge_hat)\n",
        "\n",
        "plt.figure(figsize=(10,10))\n",
        "for i in range(0,10):\n",
        "  plt.plot(X, list(map(list, zip(*Y)))[i], label = features[i] )\n",
        "plt.legend()\n",
        "plt.title(\"Profiles of Ridge Coefficients\")\n",
        "plt.xlabel('Effective Degrees of Freedom, df(λ)')\n",
        "plt.ylabel('Coefficients') \n",
        "plt.show()"
      ],
      "execution_count": 234,
      "outputs": [
        {
          "output_type": "stream",
          "text": [
            "Lambda selected by cross-validation: 0.013000000000000001\n",
            "MSE with best Lambda on validation set: 20.286378400127052\n",
            "Ridge Regression MSE on test set: 10.871401222076827\n"
          ],
          "name": "stdout"
        },
        {
          "output_type": "display_data",
          "data": {
            "image/png": "[encoded data removed]",
            "text/plain": [
              "<Figure size 720x720 with 1 Axes>"
            ]
          },
          "metadata": {
            "tags": [],
            "needs_background": "light"
          }
        }
      ]
    },
    {
      "cell_type": "markdown",
      "metadata": {
        "id": "znbhClb_L_iF",
        "colab_type": "text"
      },
      "source": [
        "### C. Lasso Regression"
      ]
    },
    {
      "cell_type": "code",
      "metadata": {
        "id": "uDoUnijbJp9E",
        "colab_type": "code",
        "colab": {}
      },
      "source": [
        "LassoTrain_X, LassoTrain_Y = training.iloc[:, :10], np.log(training.iloc[:, 10]+.001)\n",
        "LassoVal_X, LassoVal_Y = validation.iloc[:, :10], np.log(validation.iloc[:, 10]+.001)\n",
        "LassoTest_X, LassoTest_Y = test.iloc[:, :10], np.log(test.iloc[:,10]+.01)\n",
        "\n",
        "# normalize input features, this way the penalty is equal per feature\n",
        "LassoTrain_X = preprocessing.normalize(LassoTrain_X)\n",
        "LassoVal_X = preprocessing.normalize(LassoVal_X)\n",
        "LassoTest_X = preprocessing.normalize(LassoTest_X)\n",
        "\n",
        "# using sci-kit learn or MATLAB\n",
        "\n",
        "# select the optimal value of lambda as in part B.\n",
        "\n",
        "# Display a Lasso plot (there are built in functions for Lasso plot in sci-kit/MATLAB). \n",
        "\n",
        "# Which features did the Lasso select for you to include in your model? Do these features make sense?\n"
      ],
      "execution_count": null,
      "outputs": []
    },
    {
      "cell_type": "code",
      "metadata": {
        "id": "lVq9inBXJsp9",
        "colab_type": "code",
        "colab": {}
      },
      "source": [
        "# Compute the MSE on the training dataset and the test dataset for all methods and comment on the results.  \n",
        "\n",
        "\n",
        "# Feeling brave? Do Lasso and Ridge plots(like figures 3.8 and 3.10)."
      ],
      "execution_count": null,
      "outputs": []
    },
    {
      "cell_type": "code",
      "metadata": {
        "id": "f1Ylyy7tG4z8",
        "colab_type": "code",
        "colab": {}
      },
      "source": [
        ""
      ],
      "execution_count": null,
      "outputs": []
    }
  ]
}