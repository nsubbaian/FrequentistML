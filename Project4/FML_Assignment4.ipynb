{
  "nbformat": 4,
  "nbformat_minor": 0,
  "metadata": {
    "colab": {
      "name": "FML_Assignment4.ipynb",
      "provenance": [],
      "authorship_tag": "ABX9TyM8c8n9+f1ohVdI3lesRTBd",
      "include_colab_link": true
    },
    "kernelspec": {
      "name": "python3",
      "display_name": "Python 3"
    }
  },
  "cells": [
    {
      "cell_type": "markdown",
      "metadata": {
        "id": "view-in-github",
        "colab_type": "text"
      },
      "source": [
        "<a href=\"https://colab.research.google.com/github/nsubbaian/FrequentistML/blob/master/Project4/FML_Assignment4.ipynb\" target=\"_parent\"><img src=\"https://colab.research.google.com/assets/colab-badge.svg\" alt=\"Open In Colab\"/></a>"
      ]
    },
    {
      "cell_type": "markdown",
      "metadata": {
        "id": "pi7glE_WQeS9",
        "colab_type": "text"
      },
      "source": [
        "# **Assignment 4: xTreme Gradient Boosted Trees**"
      ]
    },
    {
      "cell_type": "markdown",
      "metadata": {
        "id": "tP5O61oGQttd",
        "colab_type": "text"
      },
      "source": [
        "Using out of the box package for xTreme gradient boosting trees: https://xgboost.readthedocs.io/en/latest/.\n"
      ]
    },
    {
      "cell_type": "code",
      "metadata": {
        "id": "ZvLO_PpYQepX",
        "colab_type": "code",
        "colab": {
          "base_uri": "https://localhost:8080/",
          "height": 265
        },
        "outputId": "23ec5633-66c2-4c09-c1d5-c0a21f79a5a2"
      },
      "source": [
        "import pandas as pd\n",
        "import numpy as np\n",
        "import matplotlib.pyplot as plt\n",
        "import xgboost as xgb\n",
        "SEED = 42\n",
        "\n",
        "# Selected Dataset: http://archive.ics.uci.edu/ml/datasets/Forest+Fires\n",
        "# Dataset Description: https://archive.ics.uci.edu/ml/machine-learning-databases/forest-fires/forestfires.names\n",
        "# Chosen so it's good for regression (with numerical, not categorical features, and the target is a continuous number)\n",
        "\n",
        "dataset = pd.read_csv('https://archive.ics.uci.edu/ml/machine-learning-databases/forest-fires/forestfires.csv')\n",
        "\n",
        "# removed categorical feautures\n",
        "dataset = dataset.drop(columns = {'month', 'day'})\n",
        "\n",
        "# Shuffle and then split training data into 80% train, 10% validation and 10% test\n",
        "training, validation, test = np.split(dataset.sample(frac=1), [int(.8*len(dataset)), int(.9*len(dataset))])\n",
        "print(\"Length of dataset:\", len(dataset))\n",
        "print( \"Length of training:\", len(training))\n",
        "print(\"Length of validation:\", len(validation))\n",
        "print(\"Length of test:\", len(test))\n",
        "\n",
        "training.head()"
      ],
      "execution_count": 166,
      "outputs": [
        {
          "output_type": "stream",
          "text": [
            "Length of dataset: 517\n",
            "Length of training: 413\n",
            "Length of validation: 52\n",
            "Length of test: 52\n"
          ],
          "name": "stdout"
        },
        {
          "output_type": "execute_result",
          "data": {
            "text/html": [
              "<div>\n",
              "<style scoped>\n",
              "    .dataframe tbody tr th:only-of-type {\n",
              "        vertical-align: middle;\n",
              "    }\n",
              "\n",
              "    .dataframe tbody tr th {\n",
              "        vertical-align: top;\n",
              "    }\n",
              "\n",
              "    .dataframe thead th {\n",
              "        text-align: right;\n",
              "    }\n",
              "</style>\n",
              "<table border=\"1\" class=\"dataframe\">\n",
              "  <thead>\n",
              "    <tr style=\"text-align: right;\">\n",
              "      <th></th>\n",
              "      <th>X</th>\n",
              "      <th>Y</th>\n",
              "      <th>FFMC</th>\n",
              "      <th>DMC</th>\n",
              "      <th>DC</th>\n",
              "      <th>ISI</th>\n",
              "      <th>temp</th>\n",
              "      <th>RH</th>\n",
              "      <th>wind</th>\n",
              "      <th>rain</th>\n",
              "      <th>area</th>\n",
              "    </tr>\n",
              "  </thead>\n",
              "  <tbody>\n",
              "    <tr>\n",
              "      <th>496</th>\n",
              "      <td>4</td>\n",
              "      <td>5</td>\n",
              "      <td>96.2</td>\n",
              "      <td>175.5</td>\n",
              "      <td>661.8</td>\n",
              "      <td>16.8</td>\n",
              "      <td>32.6</td>\n",
              "      <td>26</td>\n",
              "      <td>3.1</td>\n",
              "      <td>0.0</td>\n",
              "      <td>2.77</td>\n",
              "    </tr>\n",
              "    <tr>\n",
              "      <th>110</th>\n",
              "      <td>4</td>\n",
              "      <td>4</td>\n",
              "      <td>85.9</td>\n",
              "      <td>19.5</td>\n",
              "      <td>57.3</td>\n",
              "      <td>2.8</td>\n",
              "      <td>13.7</td>\n",
              "      <td>43</td>\n",
              "      <td>5.8</td>\n",
              "      <td>0.0</td>\n",
              "      <td>0.00</td>\n",
              "    </tr>\n",
              "    <tr>\n",
              "      <th>515</th>\n",
              "      <td>1</td>\n",
              "      <td>4</td>\n",
              "      <td>94.4</td>\n",
              "      <td>146.0</td>\n",
              "      <td>614.7</td>\n",
              "      <td>11.3</td>\n",
              "      <td>25.6</td>\n",
              "      <td>42</td>\n",
              "      <td>4.0</td>\n",
              "      <td>0.0</td>\n",
              "      <td>0.00</td>\n",
              "    </tr>\n",
              "    <tr>\n",
              "      <th>265</th>\n",
              "      <td>4</td>\n",
              "      <td>4</td>\n",
              "      <td>93.7</td>\n",
              "      <td>102.2</td>\n",
              "      <td>550.3</td>\n",
              "      <td>14.6</td>\n",
              "      <td>22.1</td>\n",
              "      <td>54</td>\n",
              "      <td>7.6</td>\n",
              "      <td>0.0</td>\n",
              "      <td>0.79</td>\n",
              "    </tr>\n",
              "    <tr>\n",
              "      <th>225</th>\n",
              "      <td>4</td>\n",
              "      <td>4</td>\n",
              "      <td>93.5</td>\n",
              "      <td>149.3</td>\n",
              "      <td>728.6</td>\n",
              "      <td>8.1</td>\n",
              "      <td>22.9</td>\n",
              "      <td>39</td>\n",
              "      <td>4.9</td>\n",
              "      <td>0.0</td>\n",
              "      <td>48.55</td>\n",
              "    </tr>\n",
              "  </tbody>\n",
              "</table>\n",
              "</div>"
            ],
            "text/plain": [
              "     X  Y  FFMC    DMC     DC   ISI  temp  RH  wind  rain   area\n",
              "496  4  5  96.2  175.5  661.8  16.8  32.6  26   3.1   0.0   2.77\n",
              "110  4  4  85.9   19.5   57.3   2.8  13.7  43   5.8   0.0   0.00\n",
              "515  1  4  94.4  146.0  614.7  11.3  25.6  42   4.0   0.0   0.00\n",
              "265  4  4  93.7  102.2  550.3  14.6  22.1  54   7.6   0.0   0.79\n",
              "225  4  4  93.5  149.3  728.6   8.1  22.9  39   4.9   0.0  48.55"
            ]
          },
          "metadata": {
            "tags": []
          },
          "execution_count": 166
        }
      ]
    },
    {
      "cell_type": "code",
      "metadata": {
        "id": "FM8vYl5e0WGl",
        "colab_type": "code",
        "colab": {
          "base_uri": "https://localhost:8080/",
          "height": 348
        },
        "outputId": "a7cd1313-3347-4d04-bb99-bda9789323c9"
      },
      "source": [
        "XGBtrain_X, XGBtrain_Y = training.iloc[:, :10], np.log(training.iloc[:, 10]+ 1)\n",
        "XGBval_X, XGBval_Y = validation.iloc[:, :10], np.log(validation.iloc[:, 10]+1)\n",
        "XGBtest_X, XGBtest_Y = test.iloc[:, :10], np.log(test.iloc[:, 10]+1)\n",
        "\n",
        "dtrain = xgb.DMatrix(XGBtrain_X, label=XGBtrain_Y)\n",
        "dtest = xgb.DMatrix(XGBtest_X, label=XGBtest_Y)\n",
        "dval = xgb.DMatrix(XGBval_X, XGBval_Y)\n",
        "\n",
        "# tune your regression method\n",
        "bestMSE = float('inf')\n",
        "for lam in [1e-15, 1e-5, .1, 1, 5, 10, 11, 12, 13, 14, 15, 16, 17, 20, 25, 30, 35, 50, 100]:\n",
        "  param = {'max_depth': 6, 'min_child_weight': .3, 'eta': 1, \n",
        "          'objective': 'reg:squarederror',\n",
        "          'reg_alpha' : lam}\n",
        "  evallist = [(dtrain, 'train'), (dval, 'val')]\n",
        "\n",
        "  # uses early stopping to find the optimal number of boosting rounds\n",
        "  bst = xgb.train(param, dtrain, num_boost_round = 50, evals = evallist, \n",
        "                  early_stopping_rounds = 10, verbose_eval = False)\n",
        "  \n",
        "  XGBMSE = bst.best_score\n",
        "  if (XGBMSE < bestMSE):\n",
        "    bestLambda = lam\n",
        "    bestMSE = XGBMSE\n",
        "print(\"best lambda\", bestLambda)\n",
        "\n",
        "\n",
        "# Report your performance and output the feature importance.\n",
        "param = {'max_depth': 6, \n",
        "          'min_child_weight': 1,\n",
        "          'eta': .3, \n",
        "          'objective': 'reg:squarederror',\n",
        "          'reg_alpha' : bestLambda}\n",
        "evallist = [(dtrain, 'train'), (dval, 'val')]\n",
        "bst = xgb.train(param, dtrain, num_boost_round = 50, evals = evallist, \n",
        "                early_stopping_rounds = 10, verbose_eval = False)\n",
        "\n",
        "\n",
        "ypred = bst.predict(xgb.DMatrix(XGBtest_X), ntree_limit=bst.best_ntree_limit)\n",
        "XGBMSE_test = np.square(np.subtract(XGBtest_Y, ypred)).mean()\n",
        "print(\"TEST MSE\", XGBMSE_test)\n",
        "\n",
        "# \n",
        "xgb.plot_importance(bst)"
      ],
      "execution_count": 167,
      "outputs": [
        {
          "output_type": "stream",
          "text": [
            "best lambda 30\n",
            "TEST MSE 1.5731854177272309\n"
          ],
          "name": "stdout"
        },
        {
          "output_type": "execute_result",
          "data": {
            "text/plain": [
              "<matplotlib.axes._subplots.AxesSubplot at 0x7f7ec36fd4e0>"
            ]
          },
          "metadata": {
            "tags": []
          },
          "execution_count": 167
        },
        {
          "output_type": "display_data",
          "data": {
            "image/png": "[encoded data removed]",
            "text/plain": [
              "<Figure size 432x288 with 1 Axes>"
            ]
          },
          "metadata": {
            "tags": [],
            "needs_background": "light"
          }
        }
      ]
    },
    {
      "cell_type": "markdown",
      "metadata": {
        "id": "BoFCaK7fz97U",
        "colab_type": "text"
      },
      "source": [
        "\n",
        "Do the features reported make sense? If you are using the same dataset from assignment 1 or 2, do they agree with what you discovered using the Lasso penalty?\n",
        "\n",
        "For this assignment I used the same dataset as I did in Assignment 1. The features reported do make sense for feature importance as RH is relative humidity in %: 15.0 to 100, according to https://www.nwcg.gov/ . However, these features are not the same as the features with the highest coefficients for Lasso Regression in Assignment 1. However, RH was one of the four chosen features that predicted small forest fires the best in http://www3.dsi.uminho.pt/pcortez/fires.pdf . "
      ]
    },
    {
      "cell_type": "code",
      "metadata": {
        "id": "RXYy78jKspcN",
        "colab_type": "code",
        "colab": {
          "base_uri": "https://localhost:8080/",
          "height": 265
        },
        "outputId": "7a57c19c-6c24-4b09-c3a0-21d81385a77c"
      },
      "source": [
        "# plot - ‘weight’: the number of times a feature is used to split the data across all trees.\n",
        "feat_imp = bst.get_score(importance_type='weight')\n",
        "pyplot.bar(feat_imp.keys(), feat_imp.values())\n",
        "pyplot.show()"
      ],
      "execution_count": 168,
      "outputs": [
        {
          "output_type": "display_data",
          "data": {
            "image/png": "[encoded data removed]",
            "text/plain": [
              "<Figure size 432x288 with 1 Axes>"
            ]
          },
          "metadata": {
            "tags": [],
            "needs_background": "light"
          }
        }
      ]
    },
    {
      "cell_type": "code",
      "metadata": {
        "id": "iX4NUrjDed5X",
        "colab_type": "code",
        "colab": {
          "base_uri": "https://localhost:8080/",
          "height": 775
        },
        "outputId": "9a611557-15c2-45fa-8bf5-87e7a70debaa"
      },
      "source": [
        "xgb.to_graphviz(bst, num_trees=2)"
      ],
      "execution_count": 169,
      "outputs": [
        {
          "output_type": "execute_result",
          "data": {
            "text/plain": [
              "<graphviz.dot.Digraph at 0x7f7ec3b5d048>"
            ],
            "image/svg+xml": "<?xml version=\"1.0\" encoding=\"UTF-8\" standalone=\"no\"?>\n<!DOCTYPE svg PUBLIC \"-//W3C//DTD SVG 1.1//EN\"\n \"http://www.w3.org/Graphics/SVG/1.1/DTD/svg11.dtd\">\n<!-- Generated by graphviz version 2.40.1 (20161225.0304)\n -->\n<!-- Title: %3 Pages: 1 -->\n<svg width=\"320pt\" height=\"566pt\"\n viewBox=\"0.00 0.00 320.09 566.00\" xmlns=\"http://www.w3.org/2000/svg\" xmlns:xlink=\"http://www.w3.org/1999/xlink\">\n<g id=\"graph0\" class=\"graph\" transform=\"scale(1 1) rotate(0) translate(4 562)\">\n<title>%3</title>\n<polygon fill=\"#ffffff\" stroke=\"transparent\" points=\"-4,4 -4,-562 316.0934,-562 316.0934,4 -4,4\"/>\n<!-- 0 -->\n<g id=\"node1\" class=\"node\">\n<title>0</title>\n<ellipse fill=\"none\" stroke=\"#000000\" cx=\"84.0467\" cy=\"-540\" rx=\"44.393\" ry=\"18\"/>\n<text text-anchor=\"middle\" x=\"84.0467\" y=\"-536.3\" font-family=\"Times,serif\" font-size=\"14.00\" fill=\"#000000\">ISI&lt;0.75</text>\n</g>\n<!-- 1 -->\n<g id=\"node2\" class=\"node\">\n<title>1</title>\n<ellipse fill=\"none\" stroke=\"#000000\" cx=\"37.0467\" cy=\"-453\" rx=\"37.0935\" ry=\"18\"/>\n<text text-anchor=\"middle\" x=\"37.0467\" y=\"-449.3\" font-family=\"Times,serif\" font-size=\"14.00\" fill=\"#000000\">leaf=&#45;0</text>\n</g>\n<!-- 0&#45;&gt;1 -->\n<g id=\"edge1\" class=\"edge\">\n<title>0&#45;&gt;1</title>\n<path fill=\"none\" stroke=\"#0000ff\" d=\"M70.8566,-522.5083C66.8139,-516.7671 62.5205,-510.2525 59.0467,-504 54.8977,-496.5322 50.9856,-488.1252 47.6433,-480.3234\"/>\n<polygon fill=\"#0000ff\" stroke=\"#0000ff\" points=\"50.7947,-478.7852 43.7395,-470.8811 44.3258,-481.4597 50.7947,-478.7852\"/>\n<text text-anchor=\"middle\" x=\"94.5467\" y=\"-492.8\" font-family=\"Times,serif\" font-size=\"14.00\" fill=\"#000000\">yes, missing</text>\n</g>\n<!-- 2 -->\n<g id=\"node3\" class=\"node\">\n<title>2</title>\n<ellipse fill=\"none\" stroke=\"#000000\" cx=\"173.0467\" cy=\"-453\" rx=\"81.4863\" ry=\"18\"/>\n<text text-anchor=\"middle\" x=\"173.0467\" y=\"-449.3\" font-family=\"Times,serif\" font-size=\"14.00\" fill=\"#000000\">rain&lt;0.100000001</text>\n</g>\n<!-- 0&#45;&gt;2 -->\n<g id=\"edge2\" class=\"edge\">\n<title>0&#45;&gt;2</title>\n<path fill=\"none\" stroke=\"#ff0000\" d=\"M106.3406,-524.0294C114.1305,-518.0718 122.7464,-511.0389 130.0467,-504 138.1337,-496.2025 146.2658,-486.992 153.2477,-478.5588\"/>\n<polygon fill=\"#ff0000\" stroke=\"#ff0000\" points=\"155.9726,-480.7554 159.5503,-470.7829 150.5345,-476.3477 155.9726,-480.7554\"/>\n<text text-anchor=\"middle\" x=\"152.0467\" y=\"-492.8\" font-family=\"Times,serif\" font-size=\"14.00\" fill=\"#000000\">no</text>\n</g>\n<!-- 3 -->\n<g id=\"node4\" class=\"node\">\n<title>3</title>\n<ellipse fill=\"none\" stroke=\"#000000\" cx=\"126.0467\" cy=\"-366\" rx=\"27.8951\" ry=\"18\"/>\n<text text-anchor=\"middle\" x=\"126.0467\" y=\"-362.3\" font-family=\"Times,serif\" font-size=\"14.00\" fill=\"#000000\">Y&lt;3</text>\n</g>\n<!-- 2&#45;&gt;3 -->\n<g id=\"edge3\" class=\"edge\">\n<title>2&#45;&gt;3</title>\n<path fill=\"none\" stroke=\"#0000ff\" d=\"M143.3313,-436.0252C136.8169,-430.8067 130.7621,-424.4395 127.0467,-417 123.5648,-410.0279 122.3585,-401.8228 122.2748,-394.0562\"/>\n<polygon fill=\"#0000ff\" stroke=\"#0000ff\" points=\"125.779,-394.0462 122.7482,-383.8941 118.7866,-393.7204 125.779,-394.0462\"/>\n<text text-anchor=\"middle\" x=\"162.5467\" y=\"-405.8\" font-family=\"Times,serif\" font-size=\"14.00\" fill=\"#000000\">yes, missing</text>\n</g>\n<!-- 4 -->\n<g id=\"node5\" class=\"node\">\n<title>4</title>\n<ellipse fill=\"none\" stroke=\"#000000\" cx=\"220.0467\" cy=\"-366\" rx=\"37.0935\" ry=\"18\"/>\n<text text-anchor=\"middle\" x=\"220.0467\" y=\"-362.3\" font-family=\"Times,serif\" font-size=\"14.00\" fill=\"#000000\">leaf=&#45;0</text>\n</g>\n<!-- 2&#45;&gt;4 -->\n<g id=\"edge4\" class=\"edge\">\n<title>2&#45;&gt;4</title>\n<path fill=\"none\" stroke=\"#ff0000\" d=\"M186.4952,-435.1408C190.4618,-429.49 194.6468,-423.1195 198.0467,-417 202.1957,-409.5322 206.1078,-401.1252 209.4501,-393.3234\"/>\n<polygon fill=\"#ff0000\" stroke=\"#ff0000\" points=\"212.7676,-394.4597 213.3539,-383.8811 206.2987,-391.7852 212.7676,-394.4597\"/>\n<text text-anchor=\"middle\" x=\"214.0467\" y=\"-405.8\" font-family=\"Times,serif\" font-size=\"14.00\" fill=\"#000000\">no</text>\n</g>\n<!-- 5 -->\n<g id=\"node6\" class=\"node\">\n<title>5</title>\n<ellipse fill=\"none\" stroke=\"#000000\" cx=\"79.0467\" cy=\"-279\" rx=\"37.0935\" ry=\"18\"/>\n<text text-anchor=\"middle\" x=\"79.0467\" y=\"-275.3\" font-family=\"Times,serif\" font-size=\"14.00\" fill=\"#000000\">leaf=&#45;0</text>\n</g>\n<!-- 3&#45;&gt;5 -->\n<g id=\"edge5\" class=\"edge\">\n<title>3&#45;&gt;5</title>\n<path fill=\"none\" stroke=\"#0000ff\" d=\"M104.0561,-354.6053C94.8989,-348.6128 85.212,-340.3427 80.0467,-330 76.6192,-323.1369 75.3968,-315.0789 75.2796,-307.4206\"/>\n<polygon fill=\"#0000ff\" stroke=\"#0000ff\" points=\"78.7787,-307.5129 75.7015,-297.3748 71.7849,-307.219 78.7787,-307.5129\"/>\n<text text-anchor=\"middle\" x=\"115.5467\" y=\"-318.8\" font-family=\"Times,serif\" font-size=\"14.00\" fill=\"#000000\">yes, missing</text>\n</g>\n<!-- 6 -->\n<g id=\"node7\" class=\"node\">\n<title>6</title>\n<ellipse fill=\"none\" stroke=\"#000000\" cx=\"173.0467\" cy=\"-279\" rx=\"38.9931\" ry=\"18\"/>\n<text text-anchor=\"middle\" x=\"173.0467\" y=\"-275.3\" font-family=\"Times,serif\" font-size=\"14.00\" fill=\"#000000\">RH&lt;72</text>\n</g>\n<!-- 3&#45;&gt;6 -->\n<g id=\"edge6\" class=\"edge\">\n<title>3&#45;&gt;6</title>\n<path fill=\"none\" stroke=\"#ff0000\" d=\"M138.466,-349.5979C142.7281,-343.5998 147.3512,-336.6516 151.0467,-330 155.1957,-322.5322 159.1078,-314.1252 162.4501,-306.3234\"/>\n<polygon fill=\"#ff0000\" stroke=\"#ff0000\" points=\"165.7676,-307.4597 166.3539,-296.8811 159.2987,-304.7852 165.7676,-307.4597\"/>\n<text text-anchor=\"middle\" x=\"167.0467\" y=\"-318.8\" font-family=\"Times,serif\" font-size=\"14.00\" fill=\"#000000\">no</text>\n</g>\n<!-- 7 -->\n<g id=\"node8\" class=\"node\">\n<title>7</title>\n<ellipse fill=\"none\" stroke=\"#000000\" cx=\"126.0467\" cy=\"-192\" rx=\"38.9931\" ry=\"18\"/>\n<text text-anchor=\"middle\" x=\"126.0467\" y=\"-188.3\" font-family=\"Times,serif\" font-size=\"14.00\" fill=\"#000000\">RH&lt;25</text>\n</g>\n<!-- 6&#45;&gt;7 -->\n<g id=\"edge7\" class=\"edge\">\n<title>6&#45;&gt;7</title>\n<path fill=\"none\" stroke=\"#0000ff\" d=\"M147.6677,-265.2949C139.5878,-259.5503 131.5777,-252.0725 127.0467,-243 123.6192,-236.1369 122.3968,-228.0789 122.2796,-220.4206\"/>\n<polygon fill=\"#0000ff\" stroke=\"#0000ff\" points=\"125.7787,-220.5129 122.7015,-210.3748 118.7849,-220.219 125.7787,-220.5129\"/>\n<text text-anchor=\"middle\" x=\"162.5467\" y=\"-231.8\" font-family=\"Times,serif\" font-size=\"14.00\" fill=\"#000000\">yes, missing</text>\n</g>\n<!-- 8 -->\n<g id=\"node9\" class=\"node\">\n<title>8</title>\n<ellipse fill=\"none\" stroke=\"#000000\" cx=\"220.0467\" cy=\"-192\" rx=\"37.0935\" ry=\"18\"/>\n<text text-anchor=\"middle\" x=\"220.0467\" y=\"-188.3\" font-family=\"Times,serif\" font-size=\"14.00\" fill=\"#000000\">leaf=&#45;0</text>\n</g>\n<!-- 6&#45;&gt;8 -->\n<g id=\"edge8\" class=\"edge\">\n<title>6&#45;&gt;8</title>\n<path fill=\"none\" stroke=\"#ff0000\" d=\"M185.9791,-261.8737C190.0965,-256.0444 194.499,-249.3855 198.0467,-243 202.1957,-235.5322 206.1078,-227.1252 209.4501,-219.3234\"/>\n<polygon fill=\"#ff0000\" stroke=\"#ff0000\" points=\"212.7676,-220.4597 213.3539,-209.8811 206.2987,-217.7852 212.7676,-220.4597\"/>\n<text text-anchor=\"middle\" x=\"214.0467\" y=\"-231.8\" font-family=\"Times,serif\" font-size=\"14.00\" fill=\"#000000\">no</text>\n</g>\n<!-- 9 -->\n<g id=\"node10\" class=\"node\">\n<title>9</title>\n<ellipse fill=\"none\" stroke=\"#000000\" cx=\"79.0467\" cy=\"-105\" rx=\"37.0935\" ry=\"18\"/>\n<text text-anchor=\"middle\" x=\"79.0467\" y=\"-101.3\" font-family=\"Times,serif\" font-size=\"14.00\" fill=\"#000000\">leaf=&#45;0</text>\n</g>\n<!-- 7&#45;&gt;9 -->\n<g id=\"edge9\" class=\"edge\">\n<title>7&#45;&gt;9</title>\n<path fill=\"none\" stroke=\"#0000ff\" d=\"M110.62,-175.2762C105.8155,-169.4738 100.7992,-162.729 97.0467,-156 93.0402,-148.8156 89.6679,-140.5755 86.9648,-132.8438\"/>\n<polygon fill=\"#0000ff\" stroke=\"#0000ff\" points=\"90.2191,-131.5329 83.7999,-123.1041 83.5617,-133.6962 90.2191,-131.5329\"/>\n<text text-anchor=\"middle\" x=\"132.5467\" y=\"-144.8\" font-family=\"Times,serif\" font-size=\"14.00\" fill=\"#000000\">yes, missing</text>\n</g>\n<!-- 10 -->\n<g id=\"node11\" class=\"node\">\n<title>10</title>\n<ellipse fill=\"none\" stroke=\"#000000\" cx=\"207.0467\" cy=\"-105\" rx=\"73.387\" ry=\"18\"/>\n<text text-anchor=\"middle\" x=\"207.0467\" y=\"-101.3\" font-family=\"Times,serif\" font-size=\"14.00\" fill=\"#000000\">ISI&lt;20.1499996</text>\n</g>\n<!-- 7&#45;&gt;10 -->\n<g id=\"edge10\" class=\"edge\">\n<title>7&#45;&gt;10</title>\n<path fill=\"none\" stroke=\"#ff0000\" d=\"M146.05,-176.3176C153.2811,-170.2779 161.3159,-163.1171 168.0467,-156 175.2089,-148.4268 182.3426,-139.581 188.513,-131.403\"/>\n<polygon fill=\"#ff0000\" stroke=\"#ff0000\" points=\"191.4404,-133.3303 194.5552,-123.2036 185.8052,-129.1776 191.4404,-133.3303\"/>\n<text text-anchor=\"middle\" x=\"189.0467\" y=\"-144.8\" font-family=\"Times,serif\" font-size=\"14.00\" fill=\"#000000\">no</text>\n</g>\n<!-- 11 -->\n<g id=\"node12\" class=\"node\">\n<title>11</title>\n<ellipse fill=\"none\" stroke=\"#000000\" cx=\"140.0467\" cy=\"-18\" rx=\"79.8859\" ry=\"18\"/>\n<text text-anchor=\"middle\" x=\"140.0467\" y=\"-14.3\" font-family=\"Times,serif\" font-size=\"14.00\" fill=\"#000000\">leaf=0.112504065</text>\n</g>\n<!-- 10&#45;&gt;11 -->\n<g id=\"edge11\" class=\"edge\">\n<title>10&#45;&gt;11</title>\n<path fill=\"none\" stroke=\"#0000ff\" d=\"M193.1643,-86.9735C183.6418,-74.6085 170.8541,-58.0036 160.212,-44.1847\"/>\n<polygon fill=\"#0000ff\" stroke=\"#0000ff\" points=\"162.7859,-41.7907 153.9114,-36.0034 157.2399,-46.0618 162.7859,-41.7907\"/>\n<text text-anchor=\"middle\" x=\"213.5467\" y=\"-57.8\" font-family=\"Times,serif\" font-size=\"14.00\" fill=\"#000000\">yes, missing</text>\n</g>\n<!-- 12 -->\n<g id=\"node13\" class=\"node\">\n<title>12</title>\n<ellipse fill=\"none\" stroke=\"#000000\" cx=\"275.0467\" cy=\"-18\" rx=\"37.0935\" ry=\"18\"/>\n<text text-anchor=\"middle\" x=\"275.0467\" y=\"-14.3\" font-family=\"Times,serif\" font-size=\"14.00\" fill=\"#000000\">leaf=&#45;0</text>\n</g>\n<!-- 10&#45;&gt;12 -->\n<g id=\"edge12\" class=\"edge\">\n<title>10&#45;&gt;12</title>\n<path fill=\"none\" stroke=\"#ff0000\" d=\"M233.4352,-87.9668C240.4576,-82.5285 247.5963,-76.0663 253.0467,-69 258.406,-62.0517 262.7351,-53.599 266.0891,-45.5893\"/>\n<polygon fill=\"#ff0000\" stroke=\"#ff0000\" points=\"269.3886,-46.7602 269.7005,-36.17 262.8525,-44.2542 269.3886,-46.7602\"/>\n<text text-anchor=\"middle\" x=\"270.0467\" y=\"-57.8\" font-family=\"Times,serif\" font-size=\"14.00\" fill=\"#000000\">no</text>\n</g>\n</g>\n</svg>\n"
          },
          "metadata": {
            "tags": []
          },
          "execution_count": 169
        }
      ]
    }
  ]
}