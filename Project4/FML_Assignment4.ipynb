{
  "nbformat": 4,
  "nbformat_minor": 0,
  "metadata": {
    "colab": {
      "name": "FML_Assignment4.ipynb",
      "provenance": [],
      "authorship_tag": "ABX9TyN1pGz9futqNO7q+p685HHH",
      "include_colab_link": true
    },
    "kernelspec": {
      "name": "python3",
      "display_name": "Python 3"
    }
  },
  "cells": [
    {
      "cell_type": "markdown",
      "metadata": {
        "id": "view-in-github",
        "colab_type": "text"
      },
      "source": [
        "<a href=\"https://colab.research.google.com/github/nsubbaian/FrequentistML/blob/master/Project4/FML_Assignment4.ipynb\" target=\"_parent\"><img src=\"https://colab.research.google.com/assets/colab-badge.svg\" alt=\"Open In Colab\"/></a>"
      ]
    },
    {
      "cell_type": "markdown",
      "metadata": {
        "id": "pi7glE_WQeS9",
        "colab_type": "text"
      },
      "source": [
        "# **Assignment 4: xTreme Gradient Boosted Trees**"
      ]
    },
    {
      "cell_type": "markdown",
      "metadata": {
        "id": "tP5O61oGQttd",
        "colab_type": "text"
      },
      "source": [
        "Using out of the box package for xTreme gradient boosting trees: https://xgboost.readthedocs.io/en/latest/.\n"
      ]
    },
    {
      "cell_type": "code",
      "metadata": {
        "id": "ZvLO_PpYQepX",
        "colab_type": "code",
        "colab": {
          "base_uri": "https://localhost:8080/",
          "height": 265
        },
        "outputId": "07418162-afed-4966-dcd1-45036117b8e8"
      },
      "source": [
        "import pandas as pd\n",
        "import numpy as np\n",
        "import matplotlib.pyplot as plt\n",
        "import xgboost as xgb\n",
        "SEED = 42\n",
        "\n",
        "# Selected Dataset: http://archive.ics.uci.edu/ml/datasets/Forest+Fires\n",
        "# Dataset Description: https://archive.ics.uci.edu/ml/machine-learning-databases/forest-fires/forestfires.names\n",
        "# Chosen so it's good for regression (with numerical, not categorical features, and the target is a continuous number)\n",
        "\n",
        "dataset = pd.read_csv('https://archive.ics.uci.edu/ml/machine-learning-databases/forest-fires/forestfires.csv')\n",
        "\n",
        "# removed categorical feautures\n",
        "dataset = dataset.drop(columns = {'month', 'day'})\n",
        "\n",
        "# Shuffle and then split training data into 80% train, 10% validation and 10% test\n",
        "training, validation, test = np.split(dataset.sample(frac=1), [int(.8*len(dataset)), int(.9*len(dataset))])\n",
        "print(\"Length of dataset:\", len(dataset))\n",
        "print( \"Length of training:\", len(training))\n",
        "print(\"Length of validation:\", len(validation))\n",
        "print(\"Length of test:\", len(test))\n",
        "\n",
        "training.head()"
      ],
      "execution_count": 223,
      "outputs": [
        {
          "output_type": "stream",
          "text": [
            "Length of dataset: 517\n",
            "Length of training: 413\n",
            "Length of validation: 52\n",
            "Length of test: 52\n"
          ],
          "name": "stdout"
        },
        {
          "output_type": "execute_result",
          "data": {
            "text/html": [
              "<div>\n",
              "<style scoped>\n",
              "    .dataframe tbody tr th:only-of-type {\n",
              "        vertical-align: middle;\n",
              "    }\n",
              "\n",
              "    .dataframe tbody tr th {\n",
              "        vertical-align: top;\n",
              "    }\n",
              "\n",
              "    .dataframe thead th {\n",
              "        text-align: right;\n",
              "    }\n",
              "</style>\n",
              "<table border=\"1\" class=\"dataframe\">\n",
              "  <thead>\n",
              "    <tr style=\"text-align: right;\">\n",
              "      <th></th>\n",
              "      <th>X</th>\n",
              "      <th>Y</th>\n",
              "      <th>FFMC</th>\n",
              "      <th>DMC</th>\n",
              "      <th>DC</th>\n",
              "      <th>ISI</th>\n",
              "      <th>temp</th>\n",
              "      <th>RH</th>\n",
              "      <th>wind</th>\n",
              "      <th>rain</th>\n",
              "      <th>area</th>\n",
              "    </tr>\n",
              "  </thead>\n",
              "  <tbody>\n",
              "    <tr>\n",
              "      <th>338</th>\n",
              "      <td>8</td>\n",
              "      <td>6</td>\n",
              "      <td>91.6</td>\n",
              "      <td>108.4</td>\n",
              "      <td>764.0</td>\n",
              "      <td>6.2</td>\n",
              "      <td>22.7</td>\n",
              "      <td>35</td>\n",
              "      <td>2.2</td>\n",
              "      <td>0.0</td>\n",
              "      <td>7.48</td>\n",
              "    </tr>\n",
              "    <tr>\n",
              "      <th>461</th>\n",
              "      <td>8</td>\n",
              "      <td>6</td>\n",
              "      <td>93.7</td>\n",
              "      <td>231.1</td>\n",
              "      <td>715.1</td>\n",
              "      <td>8.4</td>\n",
              "      <td>18.9</td>\n",
              "      <td>64</td>\n",
              "      <td>4.9</td>\n",
              "      <td>0.0</td>\n",
              "      <td>0.00</td>\n",
              "    </tr>\n",
              "    <tr>\n",
              "      <th>226</th>\n",
              "      <td>7</td>\n",
              "      <td>5</td>\n",
              "      <td>91.7</td>\n",
              "      <td>48.5</td>\n",
              "      <td>696.1</td>\n",
              "      <td>11.1</td>\n",
              "      <td>16.1</td>\n",
              "      <td>44</td>\n",
              "      <td>4.0</td>\n",
              "      <td>0.0</td>\n",
              "      <td>49.37</td>\n",
              "    </tr>\n",
              "    <tr>\n",
              "      <th>80</th>\n",
              "      <td>1</td>\n",
              "      <td>2</td>\n",
              "      <td>91.4</td>\n",
              "      <td>142.4</td>\n",
              "      <td>601.4</td>\n",
              "      <td>10.6</td>\n",
              "      <td>19.5</td>\n",
              "      <td>39</td>\n",
              "      <td>6.3</td>\n",
              "      <td>0.0</td>\n",
              "      <td>0.00</td>\n",
              "    </tr>\n",
              "    <tr>\n",
              "      <th>28</th>\n",
              "      <td>6</td>\n",
              "      <td>3</td>\n",
              "      <td>93.4</td>\n",
              "      <td>145.4</td>\n",
              "      <td>721.4</td>\n",
              "      <td>8.1</td>\n",
              "      <td>30.2</td>\n",
              "      <td>24</td>\n",
              "      <td>2.7</td>\n",
              "      <td>0.0</td>\n",
              "      <td>0.00</td>\n",
              "    </tr>\n",
              "  </tbody>\n",
              "</table>\n",
              "</div>"
            ],
            "text/plain": [
              "     X  Y  FFMC    DMC     DC   ISI  temp  RH  wind  rain   area\n",
              "338  8  6  91.6  108.4  764.0   6.2  22.7  35   2.2   0.0   7.48\n",
              "461  8  6  93.7  231.1  715.1   8.4  18.9  64   4.9   0.0   0.00\n",
              "226  7  5  91.7   48.5  696.1  11.1  16.1  44   4.0   0.0  49.37\n",
              "80   1  2  91.4  142.4  601.4  10.6  19.5  39   6.3   0.0   0.00\n",
              "28   6  3  93.4  145.4  721.4   8.1  30.2  24   2.7   0.0   0.00"
            ]
          },
          "metadata": {
            "tags": []
          },
          "execution_count": 223
        }
      ]
    },
    {
      "cell_type": "code",
      "metadata": {
        "id": "FM8vYl5e0WGl",
        "colab_type": "code",
        "colab": {
          "base_uri": "https://localhost:8080/",
          "height": 348
        },
        "outputId": "2afb4353-b20c-41ee-8d18-1850ad52a319"
      },
      "source": [
        "XGBtrain_X, XGBtrain_Y = training.iloc[:, :10], np.log(training.iloc[:, 10]+ 1)\n",
        "XGBval_X, XGBval_Y = validation.iloc[:, :10], np.log(validation.iloc[:, 10]+1)\n",
        "XGBtest_X, XGBtest_Y = test.iloc[:, :10], np.log(test.iloc[:, 10]+1)\n",
        "\n",
        "dtrain = xgb.DMatrix(XGBtrain_X, label=XGBtrain_Y)\n",
        "dtest = xgb.DMatrix(XGBtest_X, label=XGBtest_Y)\n",
        "dval = xgb.DMatrix(XGBval_X, XGBval_Y)\n",
        "\n",
        "# tune your regression method - selecting optimal L1 regularization term on weights.\n",
        "bestMSE = float('inf')\n",
        "for lam in [1e-15, 1e-5, .1, 1, 5, 10, 11, 12, 13, 14, 15, 16, 17, 20, 25, 30, 35, 50, 100]:\n",
        "  param = {'max_depth': 6, 'min_child_weight': 1, 'eta': .3, \n",
        "          'objective': 'reg:squarederror',\n",
        "          'reg_alpha' : lam}\n",
        "  evallist = [ (dval, 'val')]\n",
        "\n",
        "  # uses early stopping to find the optimal number of boosting rounds\n",
        "  bst = xgb.train(param, dtrain, num_boost_round = 50, evals = evallist, \n",
        "                  early_stopping_rounds = 10, verbose_eval = False)\n",
        "  \n",
        "  XGBMSE = bst.best_score\n",
        "  if (XGBMSE < bestMSE):\n",
        "    bestLambda = lam\n",
        "    bestMSE = XGBMSE\n",
        "print(\"best lambda\", bestLambda)\n",
        "\n",
        "\n",
        "# Report your performance and output the feature importance\n",
        "param = {'max_depth': 6, \n",
        "          'min_child_weight': 1,\n",
        "          'eta': .3, \n",
        "          'objective': 'reg:squarederror',\n",
        "          'reg_alpha' : bestLambda}\n",
        "evallist = [(dtrain, 'train'), (dval, 'val')]\n",
        "bst = xgb.train(param, dtrain, num_boost_round = 50, evals = evallist, \n",
        "                early_stopping_rounds = 10, verbose_eval = False)\n",
        "\n",
        "\n",
        "ypred = bst.predict(xgb.DMatrix(XGBtest_X), ntree_limit=bst.best_ntree_limit)\n",
        "XGBMSE_test = np.square(np.subtract(XGBtest_Y, ypred)).mean()\n",
        "print(\"TEST MSE\", XGBMSE_test)\n",
        "\n",
        "xgb.plot_importance(bst)"
      ],
      "execution_count": 224,
      "outputs": [
        {
          "output_type": "stream",
          "text": [
            "best lambda 14\n",
            "TEST MSE 1.5773251025499209\n"
          ],
          "name": "stdout"
        },
        {
          "output_type": "execute_result",
          "data": {
            "text/plain": [
              "<matplotlib.axes._subplots.AxesSubplot at 0x7f7ec1745d30>"
            ]
          },
          "metadata": {
            "tags": []
          },
          "execution_count": 224
        },
        {
          "output_type": "display_data",
          "data": {
            "image/png": "[encoded data removed]",
            "text/plain": [
              "<Figure size 432x288 with 1 Axes>"
            ]
          },
          "metadata": {
            "tags": [],
            "needs_background": "light"
          }
        }
      ]
    },
    {
      "cell_type": "markdown",
      "metadata": {
        "id": "BoFCaK7fz97U",
        "colab_type": "text"
      },
      "source": [
        "\n",
        "Do the features reported make sense? If you are using the same dataset from assignment 1 or 2, do they agree with what you discovered using the Lasso penalty?\n",
        "\n",
        "For this assignment I used the same dataset as I did in Assignment 1. The features reported do make sense for feature importance as RH is relative humidity in %: 15.0 to 100, according to https://www.nwcg.gov/ . However, these features are not the same as the features with the highest coefficients for Lasso Regression in Assignment 1. However, RH was one of the four chosen features that predicted small forest fires the best in http://www3.dsi.uminho.pt/pcortez/fires.pdf . "
      ]
    },
    {
      "cell_type": "code",
      "metadata": {
        "id": "RXYy78jKspcN",
        "colab_type": "code",
        "colab": {
          "base_uri": "https://localhost:8080/",
          "height": 265
        },
        "outputId": "7d9d8c5f-f8c4-40b2-fa0a-b91a4c6ee59d"
      },
      "source": [
        "# plot - ‘weight’: the number of times a feature is used to split the data across all trees.\n",
        "feat_imp = bst.get_score(importance_type='weight')\n",
        "pyplot.bar(feat_imp.keys(), feat_imp.values())\n",
        "pyplot.show()"
      ],
      "execution_count": 225,
      "outputs": [
        {
          "output_type": "display_data",
          "data": {
            "image/png": "[encoded data removed]",
            "text/plain": [
              "<Figure size 432x288 with 1 Axes>"
            ]
          },
          "metadata": {
            "tags": [],
            "needs_background": "light"
          }
        }
      ]
    },
    {
      "cell_type": "code",
      "metadata": {
        "id": "iX4NUrjDed5X",
        "colab_type": "code",
        "colab": {
          "base_uri": "https://localhost:8080/",
          "height": 775
        },
        "outputId": "8f676f55-8cc1-41fa-ab5b-0990d07b338c"
      },
      "source": [
        "xgb.to_graphviz(bst, num_trees=2)"
      ],
      "execution_count": 226,
      "outputs": [
        {
          "output_type": "execute_result",
          "data": {
            "text/plain": [
              "<graphviz.dot.Digraph at 0x7f7ec36fd668>"
            ],
            "image/svg+xml": "<?xml version=\"1.0\" encoding=\"UTF-8\" standalone=\"no\"?>\n<!DOCTYPE svg PUBLIC \"-//W3C//DTD SVG 1.1//EN\"\n \"http://www.w3.org/Graphics/SVG/1.1/DTD/svg11.dtd\">\n<!-- Generated by graphviz version 2.40.1 (20161225.0304)\n -->\n<!-- Title: %3 Pages: 1 -->\n<svg width=\"805pt\" height=\"566pt\"\n viewBox=\"0.00 0.00 804.94 566.00\" xmlns=\"http://www.w3.org/2000/svg\" xmlns:xlink=\"http://www.w3.org/1999/xlink\">\n<g id=\"graph0\" class=\"graph\" transform=\"scale(1 1) rotate(0) translate(4 562)\">\n<title>%3</title>\n<polygon fill=\"#ffffff\" stroke=\"transparent\" points=\"-4,4 -4,-562 800.936,-562 800.936,4 -4,4\"/>\n<!-- 0 -->\n<g id=\"node1\" class=\"node\">\n<title>0</title>\n<ellipse fill=\"none\" stroke=\"#000000\" cx=\"492.2428\" cy=\"-540\" rx=\"81.4863\" ry=\"18\"/>\n<text text-anchor=\"middle\" x=\"492.2428\" y=\"-536.3\" font-family=\"Times,serif\" font-size=\"14.00\" fill=\"#000000\">temp&lt;19.8499985</text>\n</g>\n<!-- 1 -->\n<g id=\"node2\" class=\"node\">\n<title>1</title>\n<ellipse fill=\"none\" stroke=\"#000000\" cx=\"433.2428\" cy=\"-453\" rx=\"27.8951\" ry=\"18\"/>\n<text text-anchor=\"middle\" x=\"433.2428\" y=\"-449.3\" font-family=\"Times,serif\" font-size=\"14.00\" fill=\"#000000\">X&lt;4</text>\n</g>\n<!-- 0&#45;&gt;1 -->\n<g id=\"edge1\" class=\"edge\">\n<title>0&#45;&gt;1</title>\n<path fill=\"none\" stroke=\"#0000ff\" d=\"M480.018,-521.9735C471.353,-509.1964 459.6177,-491.8919 450.0696,-477.8124\"/>\n<polygon fill=\"#0000ff\" stroke=\"#0000ff\" points=\"452.9636,-475.8439 444.4541,-469.532 447.1701,-479.7728 452.9636,-475.8439\"/>\n<text text-anchor=\"middle\" x=\"502.7428\" y=\"-492.8\" font-family=\"Times,serif\" font-size=\"14.00\" fill=\"#000000\">yes, missing</text>\n</g>\n<!-- 2 -->\n<g id=\"node3\" class=\"node\">\n<title>2</title>\n<ellipse fill=\"none\" stroke=\"#000000\" cx=\"572.2428\" cy=\"-453\" rx=\"38.9931\" ry=\"18\"/>\n<text text-anchor=\"middle\" x=\"572.2428\" y=\"-449.3\" font-family=\"Times,serif\" font-size=\"14.00\" fill=\"#000000\">RH&lt;26</text>\n</g>\n<!-- 0&#45;&gt;2 -->\n<g id=\"edge2\" class=\"edge\">\n<title>0&#45;&gt;2</title>\n<path fill=\"none\" stroke=\"#ff0000\" d=\"M517.9829,-522.7916C525.2939,-517.2621 532.9662,-510.7953 539.2428,-504 546.0742,-496.604 552.3998,-487.6316 557.6468,-479.2871\"/>\n<polygon fill=\"#ff0000\" stroke=\"#ff0000\" points=\"560.7279,-480.9551 562.8899,-470.5832 554.7318,-477.3431 560.7279,-480.9551\"/>\n<text text-anchor=\"middle\" x=\"559.2428\" y=\"-492.8\" font-family=\"Times,serif\" font-size=\"14.00\" fill=\"#000000\">no</text>\n</g>\n<!-- 3 -->\n<g id=\"node4\" class=\"node\">\n<title>3</title>\n<ellipse fill=\"none\" stroke=\"#000000\" cx=\"256.2428\" cy=\"-366\" rx=\"75.2868\" ry=\"18\"/>\n<text text-anchor=\"middle\" x=\"256.2428\" y=\"-362.3\" font-family=\"Times,serif\" font-size=\"14.00\" fill=\"#000000\">DC&lt;674.099976</text>\n</g>\n<!-- 1&#45;&gt;3 -->\n<g id=\"edge3\" class=\"edge\">\n<title>1&#45;&gt;3</title>\n<path fill=\"none\" stroke=\"#0000ff\" d=\"M410.551,-442.2248C395.6516,-435.1211 375.7523,-425.579 358.2428,-417 338.3183,-407.2378 316.2915,-396.2493 297.8212,-386.9789\"/>\n<polygon fill=\"#0000ff\" stroke=\"#0000ff\" points=\"299.2982,-383.8041 288.7913,-382.4415 296.1552,-390.0589 299.2982,-383.8041\"/>\n<text text-anchor=\"middle\" x=\"393.7428\" y=\"-405.8\" font-family=\"Times,serif\" font-size=\"14.00\" fill=\"#000000\">yes, missing</text>\n</g>\n<!-- 4 -->\n<g id=\"node5\" class=\"node\">\n<title>4</title>\n<ellipse fill=\"none\" stroke=\"#000000\" cx=\"433.2428\" cy=\"-366\" rx=\"83.6854\" ry=\"18\"/>\n<text text-anchor=\"middle\" x=\"433.2428\" y=\"-362.3\" font-family=\"Times,serif\" font-size=\"14.00\" fill=\"#000000\">DMC&lt;143.899994</text>\n</g>\n<!-- 1&#45;&gt;4 -->\n<g id=\"edge4\" class=\"edge\">\n<title>1&#45;&gt;4</title>\n<path fill=\"none\" stroke=\"#ff0000\" d=\"M433.2428,-434.9735C433.2428,-423.1918 433.2428,-407.5607 433.2428,-394.1581\"/>\n<polygon fill=\"#ff0000\" stroke=\"#ff0000\" points=\"436.7429,-394.0033 433.2428,-384.0034 429.7429,-394.0034 436.7429,-394.0033\"/>\n<text text-anchor=\"middle\" x=\"441.2428\" y=\"-405.8\" font-family=\"Times,serif\" font-size=\"14.00\" fill=\"#000000\">no</text>\n</g>\n<!-- 5 -->\n<g id=\"node20\" class=\"node\">\n<title>5</title>\n<ellipse fill=\"none\" stroke=\"#000000\" cx=\"572.2428\" cy=\"-366\" rx=\"37.0935\" ry=\"18\"/>\n<text text-anchor=\"middle\" x=\"572.2428\" y=\"-362.3\" font-family=\"Times,serif\" font-size=\"14.00\" fill=\"#000000\">leaf=&#45;0</text>\n</g>\n<!-- 2&#45;&gt;5 -->\n<g id=\"edge19\" class=\"edge\">\n<title>2&#45;&gt;5</title>\n<path fill=\"none\" stroke=\"#0000ff\" d=\"M572.2428,-434.9735C572.2428,-423.1918 572.2428,-407.5607 572.2428,-394.1581\"/>\n<polygon fill=\"#0000ff\" stroke=\"#0000ff\" points=\"575.7429,-394.0033 572.2428,-384.0034 568.7429,-394.0034 575.7429,-394.0033\"/>\n<text text-anchor=\"middle\" x=\"607.7428\" y=\"-405.8\" font-family=\"Times,serif\" font-size=\"14.00\" fill=\"#000000\">yes, missing</text>\n</g>\n<!-- 6 -->\n<g id=\"node21\" class=\"node\">\n<title>6</title>\n<ellipse fill=\"none\" stroke=\"#000000\" cx=\"708.2428\" cy=\"-366\" rx=\"81.4863\" ry=\"18\"/>\n<text text-anchor=\"middle\" x=\"708.2428\" y=\"-362.3\" font-family=\"Times,serif\" font-size=\"14.00\" fill=\"#000000\">rain&lt;0.200000003</text>\n</g>\n<!-- 2&#45;&gt;6 -->\n<g id=\"edge20\" class=\"edge\">\n<title>2&#45;&gt;6</title>\n<path fill=\"none\" stroke=\"#ff0000\" d=\"M601.6354,-440.9366C615.8578,-434.594 632.9122,-426.2246 647.2428,-417 659.3596,-409.2004 671.7377,-399.2814 682.1491,-390.2685\"/>\n<polygon fill=\"#ff0000\" stroke=\"#ff0000\" points=\"684.5157,-392.848 689.6906,-383.603 679.8799,-387.603 684.5157,-392.848\"/>\n<text text-anchor=\"middle\" x=\"675.2428\" y=\"-405.8\" font-family=\"Times,serif\" font-size=\"14.00\" fill=\"#000000\">no</text>\n</g>\n<!-- 7 -->\n<g id=\"node6\" class=\"node\">\n<title>7</title>\n<ellipse fill=\"none\" stroke=\"#000000\" cx=\"182.2428\" cy=\"-279\" rx=\"38.9931\" ry=\"18\"/>\n<text text-anchor=\"middle\" x=\"182.2428\" y=\"-275.3\" font-family=\"Times,serif\" font-size=\"14.00\" fill=\"#000000\">RH&lt;59</text>\n</g>\n<!-- 3&#45;&gt;7 -->\n<g id=\"edge5\" class=\"edge\">\n<title>3&#45;&gt;7</title>\n<path fill=\"none\" stroke=\"#0000ff\" d=\"M214.7597,-350.8425C205.391,-345.5892 196.4049,-338.7508 190.2428,-330 185.6503,-323.4782 183.2841,-315.3269 182.1513,-307.4675\"/>\n<polygon fill=\"#0000ff\" stroke=\"#0000ff\" points=\"185.6351,-307.1276 181.2891,-297.4652 178.6609,-307.7289 185.6351,-307.1276\"/>\n<text text-anchor=\"middle\" x=\"225.7428\" y=\"-318.8\" font-family=\"Times,serif\" font-size=\"14.00\" fill=\"#000000\">yes, missing</text>\n</g>\n<!-- 8 -->\n<g id=\"node7\" class=\"node\">\n<title>8</title>\n<ellipse fill=\"none\" stroke=\"#000000\" cx=\"276.2428\" cy=\"-279\" rx=\"37.0935\" ry=\"18\"/>\n<text text-anchor=\"middle\" x=\"276.2428\" y=\"-275.3\" font-family=\"Times,serif\" font-size=\"14.00\" fill=\"#000000\">leaf=&#45;0</text>\n</g>\n<!-- 3&#45;&gt;8 -->\n<g id=\"edge6\" class=\"edge\">\n<title>3&#45;&gt;8</title>\n<path fill=\"none\" stroke=\"#ff0000\" d=\"M260.3868,-347.9735C263.1221,-336.0751 266.7599,-320.2508 269.861,-306.7606\"/>\n<polygon fill=\"#ff0000\" stroke=\"#ff0000\" points=\"273.2746,-307.5333 272.1041,-297.0034 266.4526,-305.965 273.2746,-307.5333\"/>\n<text text-anchor=\"middle\" x=\"276.2428\" y=\"-318.8\" font-family=\"Times,serif\" font-size=\"14.00\" fill=\"#000000\">no</text>\n</g>\n<!-- 9 -->\n<g id=\"node12\" class=\"node\">\n<title>9</title>\n<ellipse fill=\"none\" stroke=\"#000000\" cx=\"408.2428\" cy=\"-279\" rx=\"76.8869\" ry=\"18\"/>\n<text text-anchor=\"middle\" x=\"408.2428\" y=\"-275.3\" font-family=\"Times,serif\" font-size=\"14.00\" fill=\"#000000\">wind&lt;2.9000001</text>\n</g>\n<!-- 4&#45;&gt;9 -->\n<g id=\"edge11\" class=\"edge\">\n<title>4&#45;&gt;9</title>\n<path fill=\"none\" stroke=\"#0000ff\" d=\"M428.0628,-347.9735C424.6437,-336.0751 420.0965,-320.2508 416.22,-306.7606\"/>\n<polygon fill=\"#0000ff\" stroke=\"#0000ff\" points=\"419.5419,-305.6478 413.4162,-297.0034 412.8142,-307.5811 419.5419,-305.6478\"/>\n<text text-anchor=\"middle\" x=\"457.7428\" y=\"-318.8\" font-family=\"Times,serif\" font-size=\"14.00\" fill=\"#000000\">yes, missing</text>\n</g>\n<!-- 10 -->\n<g id=\"node13\" class=\"node\">\n<title>10</title>\n<ellipse fill=\"none\" stroke=\"#000000\" cx=\"540.2428\" cy=\"-279\" rx=\"37.0935\" ry=\"18\"/>\n<text text-anchor=\"middle\" x=\"540.2428\" y=\"-275.3\" font-family=\"Times,serif\" font-size=\"14.00\" fill=\"#000000\">leaf=&#45;0</text>\n</g>\n<!-- 4&#45;&gt;10 -->\n<g id=\"edge12\" class=\"edge\">\n<title>4&#45;&gt;10</title>\n<path fill=\"none\" stroke=\"#ff0000\" d=\"M467.9245,-349.4473C477.8695,-343.9363 488.4037,-337.3152 497.2428,-330 506.1677,-322.6138 514.6832,-313.213 521.7466,-304.4998\"/>\n<polygon fill=\"#ff0000\" stroke=\"#ff0000\" points=\"524.6412,-306.4797 528.0397,-296.4447 519.1251,-302.1701 524.6412,-306.4797\"/>\n<text text-anchor=\"middle\" x=\"520.2428\" y=\"-318.8\" font-family=\"Times,serif\" font-size=\"14.00\" fill=\"#000000\">no</text>\n</g>\n<!-- 13 -->\n<g id=\"node8\" class=\"node\">\n<title>13</title>\n<ellipse fill=\"none\" stroke=\"#000000\" cx=\"81.2428\" cy=\"-192\" rx=\"81.4863\" ry=\"18\"/>\n<text text-anchor=\"middle\" x=\"81.2428\" y=\"-188.3\" font-family=\"Times,serif\" font-size=\"14.00\" fill=\"#000000\">temp&lt;8.85000038</text>\n</g>\n<!-- 7&#45;&gt;13 -->\n<g id=\"edge7\" class=\"edge\">\n<title>7&#45;&gt;13</title>\n<path fill=\"none\" stroke=\"#0000ff\" d=\"M155.993,-265.5025C145.2822,-259.3727 133.12,-251.5737 123.2428,-243 114.7093,-235.5927 106.5238,-226.3338 99.6822,-217.7453\"/>\n<polygon fill=\"#0000ff\" stroke=\"#0000ff\" points=\"102.4395,-215.5893 93.567,-209.7988 96.8919,-219.8584 102.4395,-215.5893\"/>\n<text text-anchor=\"middle\" x=\"158.7428\" y=\"-231.8\" font-family=\"Times,serif\" font-size=\"14.00\" fill=\"#000000\">yes, missing</text>\n</g>\n<!-- 14 -->\n<g id=\"node9\" class=\"node\">\n<title>14</title>\n<ellipse fill=\"none\" stroke=\"#000000\" cx=\"217.2428\" cy=\"-192\" rx=\"37.0935\" ry=\"18\"/>\n<text text-anchor=\"middle\" x=\"217.2428\" y=\"-188.3\" font-family=\"Times,serif\" font-size=\"14.00\" fill=\"#000000\">leaf=&#45;0</text>\n</g>\n<!-- 7&#45;&gt;14 -->\n<g id=\"edge8\" class=\"edge\">\n<title>7&#45;&gt;14</title>\n<path fill=\"none\" stroke=\"#ff0000\" d=\"M189.4948,-260.9735C194.3607,-248.8784 200.8586,-232.7263 206.3432,-219.0934\"/>\n<polygon fill=\"#ff0000\" stroke=\"#ff0000\" points=\"209.6346,-220.2894 210.1198,-209.7057 203.1404,-217.6768 209.6346,-220.2894\"/>\n<text text-anchor=\"middle\" x=\"210.2428\" y=\"-231.8\" font-family=\"Times,serif\" font-size=\"14.00\" fill=\"#000000\">no</text>\n</g>\n<!-- 19 -->\n<g id=\"node10\" class=\"node\">\n<title>19</title>\n<ellipse fill=\"none\" stroke=\"#000000\" cx=\"68.2428\" cy=\"-105\" rx=\"37.0935\" ry=\"18\"/>\n<text text-anchor=\"middle\" x=\"68.2428\" y=\"-101.3\" font-family=\"Times,serif\" font-size=\"14.00\" fill=\"#000000\">leaf=&#45;0</text>\n</g>\n<!-- 13&#45;&gt;19 -->\n<g id=\"edge9\" class=\"edge\">\n<title>13&#45;&gt;19</title>\n<path fill=\"none\" stroke=\"#0000ff\" d=\"M78.5492,-173.9735C76.7887,-162.1918 74.453,-146.5607 72.4503,-133.1581\"/>\n<polygon fill=\"#0000ff\" stroke=\"#0000ff\" points=\"75.8724,-132.3763 70.9329,-123.0034 68.9493,-133.4108 75.8724,-132.3763\"/>\n<text text-anchor=\"middle\" x=\"111.7428\" y=\"-144.8\" font-family=\"Times,serif\" font-size=\"14.00\" fill=\"#000000\">yes, missing</text>\n</g>\n<!-- 20 -->\n<g id=\"node11\" class=\"node\">\n<title>20</title>\n<ellipse fill=\"none\" stroke=\"#000000\" cx=\"211.2428\" cy=\"-105\" rx=\"88.2844\" ry=\"18\"/>\n<text text-anchor=\"middle\" x=\"211.2428\" y=\"-101.3\" font-family=\"Times,serif\" font-size=\"14.00\" fill=\"#000000\">leaf=&#45;0.0757099018</text>\n</g>\n<!-- 13&#45;&gt;20 -->\n<g id=\"edge10\" class=\"edge\">\n<title>13&#45;&gt;20</title>\n<path fill=\"none\" stroke=\"#ff0000\" d=\"M116.6757,-175.7606C128.032,-170.0393 140.4534,-163.2203 151.2428,-156 162.8976,-148.2006 174.8458,-138.4632 184.9809,-129.5931\"/>\n<polygon fill=\"#ff0000\" stroke=\"#ff0000\" points=\"187.5517,-131.9899 192.6802,-122.719 182.8897,-126.7682 187.5517,-131.9899\"/>\n<text text-anchor=\"middle\" x=\"179.2428\" y=\"-144.8\" font-family=\"Times,serif\" font-size=\"14.00\" fill=\"#000000\">no</text>\n</g>\n<!-- 15 -->\n<g id=\"node14\" class=\"node\">\n<title>15</title>\n<ellipse fill=\"none\" stroke=\"#000000\" cx=\"315.2428\" cy=\"-192\" rx=\"37.0935\" ry=\"18\"/>\n<text text-anchor=\"middle\" x=\"315.2428\" y=\"-188.3\" font-family=\"Times,serif\" font-size=\"14.00\" fill=\"#000000\">leaf=&#45;0</text>\n</g>\n<!-- 9&#45;&gt;15 -->\n<g id=\"edge13\" class=\"edge\">\n<title>9&#45;&gt;15</title>\n<path fill=\"none\" stroke=\"#0000ff\" d=\"M375.8159,-262.6571C366.635,-257.152 357.0308,-250.4815 349.2428,-243 341.7246,-235.7777 334.9813,-226.6141 329.5209,-218.0529\"/>\n<polygon fill=\"#0000ff\" stroke=\"#0000ff\" points=\"332.4892,-216.1976 324.3162,-209.4557 326.5011,-219.8229 332.4892,-216.1976\"/>\n<text text-anchor=\"middle\" x=\"384.7428\" y=\"-231.8\" font-family=\"Times,serif\" font-size=\"14.00\" fill=\"#000000\">yes, missing</text>\n</g>\n<!-- 16 -->\n<g id=\"node15\" class=\"node\">\n<title>16</title>\n<ellipse fill=\"none\" stroke=\"#000000\" cx=\"443.2428\" cy=\"-192\" rx=\"73.387\" ry=\"18\"/>\n<text text-anchor=\"middle\" x=\"443.2428\" y=\"-188.3\" font-family=\"Times,serif\" font-size=\"14.00\" fill=\"#000000\">ISI&lt;12.3999996</text>\n</g>\n<!-- 9&#45;&gt;16 -->\n<g id=\"edge14\" class=\"edge\">\n<title>9&#45;&gt;16</title>\n<path fill=\"none\" stroke=\"#ff0000\" d=\"M415.4948,-260.9735C420.3285,-248.9585 426.7726,-232.9401 432.2341,-219.3646\"/>\n<polygon fill=\"#ff0000\" stroke=\"#ff0000\" points=\"435.5148,-220.5871 436.0001,-210.0034 429.0206,-217.9744 435.5148,-220.5871\"/>\n<text text-anchor=\"middle\" x=\"436.2428\" y=\"-231.8\" font-family=\"Times,serif\" font-size=\"14.00\" fill=\"#000000\">no</text>\n</g>\n<!-- 21 -->\n<g id=\"node16\" class=\"node\">\n<title>21</title>\n<ellipse fill=\"none\" stroke=\"#000000\" cx=\"388.2428\" cy=\"-105\" rx=\"38.9931\" ry=\"18\"/>\n<text text-anchor=\"middle\" x=\"388.2428\" y=\"-101.3\" font-family=\"Times,serif\" font-size=\"14.00\" fill=\"#000000\">RH&lt;21</text>\n</g>\n<!-- 16&#45;&gt;21 -->\n<g id=\"edge15\" class=\"edge\">\n<title>16&#45;&gt;21</title>\n<path fill=\"none\" stroke=\"#0000ff\" d=\"M405.8304,-176.4847C397.6156,-171.2382 389.967,-164.4926 385.2428,-156 381.4054,-149.1017 380.5988,-140.8357 381.1794,-132.9869\"/>\n<polygon fill=\"#0000ff\" stroke=\"#0000ff\" points=\"384.648,-133.4548 382.6036,-123.0591 377.719,-132.4608 384.648,-133.4548\"/>\n<text text-anchor=\"middle\" x=\"420.7428\" y=\"-144.8\" font-family=\"Times,serif\" font-size=\"14.00\" fill=\"#000000\">yes, missing</text>\n</g>\n<!-- 22 -->\n<g id=\"node17\" class=\"node\">\n<title>22</title>\n<ellipse fill=\"none\" stroke=\"#000000\" cx=\"482.2428\" cy=\"-105\" rx=\"37.0935\" ry=\"18\"/>\n<text text-anchor=\"middle\" x=\"482.2428\" y=\"-101.3\" font-family=\"Times,serif\" font-size=\"14.00\" fill=\"#000000\">leaf=&#45;0</text>\n</g>\n<!-- 16&#45;&gt;22 -->\n<g id=\"edge16\" class=\"edge\">\n<title>16&#45;&gt;22</title>\n<path fill=\"none\" stroke=\"#ff0000\" d=\"M451.8371,-174.1103C454.5661,-168.3478 457.5685,-161.9212 460.2428,-156 463.7033,-148.3379 467.3585,-139.9792 470.6744,-132.2872\"/>\n<polygon fill=\"#ff0000\" stroke=\"#ff0000\" points=\"473.931,-133.5734 474.6529,-123.0032 467.4969,-130.8162 473.931,-133.5734\"/>\n<text text-anchor=\"middle\" x=\"475.2428\" y=\"-144.8\" font-family=\"Times,serif\" font-size=\"14.00\" fill=\"#000000\">no</text>\n</g>\n<!-- 25 -->\n<g id=\"node18\" class=\"node\">\n<title>25</title>\n<ellipse fill=\"none\" stroke=\"#000000\" cx=\"268.2428\" cy=\"-18\" rx=\"37.0935\" ry=\"18\"/>\n<text text-anchor=\"middle\" x=\"268.2428\" y=\"-14.3\" font-family=\"Times,serif\" font-size=\"14.00\" fill=\"#000000\">leaf=&#45;0</text>\n</g>\n<!-- 21&#45;&gt;25 -->\n<g id=\"edge17\" class=\"edge\">\n<title>21&#45;&gt;25</title>\n<path fill=\"none\" stroke=\"#0000ff\" d=\"M360.4992,-92.2403C348.0269,-85.9723 333.4098,-77.8639 321.2428,-69 310.4379,-61.1284 299.6069,-51.1662 290.5781,-42.1394\"/>\n<polygon fill=\"#0000ff\" stroke=\"#0000ff\" points=\"292.9471,-39.5557 283.4578,-34.8435 287.9374,-44.4448 292.9471,-39.5557\"/>\n<text text-anchor=\"middle\" x=\"356.7428\" y=\"-57.8\" font-family=\"Times,serif\" font-size=\"14.00\" fill=\"#000000\">yes, missing</text>\n</g>\n<!-- 26 -->\n<g id=\"node19\" class=\"node\">\n<title>26</title>\n<ellipse fill=\"none\" stroke=\"#000000\" cx=\"404.2428\" cy=\"-18\" rx=\"80.6858\" ry=\"18\"/>\n<text text-anchor=\"middle\" x=\"404.2428\" y=\"-14.3\" font-family=\"Times,serif\" font-size=\"14.00\" fill=\"#000000\">leaf=0.136552379</text>\n</g>\n<!-- 21&#45;&gt;26 -->\n<g id=\"edge18\" class=\"edge\">\n<title>21&#45;&gt;26</title>\n<path fill=\"none\" stroke=\"#ff0000\" d=\"M391.558,-86.9735C393.7248,-75.1918 396.5995,-59.5607 399.0643,-46.1581\"/>\n<polygon fill=\"#ff0000\" stroke=\"#ff0000\" points=\"402.5653,-46.4715 400.9318,-36.0034 395.6807,-45.2053 402.5653,-46.4715\"/>\n<text text-anchor=\"middle\" x=\"405.2428\" y=\"-57.8\" font-family=\"Times,serif\" font-size=\"14.00\" fill=\"#000000\">no</text>\n</g>\n<!-- 11 -->\n<g id=\"node22\" class=\"node\">\n<title>11</title>\n<ellipse fill=\"none\" stroke=\"#000000\" cx=\"623.2428\" cy=\"-279\" rx=\"27.8951\" ry=\"18\"/>\n<text text-anchor=\"middle\" x=\"623.2428\" y=\"-275.3\" font-family=\"Times,serif\" font-size=\"14.00\" fill=\"#000000\">Y&lt;3</text>\n</g>\n<!-- 6&#45;&gt;11 -->\n<g id=\"edge21\" class=\"edge\">\n<title>6&#45;&gt;11</title>\n<path fill=\"none\" stroke=\"#0000ff\" d=\"M663.9943,-350.6877C654.0305,-345.4592 644.3228,-338.6712 637.2428,-330 631.9348,-323.4991 628.6325,-315.1386 626.5802,-307.0753\"/>\n<polygon fill=\"#0000ff\" stroke=\"#0000ff\" points=\"629.994,-306.2976 624.5924,-297.1831 623.1312,-307.6767 629.994,-306.2976\"/>\n<text text-anchor=\"middle\" x=\"672.7428\" y=\"-318.8\" font-family=\"Times,serif\" font-size=\"14.00\" fill=\"#000000\">yes, missing</text>\n</g>\n<!-- 12 -->\n<g id=\"node23\" class=\"node\">\n<title>12</title>\n<ellipse fill=\"none\" stroke=\"#000000\" cx=\"717.2428\" cy=\"-279\" rx=\"37.0935\" ry=\"18\"/>\n<text text-anchor=\"middle\" x=\"717.2428\" y=\"-275.3\" font-family=\"Times,serif\" font-size=\"14.00\" fill=\"#000000\">leaf=&#45;0</text>\n</g>\n<!-- 6&#45;&gt;12 -->\n<g id=\"edge22\" class=\"edge\">\n<title>6&#45;&gt;12</title>\n<path fill=\"none\" stroke=\"#ff0000\" d=\"M710.1076,-347.9735C711.3264,-336.1918 712.9434,-320.5607 714.3299,-307.1581\"/>\n<polygon fill=\"#ff0000\" stroke=\"#ff0000\" points=\"717.8327,-307.3105 715.3804,-297.0034 710.8699,-306.5901 717.8327,-307.3105\"/>\n<text text-anchor=\"middle\" x=\"722.2428\" y=\"-318.8\" font-family=\"Times,serif\" font-size=\"14.00\" fill=\"#000000\">no</text>\n</g>\n<!-- 17 -->\n<g id=\"node24\" class=\"node\">\n<title>17</title>\n<ellipse fill=\"none\" stroke=\"#000000\" cx=\"588.2428\" cy=\"-192\" rx=\"37.0935\" ry=\"18\"/>\n<text text-anchor=\"middle\" x=\"588.2428\" y=\"-188.3\" font-family=\"Times,serif\" font-size=\"14.00\" fill=\"#000000\">leaf=&#45;0</text>\n</g>\n<!-- 11&#45;&gt;17 -->\n<g id=\"edge23\" class=\"edge\">\n<title>11&#45;&gt;17</title>\n<path fill=\"none\" stroke=\"#0000ff\" d=\"M615.8444,-261.4523C613.398,-255.595 610.6795,-249.026 608.2428,-243 605.1689,-235.398 601.8969,-227.1317 598.909,-219.5109\"/>\n<polygon fill=\"#0000ff\" stroke=\"#0000ff\" points=\"602.0829,-218.0165 595.1852,-209.9745 595.5623,-220.5626 602.0829,-218.0165\"/>\n<text text-anchor=\"middle\" x=\"643.7428\" y=\"-231.8\" font-family=\"Times,serif\" font-size=\"14.00\" fill=\"#000000\">yes, missing</text>\n</g>\n<!-- 18 -->\n<g id=\"node25\" class=\"node\">\n<title>18</title>\n<ellipse fill=\"none\" stroke=\"#000000\" cx=\"720.2428\" cy=\"-192\" rx=\"76.8869\" ry=\"18\"/>\n<text text-anchor=\"middle\" x=\"720.2428\" y=\"-188.3\" font-family=\"Times,serif\" font-size=\"14.00\" fill=\"#000000\">wind&lt;5.1500001</text>\n</g>\n<!-- 11&#45;&gt;18 -->\n<g id=\"edge24\" class=\"edge\">\n<title>11&#45;&gt;18</title>\n<path fill=\"none\" stroke=\"#ff0000\" d=\"M644.8627,-267.3272C655.7656,-260.9062 668.8449,-252.3522 679.2428,-243 687.3516,-235.7067 695.1444,-226.7115 701.7179,-218.3164\"/>\n<polygon fill=\"#ff0000\" stroke=\"#ff0000\" points=\"704.6108,-220.2937 707.8516,-210.2067 699.0277,-216.0711 704.6108,-220.2937\"/>\n<text text-anchor=\"middle\" x=\"701.2428\" y=\"-231.8\" font-family=\"Times,serif\" font-size=\"14.00\" fill=\"#000000\">no</text>\n</g>\n<!-- 23 -->\n<g id=\"node26\" class=\"node\">\n<title>23</title>\n<ellipse fill=\"none\" stroke=\"#000000\" cx=\"664.2428\" cy=\"-105\" rx=\"40.0939\" ry=\"18\"/>\n<text text-anchor=\"middle\" x=\"664.2428\" y=\"-101.3\" font-family=\"Times,serif\" font-size=\"14.00\" fill=\"#000000\">wind&lt;2</text>\n</g>\n<!-- 18&#45;&gt;23 -->\n<g id=\"edge25\" class=\"edge\">\n<title>18&#45;&gt;23</title>\n<path fill=\"none\" stroke=\"#0000ff\" d=\"M682.5302,-176.2921C674.4295,-171.0734 666.9094,-164.389 662.2428,-156 658.4091,-149.1083 657.4827,-140.8444 657.9056,-132.9953\"/>\n<polygon fill=\"#0000ff\" stroke=\"#0000ff\" points=\"661.3803,-133.4144 659.1075,-123.0662 654.431,-132.5731 661.3803,-133.4144\"/>\n<text text-anchor=\"middle\" x=\"697.7428\" y=\"-144.8\" font-family=\"Times,serif\" font-size=\"14.00\" fill=\"#000000\">yes, missing</text>\n</g>\n<!-- 24 -->\n<g id=\"node27\" class=\"node\">\n<title>24</title>\n<ellipse fill=\"none\" stroke=\"#000000\" cx=\"759.2428\" cy=\"-105\" rx=\"37.0935\" ry=\"18\"/>\n<text text-anchor=\"middle\" x=\"759.2428\" y=\"-101.3\" font-family=\"Times,serif\" font-size=\"14.00\" fill=\"#000000\">leaf=&#45;0</text>\n</g>\n<!-- 18&#45;&gt;24 -->\n<g id=\"edge26\" class=\"edge\">\n<title>18&#45;&gt;24</title>\n<path fill=\"none\" stroke=\"#ff0000\" d=\"M728.8371,-174.1103C731.5661,-168.3478 734.5685,-161.9212 737.2428,-156 740.7033,-148.3379 744.3585,-139.9792 747.6744,-132.2872\"/>\n<polygon fill=\"#ff0000\" stroke=\"#ff0000\" points=\"750.931,-133.5734 751.6529,-123.0032 744.4969,-130.8162 750.931,-133.5734\"/>\n<text text-anchor=\"middle\" x=\"751.2428\" y=\"-144.8\" font-family=\"Times,serif\" font-size=\"14.00\" fill=\"#000000\">no</text>\n</g>\n<!-- 27 -->\n<g id=\"node28\" class=\"node\">\n<title>27</title>\n<ellipse fill=\"none\" stroke=\"#000000\" cx=\"567.2428\" cy=\"-18\" rx=\"37.0935\" ry=\"18\"/>\n<text text-anchor=\"middle\" x=\"567.2428\" y=\"-14.3\" font-family=\"Times,serif\" font-size=\"14.00\" fill=\"#000000\">leaf=&#45;0</text>\n</g>\n<!-- 23&#45;&gt;27 -->\n<g id=\"edge27\" class=\"edge\">\n<title>23&#45;&gt;27</title>\n<path fill=\"none\" stroke=\"#0000ff\" d=\"M638.2379,-91.1403C628.02,-85.0597 616.5373,-77.3935 607.2428,-69 598.975,-61.5337 591.1198,-52.215 584.5945,-43.5932\"/>\n<polygon fill=\"#0000ff\" stroke=\"#0000ff\" points=\"587.2661,-41.3164 578.5465,-35.2981 581.6098,-45.4404 587.2661,-41.3164\"/>\n<text text-anchor=\"middle\" x=\"642.7428\" y=\"-57.8\" font-family=\"Times,serif\" font-size=\"14.00\" fill=\"#000000\">yes, missing</text>\n</g>\n<!-- 28 -->\n<g id=\"node29\" class=\"node\">\n<title>28</title>\n<ellipse fill=\"none\" stroke=\"#000000\" cx=\"703.2428\" cy=\"-18\" rx=\"80.6858\" ry=\"18\"/>\n<text text-anchor=\"middle\" x=\"703.2428\" y=\"-14.3\" font-family=\"Times,serif\" font-size=\"14.00\" fill=\"#000000\">leaf=0.209519207</text>\n</g>\n<!-- 23&#45;&gt;28 -->\n<g id=\"edge28\" class=\"edge\">\n<title>23&#45;&gt;28</title>\n<path fill=\"none\" stroke=\"#ff0000\" d=\"M672.3236,-86.9735C677.7097,-74.9585 684.8903,-58.9401 690.9759,-45.3646\"/>\n<polygon fill=\"#ff0000\" stroke=\"#ff0000\" points=\"694.2755,-46.5602 695.1723,-36.0034 687.8879,-43.6967 694.2755,-46.5602\"/>\n<text text-anchor=\"middle\" x=\"694.2428\" y=\"-57.8\" font-family=\"Times,serif\" font-size=\"14.00\" fill=\"#000000\">no</text>\n</g>\n</g>\n</svg>\n"
          },
          "metadata": {
            "tags": []
          },
          "execution_count": 226
        }
      ]
    }
  ]
}